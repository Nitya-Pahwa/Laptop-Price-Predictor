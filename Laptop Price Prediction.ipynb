{
 "cells": [
  {
   "cell_type": "code",
   "execution_count": 1,
   "id": "20161004-7dd1-4135-a45b-30c930a39537",
   "metadata": {},
   "outputs": [],
   "source": [
    "import numpy as np\n",
    "import pandas as pd"
   ]
  },
  {
   "cell_type": "markdown",
   "id": "c795ce5b-0223-49f3-9ee4-64d1b950f363",
   "metadata": {},
   "source": [
    "Loading the dataset"
   ]
  },
  {
   "cell_type": "code",
   "execution_count": 2,
   "id": "853db3da-cfc5-47ce-bc3e-1b03cfc9144b",
   "metadata": {},
   "outputs": [],
   "source": [
    "data=pd.read_csv('laptop_data.csv')"
   ]
  },
  {
   "cell_type": "code",
   "execution_count": 3,
   "id": "f1007bbc-f7de-4203-b03d-a2f51216c0ff",
   "metadata": {},
   "outputs": [
    {
     "data": {
      "text/html": [
       "<div>\n",
       "<style scoped>\n",
       "    .dataframe tbody tr th:only-of-type {\n",
       "        vertical-align: middle;\n",
       "    }\n",
       "\n",
       "    .dataframe tbody tr th {\n",
       "        vertical-align: top;\n",
       "    }\n",
       "\n",
       "    .dataframe thead th {\n",
       "        text-align: right;\n",
       "    }\n",
       "</style>\n",
       "<table border=\"1\" class=\"dataframe\">\n",
       "  <thead>\n",
       "    <tr style=\"text-align: right;\">\n",
       "      <th></th>\n",
       "      <th>Unnamed: 0</th>\n",
       "      <th>Company</th>\n",
       "      <th>TypeName</th>\n",
       "      <th>Inches</th>\n",
       "      <th>ScreenResolution</th>\n",
       "      <th>Cpu</th>\n",
       "      <th>Ram</th>\n",
       "      <th>Memory</th>\n",
       "      <th>Gpu</th>\n",
       "      <th>OpSys</th>\n",
       "      <th>Weight</th>\n",
       "      <th>Price</th>\n",
       "    </tr>\n",
       "  </thead>\n",
       "  <tbody>\n",
       "    <tr>\n",
       "      <th>0</th>\n",
       "      <td>0</td>\n",
       "      <td>Apple</td>\n",
       "      <td>Ultrabook</td>\n",
       "      <td>13.3</td>\n",
       "      <td>IPS Panel Retina Display 2560x1600</td>\n",
       "      <td>Intel Core i5 2.3GHz</td>\n",
       "      <td>8GB</td>\n",
       "      <td>128GB SSD</td>\n",
       "      <td>Intel Iris Plus Graphics 640</td>\n",
       "      <td>macOS</td>\n",
       "      <td>1.37kg</td>\n",
       "      <td>71378.6832</td>\n",
       "    </tr>\n",
       "    <tr>\n",
       "      <th>1</th>\n",
       "      <td>1</td>\n",
       "      <td>Apple</td>\n",
       "      <td>Ultrabook</td>\n",
       "      <td>13.3</td>\n",
       "      <td>1440x900</td>\n",
       "      <td>Intel Core i5 1.8GHz</td>\n",
       "      <td>8GB</td>\n",
       "      <td>128GB Flash Storage</td>\n",
       "      <td>Intel HD Graphics 6000</td>\n",
       "      <td>macOS</td>\n",
       "      <td>1.34kg</td>\n",
       "      <td>47895.5232</td>\n",
       "    </tr>\n",
       "    <tr>\n",
       "      <th>2</th>\n",
       "      <td>2</td>\n",
       "      <td>HP</td>\n",
       "      <td>Notebook</td>\n",
       "      <td>15.6</td>\n",
       "      <td>Full HD 1920x1080</td>\n",
       "      <td>Intel Core i5 7200U 2.5GHz</td>\n",
       "      <td>8GB</td>\n",
       "      <td>256GB SSD</td>\n",
       "      <td>Intel HD Graphics 620</td>\n",
       "      <td>No OS</td>\n",
       "      <td>1.86kg</td>\n",
       "      <td>30636.0000</td>\n",
       "    </tr>\n",
       "    <tr>\n",
       "      <th>3</th>\n",
       "      <td>3</td>\n",
       "      <td>Apple</td>\n",
       "      <td>Ultrabook</td>\n",
       "      <td>15.4</td>\n",
       "      <td>IPS Panel Retina Display 2880x1800</td>\n",
       "      <td>Intel Core i7 2.7GHz</td>\n",
       "      <td>16GB</td>\n",
       "      <td>512GB SSD</td>\n",
       "      <td>AMD Radeon Pro 455</td>\n",
       "      <td>macOS</td>\n",
       "      <td>1.83kg</td>\n",
       "      <td>135195.3360</td>\n",
       "    </tr>\n",
       "    <tr>\n",
       "      <th>4</th>\n",
       "      <td>4</td>\n",
       "      <td>Apple</td>\n",
       "      <td>Ultrabook</td>\n",
       "      <td>13.3</td>\n",
       "      <td>IPS Panel Retina Display 2560x1600</td>\n",
       "      <td>Intel Core i5 3.1GHz</td>\n",
       "      <td>8GB</td>\n",
       "      <td>256GB SSD</td>\n",
       "      <td>Intel Iris Plus Graphics 650</td>\n",
       "      <td>macOS</td>\n",
       "      <td>1.37kg</td>\n",
       "      <td>96095.8080</td>\n",
       "    </tr>\n",
       "  </tbody>\n",
       "</table>\n",
       "</div>"
      ],
      "text/plain": [
       "   Unnamed: 0 Company   TypeName  Inches                    ScreenResolution  \\\n",
       "0           0   Apple  Ultrabook    13.3  IPS Panel Retina Display 2560x1600   \n",
       "1           1   Apple  Ultrabook    13.3                            1440x900   \n",
       "2           2      HP   Notebook    15.6                   Full HD 1920x1080   \n",
       "3           3   Apple  Ultrabook    15.4  IPS Panel Retina Display 2880x1800   \n",
       "4           4   Apple  Ultrabook    13.3  IPS Panel Retina Display 2560x1600   \n",
       "\n",
       "                          Cpu   Ram               Memory  \\\n",
       "0        Intel Core i5 2.3GHz   8GB            128GB SSD   \n",
       "1        Intel Core i5 1.8GHz   8GB  128GB Flash Storage   \n",
       "2  Intel Core i5 7200U 2.5GHz   8GB            256GB SSD   \n",
       "3        Intel Core i7 2.7GHz  16GB            512GB SSD   \n",
       "4        Intel Core i5 3.1GHz   8GB            256GB SSD   \n",
       "\n",
       "                            Gpu  OpSys  Weight        Price  \n",
       "0  Intel Iris Plus Graphics 640  macOS  1.37kg   71378.6832  \n",
       "1        Intel HD Graphics 6000  macOS  1.34kg   47895.5232  \n",
       "2         Intel HD Graphics 620  No OS  1.86kg   30636.0000  \n",
       "3            AMD Radeon Pro 455  macOS  1.83kg  135195.3360  \n",
       "4  Intel Iris Plus Graphics 650  macOS  1.37kg   96095.8080  "
      ]
     },
     "execution_count": 3,
     "metadata": {},
     "output_type": "execute_result"
    }
   ],
   "source": [
    "data.head()"
   ]
  },
  {
   "cell_type": "code",
   "execution_count": 4,
   "id": "a24d321b-65dd-4249-ab5c-0c4ed4c05d0e",
   "metadata": {},
   "outputs": [
    {
     "data": {
      "text/html": [
       "<div>\n",
       "<style scoped>\n",
       "    .dataframe tbody tr th:only-of-type {\n",
       "        vertical-align: middle;\n",
       "    }\n",
       "\n",
       "    .dataframe tbody tr th {\n",
       "        vertical-align: top;\n",
       "    }\n",
       "\n",
       "    .dataframe thead th {\n",
       "        text-align: right;\n",
       "    }\n",
       "</style>\n",
       "<table border=\"1\" class=\"dataframe\">\n",
       "  <thead>\n",
       "    <tr style=\"text-align: right;\">\n",
       "      <th></th>\n",
       "      <th>Unnamed: 0</th>\n",
       "      <th>Inches</th>\n",
       "      <th>Price</th>\n",
       "    </tr>\n",
       "  </thead>\n",
       "  <tbody>\n",
       "    <tr>\n",
       "      <th>count</th>\n",
       "      <td>1303.00000</td>\n",
       "      <td>1303.000000</td>\n",
       "      <td>1303.000000</td>\n",
       "    </tr>\n",
       "    <tr>\n",
       "      <th>mean</th>\n",
       "      <td>651.00000</td>\n",
       "      <td>15.017191</td>\n",
       "      <td>59870.042910</td>\n",
       "    </tr>\n",
       "    <tr>\n",
       "      <th>std</th>\n",
       "      <td>376.28801</td>\n",
       "      <td>1.426304</td>\n",
       "      <td>37243.201786</td>\n",
       "    </tr>\n",
       "    <tr>\n",
       "      <th>min</th>\n",
       "      <td>0.00000</td>\n",
       "      <td>10.100000</td>\n",
       "      <td>9270.720000</td>\n",
       "    </tr>\n",
       "    <tr>\n",
       "      <th>25%</th>\n",
       "      <td>325.50000</td>\n",
       "      <td>14.000000</td>\n",
       "      <td>31914.720000</td>\n",
       "    </tr>\n",
       "    <tr>\n",
       "      <th>50%</th>\n",
       "      <td>651.00000</td>\n",
       "      <td>15.600000</td>\n",
       "      <td>52054.560000</td>\n",
       "    </tr>\n",
       "    <tr>\n",
       "      <th>75%</th>\n",
       "      <td>976.50000</td>\n",
       "      <td>15.600000</td>\n",
       "      <td>79274.246400</td>\n",
       "    </tr>\n",
       "    <tr>\n",
       "      <th>max</th>\n",
       "      <td>1302.00000</td>\n",
       "      <td>18.400000</td>\n",
       "      <td>324954.720000</td>\n",
       "    </tr>\n",
       "  </tbody>\n",
       "</table>\n",
       "</div>"
      ],
      "text/plain": [
       "       Unnamed: 0       Inches          Price\n",
       "count  1303.00000  1303.000000    1303.000000\n",
       "mean    651.00000    15.017191   59870.042910\n",
       "std     376.28801     1.426304   37243.201786\n",
       "min       0.00000    10.100000    9270.720000\n",
       "25%     325.50000    14.000000   31914.720000\n",
       "50%     651.00000    15.600000   52054.560000\n",
       "75%     976.50000    15.600000   79274.246400\n",
       "max    1302.00000    18.400000  324954.720000"
      ]
     },
     "execution_count": 4,
     "metadata": {},
     "output_type": "execute_result"
    }
   ],
   "source": [
    "data.describe()"
   ]
  },
  {
   "cell_type": "code",
   "execution_count": 5,
   "id": "e5e1a817-5ecb-43b5-880c-acf2b4fe0670",
   "metadata": {},
   "outputs": [
    {
     "data": {
      "text/plain": [
       "(1303, 12)"
      ]
     },
     "execution_count": 5,
     "metadata": {},
     "output_type": "execute_result"
    }
   ],
   "source": [
    "data.shape"
   ]
  },
  {
   "cell_type": "markdown",
   "id": "c322277a-2df1-49cd-9fcf-cfa8903a9583",
   "metadata": {
    "scrolled": true
   },
   "source": [
    "data.info()"
   ]
  },
  {
   "cell_type": "markdown",
   "id": "4d4126e4-6c90-465b-9f11-077cc3762678",
   "metadata": {},
   "source": [
    "Checking for duplicate values"
   ]
  },
  {
   "cell_type": "code",
   "execution_count": 6,
   "id": "5564b344-c36f-46ec-8712-10f138831829",
   "metadata": {},
   "outputs": [
    {
     "data": {
      "text/plain": [
       "np.int64(0)"
      ]
     },
     "execution_count": 6,
     "metadata": {},
     "output_type": "execute_result"
    }
   ],
   "source": [
    "data.duplicated().sum()"
   ]
  },
  {
   "cell_type": "markdown",
   "id": "40ab5eae-b9f6-47be-b6ae-222afed3cde3",
   "metadata": {},
   "source": [
    "It means there is no duplicate rows in the dataset"
   ]
  },
  {
   "cell_type": "markdown",
   "id": "ade59801-c1d8-4ef6-a511-3babb15cb010",
   "metadata": {},
   "source": [
    "Checking for missing values"
   ]
  },
  {
   "cell_type": "code",
   "execution_count": 7,
   "id": "8f991efa-d3a0-4363-adfb-04c411ba534e",
   "metadata": {},
   "outputs": [
    {
     "data": {
      "text/plain": [
       "Unnamed: 0          0\n",
       "Company             0\n",
       "TypeName            0\n",
       "Inches              0\n",
       "ScreenResolution    0\n",
       "Cpu                 0\n",
       "Ram                 0\n",
       "Memory              0\n",
       "Gpu                 0\n",
       "OpSys               0\n",
       "Weight              0\n",
       "Price               0\n",
       "dtype: int64"
      ]
     },
     "execution_count": 7,
     "metadata": {},
     "output_type": "execute_result"
    }
   ],
   "source": [
    "data.isnull().sum()"
   ]
  },
  {
   "cell_type": "markdown",
   "id": "b792e0d9-6745-478f-b33c-1ab6978d0585",
   "metadata": {},
   "source": [
    "There are no null values in any column"
   ]
  },
  {
   "cell_type": "markdown",
   "id": "dd75ad4c-912b-42b0-b404-ba82249aa33f",
   "metadata": {},
   "source": [
    "Data Processing"
   ]
  },
  {
   "cell_type": "markdown",
   "id": "97104ae1-5be8-49f5-bd80-89e4e0473a9d",
   "metadata": {},
   "source": [
    "Removing the column named Unnamed"
   ]
  },
  {
   "cell_type": "code",
   "execution_count": 8,
   "id": "c14aaa7f-d752-43bc-bbce-aa9c6cdd7751",
   "metadata": {},
   "outputs": [],
   "source": [
    "data.drop(columns=['Unnamed: 0'],inplace=True)"
   ]
  },
  {
   "cell_type": "code",
   "execution_count": 9,
   "id": "410b840c-a02d-4b9a-b00a-01670d22ab1c",
   "metadata": {},
   "outputs": [
    {
     "data": {
      "text/html": [
       "<div>\n",
       "<style scoped>\n",
       "    .dataframe tbody tr th:only-of-type {\n",
       "        vertical-align: middle;\n",
       "    }\n",
       "\n",
       "    .dataframe tbody tr th {\n",
       "        vertical-align: top;\n",
       "    }\n",
       "\n",
       "    .dataframe thead th {\n",
       "        text-align: right;\n",
       "    }\n",
       "</style>\n",
       "<table border=\"1\" class=\"dataframe\">\n",
       "  <thead>\n",
       "    <tr style=\"text-align: right;\">\n",
       "      <th></th>\n",
       "      <th>Company</th>\n",
       "      <th>TypeName</th>\n",
       "      <th>Inches</th>\n",
       "      <th>ScreenResolution</th>\n",
       "      <th>Cpu</th>\n",
       "      <th>Ram</th>\n",
       "      <th>Memory</th>\n",
       "      <th>Gpu</th>\n",
       "      <th>OpSys</th>\n",
       "      <th>Weight</th>\n",
       "      <th>Price</th>\n",
       "    </tr>\n",
       "  </thead>\n",
       "  <tbody>\n",
       "    <tr>\n",
       "      <th>0</th>\n",
       "      <td>Apple</td>\n",
       "      <td>Ultrabook</td>\n",
       "      <td>13.3</td>\n",
       "      <td>IPS Panel Retina Display 2560x1600</td>\n",
       "      <td>Intel Core i5 2.3GHz</td>\n",
       "      <td>8GB</td>\n",
       "      <td>128GB SSD</td>\n",
       "      <td>Intel Iris Plus Graphics 640</td>\n",
       "      <td>macOS</td>\n",
       "      <td>1.37kg</td>\n",
       "      <td>71378.6832</td>\n",
       "    </tr>\n",
       "    <tr>\n",
       "      <th>1</th>\n",
       "      <td>Apple</td>\n",
       "      <td>Ultrabook</td>\n",
       "      <td>13.3</td>\n",
       "      <td>1440x900</td>\n",
       "      <td>Intel Core i5 1.8GHz</td>\n",
       "      <td>8GB</td>\n",
       "      <td>128GB Flash Storage</td>\n",
       "      <td>Intel HD Graphics 6000</td>\n",
       "      <td>macOS</td>\n",
       "      <td>1.34kg</td>\n",
       "      <td>47895.5232</td>\n",
       "    </tr>\n",
       "    <tr>\n",
       "      <th>2</th>\n",
       "      <td>HP</td>\n",
       "      <td>Notebook</td>\n",
       "      <td>15.6</td>\n",
       "      <td>Full HD 1920x1080</td>\n",
       "      <td>Intel Core i5 7200U 2.5GHz</td>\n",
       "      <td>8GB</td>\n",
       "      <td>256GB SSD</td>\n",
       "      <td>Intel HD Graphics 620</td>\n",
       "      <td>No OS</td>\n",
       "      <td>1.86kg</td>\n",
       "      <td>30636.0000</td>\n",
       "    </tr>\n",
       "    <tr>\n",
       "      <th>3</th>\n",
       "      <td>Apple</td>\n",
       "      <td>Ultrabook</td>\n",
       "      <td>15.4</td>\n",
       "      <td>IPS Panel Retina Display 2880x1800</td>\n",
       "      <td>Intel Core i7 2.7GHz</td>\n",
       "      <td>16GB</td>\n",
       "      <td>512GB SSD</td>\n",
       "      <td>AMD Radeon Pro 455</td>\n",
       "      <td>macOS</td>\n",
       "      <td>1.83kg</td>\n",
       "      <td>135195.3360</td>\n",
       "    </tr>\n",
       "    <tr>\n",
       "      <th>4</th>\n",
       "      <td>Apple</td>\n",
       "      <td>Ultrabook</td>\n",
       "      <td>13.3</td>\n",
       "      <td>IPS Panel Retina Display 2560x1600</td>\n",
       "      <td>Intel Core i5 3.1GHz</td>\n",
       "      <td>8GB</td>\n",
       "      <td>256GB SSD</td>\n",
       "      <td>Intel Iris Plus Graphics 650</td>\n",
       "      <td>macOS</td>\n",
       "      <td>1.37kg</td>\n",
       "      <td>96095.8080</td>\n",
       "    </tr>\n",
       "  </tbody>\n",
       "</table>\n",
       "</div>"
      ],
      "text/plain": [
       "  Company   TypeName  Inches                    ScreenResolution  \\\n",
       "0   Apple  Ultrabook    13.3  IPS Panel Retina Display 2560x1600   \n",
       "1   Apple  Ultrabook    13.3                            1440x900   \n",
       "2      HP   Notebook    15.6                   Full HD 1920x1080   \n",
       "3   Apple  Ultrabook    15.4  IPS Panel Retina Display 2880x1800   \n",
       "4   Apple  Ultrabook    13.3  IPS Panel Retina Display 2560x1600   \n",
       "\n",
       "                          Cpu   Ram               Memory  \\\n",
       "0        Intel Core i5 2.3GHz   8GB            128GB SSD   \n",
       "1        Intel Core i5 1.8GHz   8GB  128GB Flash Storage   \n",
       "2  Intel Core i5 7200U 2.5GHz   8GB            256GB SSD   \n",
       "3        Intel Core i7 2.7GHz  16GB            512GB SSD   \n",
       "4        Intel Core i5 3.1GHz   8GB            256GB SSD   \n",
       "\n",
       "                            Gpu  OpSys  Weight        Price  \n",
       "0  Intel Iris Plus Graphics 640  macOS  1.37kg   71378.6832  \n",
       "1        Intel HD Graphics 6000  macOS  1.34kg   47895.5232  \n",
       "2         Intel HD Graphics 620  No OS  1.86kg   30636.0000  \n",
       "3            AMD Radeon Pro 455  macOS  1.83kg  135195.3360  \n",
       "4  Intel Iris Plus Graphics 650  macOS  1.37kg   96095.8080  "
      ]
     },
     "execution_count": 9,
     "metadata": {},
     "output_type": "execute_result"
    }
   ],
   "source": [
    "data.head()"
   ]
  },
  {
   "cell_type": "markdown",
   "id": "2d0578ff-e412-4227-bf94-7e325a49c95d",
   "metadata": {},
   "source": [
    "In RAM column removing the term GB and making it an integer"
   ]
  },
  {
   "cell_type": "code",
   "execution_count": 10,
   "id": "1bcb7154-1e66-4077-8bbc-a1c732381ae3",
   "metadata": {},
   "outputs": [],
   "source": [
    "data['Ram']=data['Ram'].str.replace('GB','')  #replacing the term GB with nothing"
   ]
  },
  {
   "cell_type": "markdown",
   "id": "4fe6850d-9c64-4b5d-be03-66c5abc97539",
   "metadata": {},
   "source": [
    "Making Ram column integer type"
   ]
  },
  {
   "cell_type": "code",
   "execution_count": 11,
   "id": "7b9f7af3-95ee-45ac-bd44-a858aa836346",
   "metadata": {},
   "outputs": [],
   "source": [
    "data['Ram']=data['Ram'].astype('int32')"
   ]
  },
  {
   "cell_type": "markdown",
   "id": "f8cf0bb8-7ec0-4f08-9b73-f148f0074e58",
   "metadata": {},
   "source": [
    "Removing Kg from Weight column"
   ]
  },
  {
   "cell_type": "code",
   "execution_count": 12,
   "id": "a73420cf-20ba-48d8-b267-a419cc0334e0",
   "metadata": {},
   "outputs": [],
   "source": [
    "data['Weight']=data['Weight'].str.replace('kg','')"
   ]
  },
  {
   "cell_type": "markdown",
   "id": "06f886d9-52fc-4c07-9ded-c86c2eca0fd7",
   "metadata": {},
   "source": [
    "Making weight column as float"
   ]
  },
  {
   "cell_type": "code",
   "execution_count": 13,
   "id": "6ed12155-48ed-4771-ac0d-cc8ad7451e4d",
   "metadata": {},
   "outputs": [],
   "source": [
    "data['Weight']=data['Weight'].astype('float32')"
   ]
  },
  {
   "cell_type": "code",
   "execution_count": 14,
   "id": "80baf962-dad1-4301-bf61-52cbe56158e5",
   "metadata": {},
   "outputs": [
    {
     "data": {
      "text/html": [
       "<div>\n",
       "<style scoped>\n",
       "    .dataframe tbody tr th:only-of-type {\n",
       "        vertical-align: middle;\n",
       "    }\n",
       "\n",
       "    .dataframe tbody tr th {\n",
       "        vertical-align: top;\n",
       "    }\n",
       "\n",
       "    .dataframe thead th {\n",
       "        text-align: right;\n",
       "    }\n",
       "</style>\n",
       "<table border=\"1\" class=\"dataframe\">\n",
       "  <thead>\n",
       "    <tr style=\"text-align: right;\">\n",
       "      <th></th>\n",
       "      <th>Company</th>\n",
       "      <th>TypeName</th>\n",
       "      <th>Inches</th>\n",
       "      <th>ScreenResolution</th>\n",
       "      <th>Cpu</th>\n",
       "      <th>Ram</th>\n",
       "      <th>Memory</th>\n",
       "      <th>Gpu</th>\n",
       "      <th>OpSys</th>\n",
       "      <th>Weight</th>\n",
       "      <th>Price</th>\n",
       "    </tr>\n",
       "  </thead>\n",
       "  <tbody>\n",
       "    <tr>\n",
       "      <th>0</th>\n",
       "      <td>Apple</td>\n",
       "      <td>Ultrabook</td>\n",
       "      <td>13.3</td>\n",
       "      <td>IPS Panel Retina Display 2560x1600</td>\n",
       "      <td>Intel Core i5 2.3GHz</td>\n",
       "      <td>8</td>\n",
       "      <td>128GB SSD</td>\n",
       "      <td>Intel Iris Plus Graphics 640</td>\n",
       "      <td>macOS</td>\n",
       "      <td>1.37</td>\n",
       "      <td>71378.6832</td>\n",
       "    </tr>\n",
       "    <tr>\n",
       "      <th>1</th>\n",
       "      <td>Apple</td>\n",
       "      <td>Ultrabook</td>\n",
       "      <td>13.3</td>\n",
       "      <td>1440x900</td>\n",
       "      <td>Intel Core i5 1.8GHz</td>\n",
       "      <td>8</td>\n",
       "      <td>128GB Flash Storage</td>\n",
       "      <td>Intel HD Graphics 6000</td>\n",
       "      <td>macOS</td>\n",
       "      <td>1.34</td>\n",
       "      <td>47895.5232</td>\n",
       "    </tr>\n",
       "    <tr>\n",
       "      <th>2</th>\n",
       "      <td>HP</td>\n",
       "      <td>Notebook</td>\n",
       "      <td>15.6</td>\n",
       "      <td>Full HD 1920x1080</td>\n",
       "      <td>Intel Core i5 7200U 2.5GHz</td>\n",
       "      <td>8</td>\n",
       "      <td>256GB SSD</td>\n",
       "      <td>Intel HD Graphics 620</td>\n",
       "      <td>No OS</td>\n",
       "      <td>1.86</td>\n",
       "      <td>30636.0000</td>\n",
       "    </tr>\n",
       "    <tr>\n",
       "      <th>3</th>\n",
       "      <td>Apple</td>\n",
       "      <td>Ultrabook</td>\n",
       "      <td>15.4</td>\n",
       "      <td>IPS Panel Retina Display 2880x1800</td>\n",
       "      <td>Intel Core i7 2.7GHz</td>\n",
       "      <td>16</td>\n",
       "      <td>512GB SSD</td>\n",
       "      <td>AMD Radeon Pro 455</td>\n",
       "      <td>macOS</td>\n",
       "      <td>1.83</td>\n",
       "      <td>135195.3360</td>\n",
       "    </tr>\n",
       "    <tr>\n",
       "      <th>4</th>\n",
       "      <td>Apple</td>\n",
       "      <td>Ultrabook</td>\n",
       "      <td>13.3</td>\n",
       "      <td>IPS Panel Retina Display 2560x1600</td>\n",
       "      <td>Intel Core i5 3.1GHz</td>\n",
       "      <td>8</td>\n",
       "      <td>256GB SSD</td>\n",
       "      <td>Intel Iris Plus Graphics 650</td>\n",
       "      <td>macOS</td>\n",
       "      <td>1.37</td>\n",
       "      <td>96095.8080</td>\n",
       "    </tr>\n",
       "  </tbody>\n",
       "</table>\n",
       "</div>"
      ],
      "text/plain": [
       "  Company   TypeName  Inches                    ScreenResolution  \\\n",
       "0   Apple  Ultrabook    13.3  IPS Panel Retina Display 2560x1600   \n",
       "1   Apple  Ultrabook    13.3                            1440x900   \n",
       "2      HP   Notebook    15.6                   Full HD 1920x1080   \n",
       "3   Apple  Ultrabook    15.4  IPS Panel Retina Display 2880x1800   \n",
       "4   Apple  Ultrabook    13.3  IPS Panel Retina Display 2560x1600   \n",
       "\n",
       "                          Cpu  Ram               Memory  \\\n",
       "0        Intel Core i5 2.3GHz    8            128GB SSD   \n",
       "1        Intel Core i5 1.8GHz    8  128GB Flash Storage   \n",
       "2  Intel Core i5 7200U 2.5GHz    8            256GB SSD   \n",
       "3        Intel Core i7 2.7GHz   16            512GB SSD   \n",
       "4        Intel Core i5 3.1GHz    8            256GB SSD   \n",
       "\n",
       "                            Gpu  OpSys  Weight        Price  \n",
       "0  Intel Iris Plus Graphics 640  macOS    1.37   71378.6832  \n",
       "1        Intel HD Graphics 6000  macOS    1.34   47895.5232  \n",
       "2         Intel HD Graphics 620  No OS    1.86   30636.0000  \n",
       "3            AMD Radeon Pro 455  macOS    1.83  135195.3360  \n",
       "4  Intel Iris Plus Graphics 650  macOS    1.37   96095.8080  "
      ]
     },
     "execution_count": 14,
     "metadata": {},
     "output_type": "execute_result"
    }
   ],
   "source": [
    "data.head()"
   ]
  },
  {
   "cell_type": "code",
   "execution_count": 15,
   "id": "443aab2e-5884-4516-93ab-d6f2fb34ab1a",
   "metadata": {},
   "outputs": [
    {
     "name": "stdout",
     "output_type": "stream",
     "text": [
      "<class 'pandas.core.frame.DataFrame'>\n",
      "RangeIndex: 1303 entries, 0 to 1302\n",
      "Data columns (total 11 columns):\n",
      " #   Column            Non-Null Count  Dtype  \n",
      "---  ------            --------------  -----  \n",
      " 0   Company           1303 non-null   object \n",
      " 1   TypeName          1303 non-null   object \n",
      " 2   Inches            1303 non-null   float64\n",
      " 3   ScreenResolution  1303 non-null   object \n",
      " 4   Cpu               1303 non-null   object \n",
      " 5   Ram               1303 non-null   int32  \n",
      " 6   Memory            1303 non-null   object \n",
      " 7   Gpu               1303 non-null   object \n",
      " 8   OpSys             1303 non-null   object \n",
      " 9   Weight            1303 non-null   float32\n",
      " 10  Price             1303 non-null   float64\n",
      "dtypes: float32(1), float64(2), int32(1), object(7)\n",
      "memory usage: 101.9+ KB\n"
     ]
    }
   ],
   "source": [
    "data.info()"
   ]
  },
  {
   "cell_type": "markdown",
   "id": "5cd9e67d-ca0f-47e8-b5e0-84589e6ce478",
   "metadata": {},
   "source": [
    "Data Analysis"
   ]
  },
  {
   "cell_type": "code",
   "execution_count": 16,
   "id": "56d05621-d3b4-4c3a-b52f-ec150398ce50",
   "metadata": {},
   "outputs": [],
   "source": [
    "import seaborn as sns"
   ]
  },
  {
   "cell_type": "code",
   "execution_count": 17,
   "id": "ec88cf79-76d1-4af0-9e71-b4e60cbba7fc",
   "metadata": {},
   "outputs": [
    {
     "name": "stderr",
     "output_type": "stream",
     "text": [
      "C:\\Users\\Hp\\AppData\\Local\\Temp\\ipykernel_13184\\4196895882.py:1: UserWarning: \n",
      "\n",
      "`distplot` is a deprecated function and will be removed in seaborn v0.14.0.\n",
      "\n",
      "Please adapt your code to use either `displot` (a figure-level function with\n",
      "similar flexibility) or `histplot` (an axes-level function for histograms).\n",
      "\n",
      "For a guide to updating your code to use the new functions, please see\n",
      "https://gist.github.com/mwaskom/de44147ed2974457ad6372750bbe5751\n",
      "\n",
      "  sns.distplot(data['Price'])\n"
     ]
    },
    {
     "data": {
      "text/plain": [
       "<Axes: xlabel='Price', ylabel='Density'>"
      ]
     },
     "execution_count": 17,
     "metadata": {},
     "output_type": "execute_result"
    },
    {
     "data": {
      "image/png": "[encoded data removed]",
      "text/plain": [
       "<Figure size 640x480 with 1 Axes>"
      ]
     },
     "metadata": {},
     "output_type": "display_data"
    }
   ],
   "source": [
    "sns.distplot(data['Price'])"
   ]
  },
  {
   "cell_type": "markdown",
   "id": "f90c033b-f494-4a1d-9621-9ef6743227be",
   "metadata": {},
   "source": [
    "This data is somewhat sequed"
   ]
  },
  {
   "cell_type": "code",
   "execution_count": 18,
   "id": "7db19fe9-9bb9-40fe-b409-9c6d6982062b",
   "metadata": {},
   "outputs": [
    {
     "data": {
      "text/plain": [
       "<Axes: xlabel='Company'>"
      ]
     },
     "execution_count": 18,
     "metadata": {},
     "output_type": "execute_result"
    },
    {
     "data": {
      "image/png": "[encoded data removed]",
      "text/plain": [
       "<Figure size 640x480 with 1 Axes>"
      ]
     },
     "metadata": {},
     "output_type": "display_data"
    }
   ],
   "source": [
    "data['Company'].value_counts().plot(kind='bar')"
   ]
  },
  {
   "cell_type": "markdown",
   "id": "67ef8cf0-b8e0-48ee-9967-35055f098db9",
   "metadata": {},
   "source": [
    "This graphs clearly tells that laptops of some company are in high demand"
   ]
  },
  {
   "cell_type": "markdown",
   "id": "dce8e361-0c1f-4235-9e2b-73f51674b9ae",
   "metadata": {},
   "source": [
    "Checking if the company column is making any effect on price of laptop"
   ]
  },
  {
   "cell_type": "code",
   "execution_count": 19,
   "id": "0215f076-5d76-4159-82a5-60aefdd713b9",
   "metadata": {},
   "outputs": [],
   "source": [
    "import matplotlib.pyplot as plt"
   ]
  },
  {
   "cell_type": "code",
   "execution_count": 20,
   "id": "6ae0d124-fb76-4985-bafe-f878b11e0b9f",
   "metadata": {},
   "outputs": [
    {
     "data": {
      "image/png": "[encoded data removed]",
      "text/plain": [
       "<Figure size 640x480 with 1 Axes>"
      ]
     },
     "metadata": {},
     "output_type": "display_data"
    }
   ],
   "source": [
    "sns.barplot(x=data['Company'],y=data['Price'])\n",
    "plt.xticks(rotation='vertical')\n",
    "plt.show()"
   ]
  },
  {
   "cell_type": "markdown",
   "id": "f413fe3a-1676-40a2-8cfa-79732a308b68",
   "metadata": {},
   "source": [
    "It is clear that prices vary with the company"
   ]
  },
  {
   "cell_type": "code",
   "execution_count": 21,
   "id": "2ee0d5bb-f060-4b32-ac0e-66d4a75ba139",
   "metadata": {},
   "outputs": [
    {
     "data": {
      "text/plain": [
       "<Axes: xlabel='TypeName'>"
      ]
     },
     "execution_count": 21,
     "metadata": {},
     "output_type": "execute_result"
    },
    {
     "data": {
      "image/png": "[encoded data removed]",
      "text/plain": [
       "<Figure size 640x480 with 1 Axes>"
      ]
     },
     "metadata": {},
     "output_type": "display_data"
    }
   ],
   "source": [
    "data['TypeName'].value_counts().plot(kind='bar')"
   ]
  },
  {
   "cell_type": "code",
   "execution_count": 22,
   "id": "a46aefaa-54e3-4555-92ac-c6413d37f8ba",
   "metadata": {},
   "outputs": [
    {
     "data": {
      "image/png": "[encoded data removed]",
      "text/plain": [
       "<Figure size 640x480 with 1 Axes>"
      ]
     },
     "metadata": {},
     "output_type": "display_data"
    }
   ],
   "source": [
    "sns.barplot(x=data['TypeName'],y=data['Price'])\n",
    "plt.xticks(rotation='vertical')\n",
    "plt.show()"
   ]
  },
  {
   "cell_type": "markdown",
   "id": "b1bb3a76-8c13-4c8b-9294-7c5ba6b3ca5b",
   "metadata": {},
   "source": [
    "Therfore the type of laptop we are buying also effects the price of the laptop"
   ]
  },
  {
   "cell_type": "code",
   "execution_count": 23,
   "id": "17c7e758-8867-48cb-a99c-c57702f6caf2",
   "metadata": {},
   "outputs": [
    {
     "name": "stderr",
     "output_type": "stream",
     "text": [
      "C:\\Users\\Hp\\AppData\\Local\\Temp\\ipykernel_13184\\1445398758.py:1: UserWarning: \n",
      "\n",
      "`distplot` is a deprecated function and will be removed in seaborn v0.14.0.\n",
      "\n",
      "Please adapt your code to use either `displot` (a figure-level function with\n",
      "similar flexibility) or `histplot` (an axes-level function for histograms).\n",
      "\n",
      "For a guide to updating your code to use the new functions, please see\n",
      "https://gist.github.com/mwaskom/de44147ed2974457ad6372750bbe5751\n",
      "\n",
      "  sns.distplot(data['Inches'])\n"
     ]
    },
    {
     "data": {
      "text/plain": [
       "<Axes: xlabel='Inches', ylabel='Density'>"
      ]
     },
     "execution_count": 23,
     "metadata": {},
     "output_type": "execute_result"
    },
    {
     "data": {
      "image/png": "[encoded data removed]",
      "text/plain": [
       "<Figure size 640x480 with 1 Axes>"
      ]
     },
     "metadata": {},
     "output_type": "display_data"
    }
   ],
   "source": [
    "sns.distplot(data['Inches'])"
   ]
  },
  {
   "cell_type": "code",
   "execution_count": 24,
   "id": "a29d271f-2344-4716-a694-62ee96b5e87e",
   "metadata": {},
   "outputs": [
    {
     "data": {
      "text/plain": [
       "<Axes: xlabel='Inches', ylabel='Price'>"
      ]
     },
     "execution_count": 24,
     "metadata": {},
     "output_type": "execute_result"
    },
    {
     "data": {
      "image/png": "[encoded data removed]",
      "text/plain": [
       "<Figure size 640x480 with 1 Axes>"
      ]
     },
     "metadata": {},
     "output_type": "display_data"
    }
   ],
   "source": [
    "sns.scatterplot(x=data['Inches'],y=data['Price'])"
   ]
  },
  {
   "cell_type": "markdown",
   "id": "56597453-4c75-453d-bfa4-416df9bb78e7",
   "metadata": {},
   "source": [
    "It is clear that as the size / inches of laptop increases price also increases"
   ]
  },
  {
   "cell_type": "code",
   "execution_count": 25,
   "id": "eb40efa8-40f7-4a93-a3b1-359dae36bcea",
   "metadata": {},
   "outputs": [
    {
     "data": {
      "text/plain": [
       "ScreenResolution\n",
       "Full HD 1920x1080                                507\n",
       "1366x768                                         281\n",
       "IPS Panel Full HD 1920x1080                      230\n",
       "IPS Panel Full HD / Touchscreen 1920x1080         53\n",
       "Full HD / Touchscreen 1920x1080                   47\n",
       "1600x900                                          23\n",
       "Touchscreen 1366x768                              16\n",
       "Quad HD+ / Touchscreen 3200x1800                  15\n",
       "IPS Panel 4K Ultra HD 3840x2160                   12\n",
       "IPS Panel 4K Ultra HD / Touchscreen 3840x2160     11\n",
       "4K Ultra HD / Touchscreen 3840x2160               10\n",
       "IPS Panel 1366x768                                 7\n",
       "Touchscreen 2560x1440                              7\n",
       "4K Ultra HD 3840x2160                              7\n",
       "IPS Panel Retina Display 2304x1440                 6\n",
       "IPS Panel Retina Display 2560x1600                 6\n",
       "Touchscreen 2256x1504                              6\n",
       "IPS Panel Quad HD+ / Touchscreen 3200x1800         6\n",
       "IPS Panel Touchscreen 2560x1440                    5\n",
       "IPS Panel Retina Display 2880x1800                 4\n",
       "1440x900                                           4\n",
       "IPS Panel Touchscreen 1920x1200                    4\n",
       "IPS Panel 2560x1440                                4\n",
       "IPS Panel Quad HD+ 2560x1440                       3\n",
       "IPS Panel Touchscreen 1366x768                     3\n",
       "Quad HD+ 3200x1800                                 3\n",
       "1920x1080                                          3\n",
       "2560x1440                                          3\n",
       "Touchscreen 2400x1600                              3\n",
       "IPS Panel Quad HD+ 3200x1800                       2\n",
       "IPS Panel Full HD 2160x1440                        2\n",
       "IPS Panel Touchscreen / 4K Ultra HD 3840x2160      2\n",
       "IPS Panel Full HD 1366x768                         1\n",
       "Touchscreen / Quad HD+ 3200x1800                   1\n",
       "IPS Panel Retina Display 2736x1824                 1\n",
       "IPS Panel Full HD 2560x1440                        1\n",
       "IPS Panel Full HD 1920x1200                        1\n",
       "Touchscreen / Full HD 1920x1080                    1\n",
       "Touchscreen / 4K Ultra HD 3840x2160                1\n",
       "IPS Panel Touchscreen 2400x1600                    1\n",
       "Name: count, dtype: int64"
      ]
     },
     "execution_count": 25,
     "metadata": {},
     "output_type": "execute_result"
    }
   ],
   "source": [
    "data['ScreenResolution'].value_counts()"
   ]
  },
  {
   "cell_type": "markdown",
   "id": "12108e8e-26f4-4b7d-b56b-a786dd6cfa91",
   "metadata": {},
   "source": [
    "Making a new column that tells if the laptop is touchscreen or not\n",
    "1 --> if touchscreen \n",
    "0 --> if not touchscreen"
   ]
  },
  {
   "cell_type": "code",
   "execution_count": 26,
   "id": "5d1c154e-d525-4e74-8cd0-46ca3905d54f",
   "metadata": {},
   "outputs": [],
   "source": [
    "data['TouchScreen']=data['ScreenResolution'].apply(lambda x: 1 if 'Touchscreen' in x else 0)"
   ]
  },
  {
   "cell_type": "code",
   "execution_count": 27,
   "id": "e609f1a2-d9de-48ff-a519-81409300da83",
   "metadata": {},
   "outputs": [
    {
     "data": {
      "text/html": [
       "<div>\n",
       "<style scoped>\n",
       "    .dataframe tbody tr th:only-of-type {\n",
       "        vertical-align: middle;\n",
       "    }\n",
       "\n",
       "    .dataframe tbody tr th {\n",
       "        vertical-align: top;\n",
       "    }\n",
       "\n",
       "    .dataframe thead th {\n",
       "        text-align: right;\n",
       "    }\n",
       "</style>\n",
       "<table border=\"1\" class=\"dataframe\">\n",
       "  <thead>\n",
       "    <tr style=\"text-align: right;\">\n",
       "      <th></th>\n",
       "      <th>Company</th>\n",
       "      <th>TypeName</th>\n",
       "      <th>Inches</th>\n",
       "      <th>ScreenResolution</th>\n",
       "      <th>Cpu</th>\n",
       "      <th>Ram</th>\n",
       "      <th>Memory</th>\n",
       "      <th>Gpu</th>\n",
       "      <th>OpSys</th>\n",
       "      <th>Weight</th>\n",
       "      <th>Price</th>\n",
       "      <th>TouchScreen</th>\n",
       "    </tr>\n",
       "  </thead>\n",
       "  <tbody>\n",
       "    <tr>\n",
       "      <th>0</th>\n",
       "      <td>Apple</td>\n",
       "      <td>Ultrabook</td>\n",
       "      <td>13.3</td>\n",
       "      <td>IPS Panel Retina Display 2560x1600</td>\n",
       "      <td>Intel Core i5 2.3GHz</td>\n",
       "      <td>8</td>\n",
       "      <td>128GB SSD</td>\n",
       "      <td>Intel Iris Plus Graphics 640</td>\n",
       "      <td>macOS</td>\n",
       "      <td>1.37</td>\n",
       "      <td>71378.6832</td>\n",
       "      <td>0</td>\n",
       "    </tr>\n",
       "    <tr>\n",
       "      <th>1</th>\n",
       "      <td>Apple</td>\n",
       "      <td>Ultrabook</td>\n",
       "      <td>13.3</td>\n",
       "      <td>1440x900</td>\n",
       "      <td>Intel Core i5 1.8GHz</td>\n",
       "      <td>8</td>\n",
       "      <td>128GB Flash Storage</td>\n",
       "      <td>Intel HD Graphics 6000</td>\n",
       "      <td>macOS</td>\n",
       "      <td>1.34</td>\n",
       "      <td>47895.5232</td>\n",
       "      <td>0</td>\n",
       "    </tr>\n",
       "    <tr>\n",
       "      <th>2</th>\n",
       "      <td>HP</td>\n",
       "      <td>Notebook</td>\n",
       "      <td>15.6</td>\n",
       "      <td>Full HD 1920x1080</td>\n",
       "      <td>Intel Core i5 7200U 2.5GHz</td>\n",
       "      <td>8</td>\n",
       "      <td>256GB SSD</td>\n",
       "      <td>Intel HD Graphics 620</td>\n",
       "      <td>No OS</td>\n",
       "      <td>1.86</td>\n",
       "      <td>30636.0000</td>\n",
       "      <td>0</td>\n",
       "    </tr>\n",
       "    <tr>\n",
       "      <th>3</th>\n",
       "      <td>Apple</td>\n",
       "      <td>Ultrabook</td>\n",
       "      <td>15.4</td>\n",
       "      <td>IPS Panel Retina Display 2880x1800</td>\n",
       "      <td>Intel Core i7 2.7GHz</td>\n",
       "      <td>16</td>\n",
       "      <td>512GB SSD</td>\n",
       "      <td>AMD Radeon Pro 455</td>\n",
       "      <td>macOS</td>\n",
       "      <td>1.83</td>\n",
       "      <td>135195.3360</td>\n",
       "      <td>0</td>\n",
       "    </tr>\n",
       "    <tr>\n",
       "      <th>4</th>\n",
       "      <td>Apple</td>\n",
       "      <td>Ultrabook</td>\n",
       "      <td>13.3</td>\n",
       "      <td>IPS Panel Retina Display 2560x1600</td>\n",
       "      <td>Intel Core i5 3.1GHz</td>\n",
       "      <td>8</td>\n",
       "      <td>256GB SSD</td>\n",
       "      <td>Intel Iris Plus Graphics 650</td>\n",
       "      <td>macOS</td>\n",
       "      <td>1.37</td>\n",
       "      <td>96095.8080</td>\n",
       "      <td>0</td>\n",
       "    </tr>\n",
       "  </tbody>\n",
       "</table>\n",
       "</div>"
      ],
      "text/plain": [
       "  Company   TypeName  Inches                    ScreenResolution  \\\n",
       "0   Apple  Ultrabook    13.3  IPS Panel Retina Display 2560x1600   \n",
       "1   Apple  Ultrabook    13.3                            1440x900   \n",
       "2      HP   Notebook    15.6                   Full HD 1920x1080   \n",
       "3   Apple  Ultrabook    15.4  IPS Panel Retina Display 2880x1800   \n",
       "4   Apple  Ultrabook    13.3  IPS Panel Retina Display 2560x1600   \n",
       "\n",
       "                          Cpu  Ram               Memory  \\\n",
       "0        Intel Core i5 2.3GHz    8            128GB SSD   \n",
       "1        Intel Core i5 1.8GHz    8  128GB Flash Storage   \n",
       "2  Intel Core i5 7200U 2.5GHz    8            256GB SSD   \n",
       "3        Intel Core i7 2.7GHz   16            512GB SSD   \n",
       "4        Intel Core i5 3.1GHz    8            256GB SSD   \n",
       "\n",
       "                            Gpu  OpSys  Weight        Price  TouchScreen  \n",
       "0  Intel Iris Plus Graphics 640  macOS    1.37   71378.6832            0  \n",
       "1        Intel HD Graphics 6000  macOS    1.34   47895.5232            0  \n",
       "2         Intel HD Graphics 620  No OS    1.86   30636.0000            0  \n",
       "3            AMD Radeon Pro 455  macOS    1.83  135195.3360            0  \n",
       "4  Intel Iris Plus Graphics 650  macOS    1.37   96095.8080            0  "
      ]
     },
     "execution_count": 27,
     "metadata": {},
     "output_type": "execute_result"
    }
   ],
   "source": [
    "data.head()"
   ]
  },
  {
   "cell_type": "code",
   "execution_count": 28,
   "id": "b4c2521a-038a-4996-a11f-b931e918e66a",
   "metadata": {},
   "outputs": [
    {
     "data": {
      "text/plain": [
       "<Axes: xlabel='TouchScreen'>"
      ]
     },
     "execution_count": 28,
     "metadata": {},
     "output_type": "execute_result"
    },
    {
     "data": {
      "image/png": "[encoded data removed]",
      "text/plain": [
       "<Figure size 640x480 with 1 Axes>"
      ]
     },
     "metadata": {},
     "output_type": "display_data"
    }
   ],
   "source": [
    "data['TouchScreen'].value_counts().plot(kind='bar')"
   ]
  },
  {
   "cell_type": "markdown",
   "id": "cfd71cb6-efd1-4154-953e-0a1eaead6806",
   "metadata": {},
   "source": [
    "Most of the laptop don't have touchscreen"
   ]
  },
  {
   "cell_type": "code",
   "execution_count": 29,
   "id": "13ba680b-8072-4ce8-95f4-3015e475477c",
   "metadata": {},
   "outputs": [
    {
     "data": {
      "text/plain": [
       "<Axes: xlabel='TouchScreen', ylabel='Price'>"
      ]
     },
     "execution_count": 29,
     "metadata": {},
     "output_type": "execute_result"
    },
    {
     "data": {
      "image/png": "[encoded data removed]",
      "text/plain": [
       "<Figure size 640x480 with 1 Axes>"
      ]
     },
     "metadata": {},
     "output_type": "display_data"
    }
   ],
   "source": [
    "sns.barplot(x=data['TouchScreen'],y=data['Price'])"
   ]
  },
  {
   "cell_type": "markdown",
   "id": "96a851f0-e153-4bf0-9093-f132d9812ba8",
   "metadata": {},
   "source": [
    "There is a little increase in price if laptop is touchscreen "
   ]
  },
  {
   "cell_type": "markdown",
   "id": "eb4ac1c5-01c9-4a5b-af67-f0613e38aa77",
   "metadata": {},
   "source": [
    "Making a new column IPSPanel \n",
    "1 --> if laptop has IPS Panel \n",
    "0 --> if no IPS Panel"
   ]
  },
  {
   "cell_type": "code",
   "execution_count": 30,
   "id": "3deb963f-6995-49da-89a2-f398bbe35687",
   "metadata": {},
   "outputs": [],
   "source": [
    "data['IPSPanel']=data['ScreenResolution'].apply(lambda x: 1 if 'IPS Panel' in x else 0)"
   ]
  },
  {
   "cell_type": "code",
   "execution_count": 31,
   "id": "1a10cc97-d7a2-4461-a445-decb3cb82628",
   "metadata": {},
   "outputs": [
    {
     "data": {
      "text/html": [
       "<div>\n",
       "<style scoped>\n",
       "    .dataframe tbody tr th:only-of-type {\n",
       "        vertical-align: middle;\n",
       "    }\n",
       "\n",
       "    .dataframe tbody tr th {\n",
       "        vertical-align: top;\n",
       "    }\n",
       "\n",
       "    .dataframe thead th {\n",
       "        text-align: right;\n",
       "    }\n",
       "</style>\n",
       "<table border=\"1\" class=\"dataframe\">\n",
       "  <thead>\n",
       "    <tr style=\"text-align: right;\">\n",
       "      <th></th>\n",
       "      <th>Company</th>\n",
       "      <th>TypeName</th>\n",
       "      <th>Inches</th>\n",
       "      <th>ScreenResolution</th>\n",
       "      <th>Cpu</th>\n",
       "      <th>Ram</th>\n",
       "      <th>Memory</th>\n",
       "      <th>Gpu</th>\n",
       "      <th>OpSys</th>\n",
       "      <th>Weight</th>\n",
       "      <th>Price</th>\n",
       "      <th>TouchScreen</th>\n",
       "      <th>IPSPanel</th>\n",
       "    </tr>\n",
       "  </thead>\n",
       "  <tbody>\n",
       "    <tr>\n",
       "      <th>0</th>\n",
       "      <td>Apple</td>\n",
       "      <td>Ultrabook</td>\n",
       "      <td>13.3</td>\n",
       "      <td>IPS Panel Retina Display 2560x1600</td>\n",
       "      <td>Intel Core i5 2.3GHz</td>\n",
       "      <td>8</td>\n",
       "      <td>128GB SSD</td>\n",
       "      <td>Intel Iris Plus Graphics 640</td>\n",
       "      <td>macOS</td>\n",
       "      <td>1.37</td>\n",
       "      <td>71378.6832</td>\n",
       "      <td>0</td>\n",
       "      <td>1</td>\n",
       "    </tr>\n",
       "    <tr>\n",
       "      <th>1</th>\n",
       "      <td>Apple</td>\n",
       "      <td>Ultrabook</td>\n",
       "      <td>13.3</td>\n",
       "      <td>1440x900</td>\n",
       "      <td>Intel Core i5 1.8GHz</td>\n",
       "      <td>8</td>\n",
       "      <td>128GB Flash Storage</td>\n",
       "      <td>Intel HD Graphics 6000</td>\n",
       "      <td>macOS</td>\n",
       "      <td>1.34</td>\n",
       "      <td>47895.5232</td>\n",
       "      <td>0</td>\n",
       "      <td>0</td>\n",
       "    </tr>\n",
       "    <tr>\n",
       "      <th>2</th>\n",
       "      <td>HP</td>\n",
       "      <td>Notebook</td>\n",
       "      <td>15.6</td>\n",
       "      <td>Full HD 1920x1080</td>\n",
       "      <td>Intel Core i5 7200U 2.5GHz</td>\n",
       "      <td>8</td>\n",
       "      <td>256GB SSD</td>\n",
       "      <td>Intel HD Graphics 620</td>\n",
       "      <td>No OS</td>\n",
       "      <td>1.86</td>\n",
       "      <td>30636.0000</td>\n",
       "      <td>0</td>\n",
       "      <td>0</td>\n",
       "    </tr>\n",
       "    <tr>\n",
       "      <th>3</th>\n",
       "      <td>Apple</td>\n",
       "      <td>Ultrabook</td>\n",
       "      <td>15.4</td>\n",
       "      <td>IPS Panel Retina Display 2880x1800</td>\n",
       "      <td>Intel Core i7 2.7GHz</td>\n",
       "      <td>16</td>\n",
       "      <td>512GB SSD</td>\n",
       "      <td>AMD Radeon Pro 455</td>\n",
       "      <td>macOS</td>\n",
       "      <td>1.83</td>\n",
       "      <td>135195.3360</td>\n",
       "      <td>0</td>\n",
       "      <td>1</td>\n",
       "    </tr>\n",
       "    <tr>\n",
       "      <th>4</th>\n",
       "      <td>Apple</td>\n",
       "      <td>Ultrabook</td>\n",
       "      <td>13.3</td>\n",
       "      <td>IPS Panel Retina Display 2560x1600</td>\n",
       "      <td>Intel Core i5 3.1GHz</td>\n",
       "      <td>8</td>\n",
       "      <td>256GB SSD</td>\n",
       "      <td>Intel Iris Plus Graphics 650</td>\n",
       "      <td>macOS</td>\n",
       "      <td>1.37</td>\n",
       "      <td>96095.8080</td>\n",
       "      <td>0</td>\n",
       "      <td>1</td>\n",
       "    </tr>\n",
       "  </tbody>\n",
       "</table>\n",
       "</div>"
      ],
      "text/plain": [
       "  Company   TypeName  Inches                    ScreenResolution  \\\n",
       "0   Apple  Ultrabook    13.3  IPS Panel Retina Display 2560x1600   \n",
       "1   Apple  Ultrabook    13.3                            1440x900   \n",
       "2      HP   Notebook    15.6                   Full HD 1920x1080   \n",
       "3   Apple  Ultrabook    15.4  IPS Panel Retina Display 2880x1800   \n",
       "4   Apple  Ultrabook    13.3  IPS Panel Retina Display 2560x1600   \n",
       "\n",
       "                          Cpu  Ram               Memory  \\\n",
       "0        Intel Core i5 2.3GHz    8            128GB SSD   \n",
       "1        Intel Core i5 1.8GHz    8  128GB Flash Storage   \n",
       "2  Intel Core i5 7200U 2.5GHz    8            256GB SSD   \n",
       "3        Intel Core i7 2.7GHz   16            512GB SSD   \n",
       "4        Intel Core i5 3.1GHz    8            256GB SSD   \n",
       "\n",
       "                            Gpu  OpSys  Weight        Price  TouchScreen  \\\n",
       "0  Intel Iris Plus Graphics 640  macOS    1.37   71378.6832            0   \n",
       "1        Intel HD Graphics 6000  macOS    1.34   47895.5232            0   \n",
       "2         Intel HD Graphics 620  No OS    1.86   30636.0000            0   \n",
       "3            AMD Radeon Pro 455  macOS    1.83  135195.3360            0   \n",
       "4  Intel Iris Plus Graphics 650  macOS    1.37   96095.8080            0   \n",
       "\n",
       "   IPSPanel  \n",
       "0         1  \n",
       "1         0  \n",
       "2         0  \n",
       "3         1  \n",
       "4         1  "
      ]
     },
     "execution_count": 31,
     "metadata": {},
     "output_type": "execute_result"
    }
   ],
   "source": [
    "data.head()"
   ]
  },
  {
   "cell_type": "code",
   "execution_count": 32,
   "id": "c7e8bb1a-53b7-445c-bbee-920ce666c0ec",
   "metadata": {},
   "outputs": [
    {
     "data": {
      "text/plain": [
       "<Axes: xlabel='IPSPanel'>"
      ]
     },
     "execution_count": 32,
     "metadata": {},
     "output_type": "execute_result"
    },
    {
     "data": {
      "image/png": "[encoded data removed]",
      "text/plain": [
       "<Figure size 640x480 with 1 Axes>"
      ]
     },
     "metadata": {},
     "output_type": "display_data"
    }
   ],
   "source": [
    "data['IPSPanel'].value_counts().plot(kind='bar')"
   ]
  },
  {
   "cell_type": "markdown",
   "id": "0738f687-21f3-4261-b137-1b7ab7bc342d",
   "metadata": {},
   "source": [
    "Most of the laptops don't have IPS Panel"
   ]
  },
  {
   "cell_type": "code",
   "execution_count": 33,
   "id": "1b1a1cc6-b958-4438-bff3-98ec00cfcc03",
   "metadata": {},
   "outputs": [
    {
     "data": {
      "text/plain": [
       "<Axes: xlabel='IPSPanel', ylabel='Price'>"
      ]
     },
     "execution_count": 33,
     "metadata": {},
     "output_type": "execute_result"
    },
    {
     "data": {
      "image/png": "[encoded data removed]",
      "text/plain": [
       "<Figure size 640x480 with 1 Axes>"
      ]
     },
     "metadata": {},
     "output_type": "display_data"
    }
   ],
   "source": [
    "sns.barplot(x=data['IPSPanel'],y=data['Price'])"
   ]
  },
  {
   "cell_type": "markdown",
   "id": "8c452df7-9fad-47f2-b3ef-e28e7e4728a5",
   "metadata": {},
   "source": [
    "Therfore the laptops with IPS Panel have a little more prices than the ones with no IPS Panel"
   ]
  },
  {
   "cell_type": "markdown",
   "id": "61d86797-b641-48a7-a79f-7e945347c1ce",
   "metadata": {},
   "source": [
    "Making 2 more new columns named x and y including the resolutions of laptop say 2560x1600 \n",
    "so 2560 will be x \n",
    "1600 will be y "
   ]
  },
  {
   "cell_type": "code",
   "execution_count": 34,
   "id": "a1bff1a8-0427-4613-95ba-ba73b9093960",
   "metadata": {},
   "outputs": [],
   "source": [
    "data['X']=data['ScreenResolution'].str.split('x',n=1,expand=True)[0]\n",
    "data['Y']=data['ScreenResolution'].str.split('x',n=1,expand=True)[1]"
   ]
  },
  {
   "cell_type": "code",
   "execution_count": 35,
   "id": "12a8ad96-aaa6-4fd4-94f6-920a4ea9e9ec",
   "metadata": {},
   "outputs": [
    {
     "data": {
      "text/html": [
       "<div>\n",
       "<style scoped>\n",
       "    .dataframe tbody tr th:only-of-type {\n",
       "        vertical-align: middle;\n",
       "    }\n",
       "\n",
       "    .dataframe tbody tr th {\n",
       "        vertical-align: top;\n",
       "    }\n",
       "\n",
       "    .dataframe thead th {\n",
       "        text-align: right;\n",
       "    }\n",
       "</style>\n",
       "<table border=\"1\" class=\"dataframe\">\n",
       "  <thead>\n",
       "    <tr style=\"text-align: right;\">\n",
       "      <th></th>\n",
       "      <th>Company</th>\n",
       "      <th>TypeName</th>\n",
       "      <th>Inches</th>\n",
       "      <th>ScreenResolution</th>\n",
       "      <th>Cpu</th>\n",
       "      <th>Ram</th>\n",
       "      <th>Memory</th>\n",
       "      <th>Gpu</th>\n",
       "      <th>OpSys</th>\n",
       "      <th>Weight</th>\n",
       "      <th>Price</th>\n",
       "      <th>TouchScreen</th>\n",
       "      <th>IPSPanel</th>\n",
       "      <th>X</th>\n",
       "      <th>Y</th>\n",
       "    </tr>\n",
       "  </thead>\n",
       "  <tbody>\n",
       "    <tr>\n",
       "      <th>0</th>\n",
       "      <td>Apple</td>\n",
       "      <td>Ultrabook</td>\n",
       "      <td>13.3</td>\n",
       "      <td>IPS Panel Retina Display 2560x1600</td>\n",
       "      <td>Intel Core i5 2.3GHz</td>\n",
       "      <td>8</td>\n",
       "      <td>128GB SSD</td>\n",
       "      <td>Intel Iris Plus Graphics 640</td>\n",
       "      <td>macOS</td>\n",
       "      <td>1.37</td>\n",
       "      <td>71378.6832</td>\n",
       "      <td>0</td>\n",
       "      <td>1</td>\n",
       "      <td>IPS Panel Retina Display 2560</td>\n",
       "      <td>1600</td>\n",
       "    </tr>\n",
       "    <tr>\n",
       "      <th>1</th>\n",
       "      <td>Apple</td>\n",
       "      <td>Ultrabook</td>\n",
       "      <td>13.3</td>\n",
       "      <td>1440x900</td>\n",
       "      <td>Intel Core i5 1.8GHz</td>\n",
       "      <td>8</td>\n",
       "      <td>128GB Flash Storage</td>\n",
       "      <td>Intel HD Graphics 6000</td>\n",
       "      <td>macOS</td>\n",
       "      <td>1.34</td>\n",
       "      <td>47895.5232</td>\n",
       "      <td>0</td>\n",
       "      <td>0</td>\n",
       "      <td>1440</td>\n",
       "      <td>900</td>\n",
       "    </tr>\n",
       "    <tr>\n",
       "      <th>2</th>\n",
       "      <td>HP</td>\n",
       "      <td>Notebook</td>\n",
       "      <td>15.6</td>\n",
       "      <td>Full HD 1920x1080</td>\n",
       "      <td>Intel Core i5 7200U 2.5GHz</td>\n",
       "      <td>8</td>\n",
       "      <td>256GB SSD</td>\n",
       "      <td>Intel HD Graphics 620</td>\n",
       "      <td>No OS</td>\n",
       "      <td>1.86</td>\n",
       "      <td>30636.0000</td>\n",
       "      <td>0</td>\n",
       "      <td>0</td>\n",
       "      <td>Full HD 1920</td>\n",
       "      <td>1080</td>\n",
       "    </tr>\n",
       "    <tr>\n",
       "      <th>3</th>\n",
       "      <td>Apple</td>\n",
       "      <td>Ultrabook</td>\n",
       "      <td>15.4</td>\n",
       "      <td>IPS Panel Retina Display 2880x1800</td>\n",
       "      <td>Intel Core i7 2.7GHz</td>\n",
       "      <td>16</td>\n",
       "      <td>512GB SSD</td>\n",
       "      <td>AMD Radeon Pro 455</td>\n",
       "      <td>macOS</td>\n",
       "      <td>1.83</td>\n",
       "      <td>135195.3360</td>\n",
       "      <td>0</td>\n",
       "      <td>1</td>\n",
       "      <td>IPS Panel Retina Display 2880</td>\n",
       "      <td>1800</td>\n",
       "    </tr>\n",
       "    <tr>\n",
       "      <th>4</th>\n",
       "      <td>Apple</td>\n",
       "      <td>Ultrabook</td>\n",
       "      <td>13.3</td>\n",
       "      <td>IPS Panel Retina Display 2560x1600</td>\n",
       "      <td>Intel Core i5 3.1GHz</td>\n",
       "      <td>8</td>\n",
       "      <td>256GB SSD</td>\n",
       "      <td>Intel Iris Plus Graphics 650</td>\n",
       "      <td>macOS</td>\n",
       "      <td>1.37</td>\n",
       "      <td>96095.8080</td>\n",
       "      <td>0</td>\n",
       "      <td>1</td>\n",
       "      <td>IPS Panel Retina Display 2560</td>\n",
       "      <td>1600</td>\n",
       "    </tr>\n",
       "  </tbody>\n",
       "</table>\n",
       "</div>"
      ],
      "text/plain": [
       "  Company   TypeName  Inches                    ScreenResolution  \\\n",
       "0   Apple  Ultrabook    13.3  IPS Panel Retina Display 2560x1600   \n",
       "1   Apple  Ultrabook    13.3                            1440x900   \n",
       "2      HP   Notebook    15.6                   Full HD 1920x1080   \n",
       "3   Apple  Ultrabook    15.4  IPS Panel Retina Display 2880x1800   \n",
       "4   Apple  Ultrabook    13.3  IPS Panel Retina Display 2560x1600   \n",
       "\n",
       "                          Cpu  Ram               Memory  \\\n",
       "0        Intel Core i5 2.3GHz    8            128GB SSD   \n",
       "1        Intel Core i5 1.8GHz    8  128GB Flash Storage   \n",
       "2  Intel Core i5 7200U 2.5GHz    8            256GB SSD   \n",
       "3        Intel Core i7 2.7GHz   16            512GB SSD   \n",
       "4        Intel Core i5 3.1GHz    8            256GB SSD   \n",
       "\n",
       "                            Gpu  OpSys  Weight        Price  TouchScreen  \\\n",
       "0  Intel Iris Plus Graphics 640  macOS    1.37   71378.6832            0   \n",
       "1        Intel HD Graphics 6000  macOS    1.34   47895.5232            0   \n",
       "2         Intel HD Graphics 620  No OS    1.86   30636.0000            0   \n",
       "3            AMD Radeon Pro 455  macOS    1.83  135195.3360            0   \n",
       "4  Intel Iris Plus Graphics 650  macOS    1.37   96095.8080            0   \n",
       "\n",
       "   IPSPanel                              X     Y  \n",
       "0         1  IPS Panel Retina Display 2560  1600  \n",
       "1         0                           1440   900  \n",
       "2         0                   Full HD 1920  1080  \n",
       "3         1  IPS Panel Retina Display 2880  1800  \n",
       "4         1  IPS Panel Retina Display 2560  1600  "
      ]
     },
     "execution_count": 35,
     "metadata": {},
     "output_type": "execute_result"
    }
   ],
   "source": [
    "data.head()"
   ]
  },
  {
   "cell_type": "markdown",
   "id": "8c8531b4-c829-4332-83ed-6e46f01636f6",
   "metadata": {},
   "source": [
    "Y is correct but X is somwhat wrong so we have to improve X "
   ]
  },
  {
   "cell_type": "code",
   "execution_count": 36,
   "id": "7247ba9c-b823-433c-b846-0207357aeaa1",
   "metadata": {},
   "outputs": [],
   "source": [
    "data['X']=data['X'].str.replace(',','').str.findall(r'(\\d+\\.?\\d+)').apply(lambda x:x[0]) #this is a pattern detected"
   ]
  },
  {
   "cell_type": "code",
   "execution_count": 37,
   "id": "5b261e03-6f7e-49b8-8c61-d0dc3e57ac45",
   "metadata": {},
   "outputs": [
    {
     "data": {
      "text/html": [
       "<div>\n",
       "<style scoped>\n",
       "    .dataframe tbody tr th:only-of-type {\n",
       "        vertical-align: middle;\n",
       "    }\n",
       "\n",
       "    .dataframe tbody tr th {\n",
       "        vertical-align: top;\n",
       "    }\n",
       "\n",
       "    .dataframe thead th {\n",
       "        text-align: right;\n",
       "    }\n",
       "</style>\n",
       "<table border=\"1\" class=\"dataframe\">\n",
       "  <thead>\n",
       "    <tr style=\"text-align: right;\">\n",
       "      <th></th>\n",
       "      <th>Company</th>\n",
       "      <th>TypeName</th>\n",
       "      <th>Inches</th>\n",
       "      <th>ScreenResolution</th>\n",
       "      <th>Cpu</th>\n",
       "      <th>Ram</th>\n",
       "      <th>Memory</th>\n",
       "      <th>Gpu</th>\n",
       "      <th>OpSys</th>\n",
       "      <th>Weight</th>\n",
       "      <th>Price</th>\n",
       "      <th>TouchScreen</th>\n",
       "      <th>IPSPanel</th>\n",
       "      <th>X</th>\n",
       "      <th>Y</th>\n",
       "    </tr>\n",
       "  </thead>\n",
       "  <tbody>\n",
       "    <tr>\n",
       "      <th>0</th>\n",
       "      <td>Apple</td>\n",
       "      <td>Ultrabook</td>\n",
       "      <td>13.3</td>\n",
       "      <td>IPS Panel Retina Display 2560x1600</td>\n",
       "      <td>Intel Core i5 2.3GHz</td>\n",
       "      <td>8</td>\n",
       "      <td>128GB SSD</td>\n",
       "      <td>Intel Iris Plus Graphics 640</td>\n",
       "      <td>macOS</td>\n",
       "      <td>1.37</td>\n",
       "      <td>71378.6832</td>\n",
       "      <td>0</td>\n",
       "      <td>1</td>\n",
       "      <td>2560</td>\n",
       "      <td>1600</td>\n",
       "    </tr>\n",
       "    <tr>\n",
       "      <th>1</th>\n",
       "      <td>Apple</td>\n",
       "      <td>Ultrabook</td>\n",
       "      <td>13.3</td>\n",
       "      <td>1440x900</td>\n",
       "      <td>Intel Core i5 1.8GHz</td>\n",
       "      <td>8</td>\n",
       "      <td>128GB Flash Storage</td>\n",
       "      <td>Intel HD Graphics 6000</td>\n",
       "      <td>macOS</td>\n",
       "      <td>1.34</td>\n",
       "      <td>47895.5232</td>\n",
       "      <td>0</td>\n",
       "      <td>0</td>\n",
       "      <td>1440</td>\n",
       "      <td>900</td>\n",
       "    </tr>\n",
       "    <tr>\n",
       "      <th>2</th>\n",
       "      <td>HP</td>\n",
       "      <td>Notebook</td>\n",
       "      <td>15.6</td>\n",
       "      <td>Full HD 1920x1080</td>\n",
       "      <td>Intel Core i5 7200U 2.5GHz</td>\n",
       "      <td>8</td>\n",
       "      <td>256GB SSD</td>\n",
       "      <td>Intel HD Graphics 620</td>\n",
       "      <td>No OS</td>\n",
       "      <td>1.86</td>\n",
       "      <td>30636.0000</td>\n",
       "      <td>0</td>\n",
       "      <td>0</td>\n",
       "      <td>1920</td>\n",
       "      <td>1080</td>\n",
       "    </tr>\n",
       "    <tr>\n",
       "      <th>3</th>\n",
       "      <td>Apple</td>\n",
       "      <td>Ultrabook</td>\n",
       "      <td>15.4</td>\n",
       "      <td>IPS Panel Retina Display 2880x1800</td>\n",
       "      <td>Intel Core i7 2.7GHz</td>\n",
       "      <td>16</td>\n",
       "      <td>512GB SSD</td>\n",
       "      <td>AMD Radeon Pro 455</td>\n",
       "      <td>macOS</td>\n",
       "      <td>1.83</td>\n",
       "      <td>135195.3360</td>\n",
       "      <td>0</td>\n",
       "      <td>1</td>\n",
       "      <td>2880</td>\n",
       "      <td>1800</td>\n",
       "    </tr>\n",
       "    <tr>\n",
       "      <th>4</th>\n",
       "      <td>Apple</td>\n",
       "      <td>Ultrabook</td>\n",
       "      <td>13.3</td>\n",
       "      <td>IPS Panel Retina Display 2560x1600</td>\n",
       "      <td>Intel Core i5 3.1GHz</td>\n",
       "      <td>8</td>\n",
       "      <td>256GB SSD</td>\n",
       "      <td>Intel Iris Plus Graphics 650</td>\n",
       "      <td>macOS</td>\n",
       "      <td>1.37</td>\n",
       "      <td>96095.8080</td>\n",
       "      <td>0</td>\n",
       "      <td>1</td>\n",
       "      <td>2560</td>\n",
       "      <td>1600</td>\n",
       "    </tr>\n",
       "  </tbody>\n",
       "</table>\n",
       "</div>"
      ],
      "text/plain": [
       "  Company   TypeName  Inches                    ScreenResolution  \\\n",
       "0   Apple  Ultrabook    13.3  IPS Panel Retina Display 2560x1600   \n",
       "1   Apple  Ultrabook    13.3                            1440x900   \n",
       "2      HP   Notebook    15.6                   Full HD 1920x1080   \n",
       "3   Apple  Ultrabook    15.4  IPS Panel Retina Display 2880x1800   \n",
       "4   Apple  Ultrabook    13.3  IPS Panel Retina Display 2560x1600   \n",
       "\n",
       "                          Cpu  Ram               Memory  \\\n",
       "0        Intel Core i5 2.3GHz    8            128GB SSD   \n",
       "1        Intel Core i5 1.8GHz    8  128GB Flash Storage   \n",
       "2  Intel Core i5 7200U 2.5GHz    8            256GB SSD   \n",
       "3        Intel Core i7 2.7GHz   16            512GB SSD   \n",
       "4        Intel Core i5 3.1GHz    8            256GB SSD   \n",
       "\n",
       "                            Gpu  OpSys  Weight        Price  TouchScreen  \\\n",
       "0  Intel Iris Plus Graphics 640  macOS    1.37   71378.6832            0   \n",
       "1        Intel HD Graphics 6000  macOS    1.34   47895.5232            0   \n",
       "2         Intel HD Graphics 620  No OS    1.86   30636.0000            0   \n",
       "3            AMD Radeon Pro 455  macOS    1.83  135195.3360            0   \n",
       "4  Intel Iris Plus Graphics 650  macOS    1.37   96095.8080            0   \n",
       "\n",
       "   IPSPanel     X     Y  \n",
       "0         1  2560  1600  \n",
       "1         0  1440   900  \n",
       "2         0  1920  1080  \n",
       "3         1  2880  1800  \n",
       "4         1  2560  1600  "
      ]
     },
     "execution_count": 37,
     "metadata": {},
     "output_type": "execute_result"
    }
   ],
   "source": [
    "data.head()"
   ]
  },
  {
   "cell_type": "markdown",
   "id": "815c9c9c-a152-4d9c-bca4-344502287455",
   "metadata": {},
   "source": [
    "Making the data types of both X and Y as integer"
   ]
  },
  {
   "cell_type": "code",
   "execution_count": 38,
   "id": "62ebfdb5-12da-4202-a843-1f7daafc7d64",
   "metadata": {},
   "outputs": [],
   "source": [
    "data['X']=data['X'].astype('int32')\n",
    "data['Y']=data['Y'].astype('int32')"
   ]
  },
  {
   "cell_type": "code",
   "execution_count": 39,
   "id": "bfe56c99-ce0a-4b96-aaa7-59af90e55e2f",
   "metadata": {},
   "outputs": [
    {
     "name": "stdout",
     "output_type": "stream",
     "text": [
      "<class 'pandas.core.frame.DataFrame'>\n",
      "RangeIndex: 1303 entries, 0 to 1302\n",
      "Data columns (total 15 columns):\n",
      " #   Column            Non-Null Count  Dtype  \n",
      "---  ------            --------------  -----  \n",
      " 0   Company           1303 non-null   object \n",
      " 1   TypeName          1303 non-null   object \n",
      " 2   Inches            1303 non-null   float64\n",
      " 3   ScreenResolution  1303 non-null   object \n",
      " 4   Cpu               1303 non-null   object \n",
      " 5   Ram               1303 non-null   int32  \n",
      " 6   Memory            1303 non-null   object \n",
      " 7   Gpu               1303 non-null   object \n",
      " 8   OpSys             1303 non-null   object \n",
      " 9   Weight            1303 non-null   float32\n",
      " 10  Price             1303 non-null   float64\n",
      " 11  TouchScreen       1303 non-null   int64  \n",
      " 12  IPSPanel          1303 non-null   int64  \n",
      " 13  X                 1303 non-null   int32  \n",
      " 14  Y                 1303 non-null   int32  \n",
      "dtypes: float32(1), float64(2), int32(3), int64(2), object(7)\n",
      "memory usage: 132.5+ KB\n"
     ]
    }
   ],
   "source": [
    "data.info()"
   ]
  },
  {
   "cell_type": "markdown",
   "id": "9a6853d7-c103-4979-af16-ad5451162c0e",
   "metadata": {},
   "source": [
    "Seeing the relationship / correlation between all columns (Numeric columns only)"
   ]
  },
  {
   "cell_type": "code",
   "execution_count": 40,
   "id": "1901df90-9d24-4e10-8ff0-c75daaf42ef0",
   "metadata": {},
   "outputs": [],
   "source": [
    "new=data.select_dtypes(include=['number'])"
   ]
  },
  {
   "cell_type": "code",
   "execution_count": 41,
   "id": "bfc3d3a4-396e-4fa1-a039-f541fcc504c6",
   "metadata": {},
   "outputs": [
    {
     "data": {
      "text/html": [
       "<div>\n",
       "<style scoped>\n",
       "    .dataframe tbody tr th:only-of-type {\n",
       "        vertical-align: middle;\n",
       "    }\n",
       "\n",
       "    .dataframe tbody tr th {\n",
       "        vertical-align: top;\n",
       "    }\n",
       "\n",
       "    .dataframe thead th {\n",
       "        text-align: right;\n",
       "    }\n",
       "</style>\n",
       "<table border=\"1\" class=\"dataframe\">\n",
       "  <thead>\n",
       "    <tr style=\"text-align: right;\">\n",
       "      <th></th>\n",
       "      <th>Inches</th>\n",
       "      <th>Ram</th>\n",
       "      <th>Weight</th>\n",
       "      <th>Price</th>\n",
       "      <th>TouchScreen</th>\n",
       "      <th>IPSPanel</th>\n",
       "      <th>X</th>\n",
       "      <th>Y</th>\n",
       "    </tr>\n",
       "  </thead>\n",
       "  <tbody>\n",
       "    <tr>\n",
       "      <th>Inches</th>\n",
       "      <td>1.000000</td>\n",
       "      <td>0.237993</td>\n",
       "      <td>0.827631</td>\n",
       "      <td>0.068197</td>\n",
       "      <td>-0.361735</td>\n",
       "      <td>-0.114804</td>\n",
       "      <td>-0.071245</td>\n",
       "      <td>-0.095404</td>\n",
       "    </tr>\n",
       "    <tr>\n",
       "      <th>Ram</th>\n",
       "      <td>0.237993</td>\n",
       "      <td>1.000000</td>\n",
       "      <td>0.383874</td>\n",
       "      <td>0.743007</td>\n",
       "      <td>0.116984</td>\n",
       "      <td>0.206623</td>\n",
       "      <td>0.433121</td>\n",
       "      <td>0.424437</td>\n",
       "    </tr>\n",
       "    <tr>\n",
       "      <th>Weight</th>\n",
       "      <td>0.827631</td>\n",
       "      <td>0.383874</td>\n",
       "      <td>1.000000</td>\n",
       "      <td>0.210370</td>\n",
       "      <td>-0.294620</td>\n",
       "      <td>0.016967</td>\n",
       "      <td>-0.032880</td>\n",
       "      <td>-0.053846</td>\n",
       "    </tr>\n",
       "    <tr>\n",
       "      <th>Price</th>\n",
       "      <td>0.068197</td>\n",
       "      <td>0.743007</td>\n",
       "      <td>0.210370</td>\n",
       "      <td>1.000000</td>\n",
       "      <td>0.191226</td>\n",
       "      <td>0.252208</td>\n",
       "      <td>0.556529</td>\n",
       "      <td>0.552809</td>\n",
       "    </tr>\n",
       "    <tr>\n",
       "      <th>TouchScreen</th>\n",
       "      <td>-0.361735</td>\n",
       "      <td>0.116984</td>\n",
       "      <td>-0.294620</td>\n",
       "      <td>0.191226</td>\n",
       "      <td>1.000000</td>\n",
       "      <td>0.150512</td>\n",
       "      <td>0.351066</td>\n",
       "      <td>0.357930</td>\n",
       "    </tr>\n",
       "    <tr>\n",
       "      <th>IPSPanel</th>\n",
       "      <td>-0.114804</td>\n",
       "      <td>0.206623</td>\n",
       "      <td>0.016967</td>\n",
       "      <td>0.252208</td>\n",
       "      <td>0.150512</td>\n",
       "      <td>1.000000</td>\n",
       "      <td>0.281457</td>\n",
       "      <td>0.289030</td>\n",
       "    </tr>\n",
       "    <tr>\n",
       "      <th>X</th>\n",
       "      <td>-0.071245</td>\n",
       "      <td>0.433121</td>\n",
       "      <td>-0.032880</td>\n",
       "      <td>0.556529</td>\n",
       "      <td>0.351066</td>\n",
       "      <td>0.281457</td>\n",
       "      <td>1.000000</td>\n",
       "      <td>0.994219</td>\n",
       "    </tr>\n",
       "    <tr>\n",
       "      <th>Y</th>\n",
       "      <td>-0.095404</td>\n",
       "      <td>0.424437</td>\n",
       "      <td>-0.053846</td>\n",
       "      <td>0.552809</td>\n",
       "      <td>0.357930</td>\n",
       "      <td>0.289030</td>\n",
       "      <td>0.994219</td>\n",
       "      <td>1.000000</td>\n",
       "    </tr>\n",
       "  </tbody>\n",
       "</table>\n",
       "</div>"
      ],
      "text/plain": [
       "               Inches       Ram    Weight     Price  TouchScreen  IPSPanel  \\\n",
       "Inches       1.000000  0.237993  0.827631  0.068197    -0.361735 -0.114804   \n",
       "Ram          0.237993  1.000000  0.383874  0.743007     0.116984  0.206623   \n",
       "Weight       0.827631  0.383874  1.000000  0.210370    -0.294620  0.016967   \n",
       "Price        0.068197  0.743007  0.210370  1.000000     0.191226  0.252208   \n",
       "TouchScreen -0.361735  0.116984 -0.294620  0.191226     1.000000  0.150512   \n",
       "IPSPanel    -0.114804  0.206623  0.016967  0.252208     0.150512  1.000000   \n",
       "X           -0.071245  0.433121 -0.032880  0.556529     0.351066  0.281457   \n",
       "Y           -0.095404  0.424437 -0.053846  0.552809     0.357930  0.289030   \n",
       "\n",
       "                    X         Y  \n",
       "Inches      -0.071245 -0.095404  \n",
       "Ram          0.433121  0.424437  \n",
       "Weight      -0.032880 -0.053846  \n",
       "Price        0.556529  0.552809  \n",
       "TouchScreen  0.351066  0.357930  \n",
       "IPSPanel     0.281457  0.289030  \n",
       "X            1.000000  0.994219  \n",
       "Y            0.994219  1.000000  "
      ]
     },
     "execution_count": 41,
     "metadata": {},
     "output_type": "execute_result"
    }
   ],
   "source": [
    "new.corr()"
   ]
  },
  {
   "cell_type": "markdown",
   "id": "eaf8657a-5fe5-430c-8393-497e5a79ebab",
   "metadata": {},
   "source": [
    "Correlation of all columns on price"
   ]
  },
  {
   "cell_type": "code",
   "execution_count": 42,
   "id": "db739818-8655-402b-b9ee-3e612196c361",
   "metadata": {},
   "outputs": [
    {
     "data": {
      "text/plain": [
       "Inches         0.068197\n",
       "Ram            0.743007\n",
       "Weight         0.210370\n",
       "Price          1.000000\n",
       "TouchScreen    0.191226\n",
       "IPSPanel       0.252208\n",
       "X              0.556529\n",
       "Y              0.552809\n",
       "Name: Price, dtype: float64"
      ]
     },
     "execution_count": 42,
     "metadata": {},
     "output_type": "execute_result"
    }
   ],
   "source": [
    "new.corr()['Price']"
   ]
  },
  {
   "cell_type": "markdown",
   "id": "a9073727-3d5a-474b-854a-ca122ac88289",
   "metadata": {},
   "source": [
    "It is clearly visible that Inches does not has a very high impact on prices since it is  i.e. very less\n",
    "Ram column has the most effect on price "
   ]
  },
  {
   "cell_type": "markdown",
   "id": "606aa875-02d1-4081-92e7-de486203c12a",
   "metadata": {},
   "source": [
    "Making a new column PPI (Pixels per inches)\n",
    "more ppi more price generally"
   ]
  },
  {
   "cell_type": "code",
   "execution_count": 43,
   "id": "f6ed8bd5-a6cb-4860-beeb-5ecbb1bb230f",
   "metadata": {},
   "outputs": [],
   "source": [
    "data['PPI']=((data['X']**2)+(data['Y']**2))**0.5/data['Inches']"
   ]
  },
  {
   "cell_type": "code",
   "execution_count": 44,
   "id": "ac5e002f-e49a-437c-88d9-8e97251040eb",
   "metadata": {},
   "outputs": [
    {
     "data": {
      "text/html": [
       "<div>\n",
       "<style scoped>\n",
       "    .dataframe tbody tr th:only-of-type {\n",
       "        vertical-align: middle;\n",
       "    }\n",
       "\n",
       "    .dataframe tbody tr th {\n",
       "        vertical-align: top;\n",
       "    }\n",
       "\n",
       "    .dataframe thead th {\n",
       "        text-align: right;\n",
       "    }\n",
       "</style>\n",
       "<table border=\"1\" class=\"dataframe\">\n",
       "  <thead>\n",
       "    <tr style=\"text-align: right;\">\n",
       "      <th></th>\n",
       "      <th>Company</th>\n",
       "      <th>TypeName</th>\n",
       "      <th>Inches</th>\n",
       "      <th>ScreenResolution</th>\n",
       "      <th>Cpu</th>\n",
       "      <th>Ram</th>\n",
       "      <th>Memory</th>\n",
       "      <th>Gpu</th>\n",
       "      <th>OpSys</th>\n",
       "      <th>Weight</th>\n",
       "      <th>Price</th>\n",
       "      <th>TouchScreen</th>\n",
       "      <th>IPSPanel</th>\n",
       "      <th>X</th>\n",
       "      <th>Y</th>\n",
       "      <th>PPI</th>\n",
       "    </tr>\n",
       "  </thead>\n",
       "  <tbody>\n",
       "    <tr>\n",
       "      <th>0</th>\n",
       "      <td>Apple</td>\n",
       "      <td>Ultrabook</td>\n",
       "      <td>13.3</td>\n",
       "      <td>IPS Panel Retina Display 2560x1600</td>\n",
       "      <td>Intel Core i5 2.3GHz</td>\n",
       "      <td>8</td>\n",
       "      <td>128GB SSD</td>\n",
       "      <td>Intel Iris Plus Graphics 640</td>\n",
       "      <td>macOS</td>\n",
       "      <td>1.37</td>\n",
       "      <td>71378.6832</td>\n",
       "      <td>0</td>\n",
       "      <td>1</td>\n",
       "      <td>2560</td>\n",
       "      <td>1600</td>\n",
       "      <td>226.983005</td>\n",
       "    </tr>\n",
       "    <tr>\n",
       "      <th>1</th>\n",
       "      <td>Apple</td>\n",
       "      <td>Ultrabook</td>\n",
       "      <td>13.3</td>\n",
       "      <td>1440x900</td>\n",
       "      <td>Intel Core i5 1.8GHz</td>\n",
       "      <td>8</td>\n",
       "      <td>128GB Flash Storage</td>\n",
       "      <td>Intel HD Graphics 6000</td>\n",
       "      <td>macOS</td>\n",
       "      <td>1.34</td>\n",
       "      <td>47895.5232</td>\n",
       "      <td>0</td>\n",
       "      <td>0</td>\n",
       "      <td>1440</td>\n",
       "      <td>900</td>\n",
       "      <td>127.677940</td>\n",
       "    </tr>\n",
       "    <tr>\n",
       "      <th>2</th>\n",
       "      <td>HP</td>\n",
       "      <td>Notebook</td>\n",
       "      <td>15.6</td>\n",
       "      <td>Full HD 1920x1080</td>\n",
       "      <td>Intel Core i5 7200U 2.5GHz</td>\n",
       "      <td>8</td>\n",
       "      <td>256GB SSD</td>\n",
       "      <td>Intel HD Graphics 620</td>\n",
       "      <td>No OS</td>\n",
       "      <td>1.86</td>\n",
       "      <td>30636.0000</td>\n",
       "      <td>0</td>\n",
       "      <td>0</td>\n",
       "      <td>1920</td>\n",
       "      <td>1080</td>\n",
       "      <td>141.211998</td>\n",
       "    </tr>\n",
       "    <tr>\n",
       "      <th>3</th>\n",
       "      <td>Apple</td>\n",
       "      <td>Ultrabook</td>\n",
       "      <td>15.4</td>\n",
       "      <td>IPS Panel Retina Display 2880x1800</td>\n",
       "      <td>Intel Core i7 2.7GHz</td>\n",
       "      <td>16</td>\n",
       "      <td>512GB SSD</td>\n",
       "      <td>AMD Radeon Pro 455</td>\n",
       "      <td>macOS</td>\n",
       "      <td>1.83</td>\n",
       "      <td>135195.3360</td>\n",
       "      <td>0</td>\n",
       "      <td>1</td>\n",
       "      <td>2880</td>\n",
       "      <td>1800</td>\n",
       "      <td>220.534624</td>\n",
       "    </tr>\n",
       "    <tr>\n",
       "      <th>4</th>\n",
       "      <td>Apple</td>\n",
       "      <td>Ultrabook</td>\n",
       "      <td>13.3</td>\n",
       "      <td>IPS Panel Retina Display 2560x1600</td>\n",
       "      <td>Intel Core i5 3.1GHz</td>\n",
       "      <td>8</td>\n",
       "      <td>256GB SSD</td>\n",
       "      <td>Intel Iris Plus Graphics 650</td>\n",
       "      <td>macOS</td>\n",
       "      <td>1.37</td>\n",
       "      <td>96095.8080</td>\n",
       "      <td>0</td>\n",
       "      <td>1</td>\n",
       "      <td>2560</td>\n",
       "      <td>1600</td>\n",
       "      <td>226.983005</td>\n",
       "    </tr>\n",
       "  </tbody>\n",
       "</table>\n",
       "</div>"
      ],
      "text/plain": [
       "  Company   TypeName  Inches                    ScreenResolution  \\\n",
       "0   Apple  Ultrabook    13.3  IPS Panel Retina Display 2560x1600   \n",
       "1   Apple  Ultrabook    13.3                            1440x900   \n",
       "2      HP   Notebook    15.6                   Full HD 1920x1080   \n",
       "3   Apple  Ultrabook    15.4  IPS Panel Retina Display 2880x1800   \n",
       "4   Apple  Ultrabook    13.3  IPS Panel Retina Display 2560x1600   \n",
       "\n",
       "                          Cpu  Ram               Memory  \\\n",
       "0        Intel Core i5 2.3GHz    8            128GB SSD   \n",
       "1        Intel Core i5 1.8GHz    8  128GB Flash Storage   \n",
       "2  Intel Core i5 7200U 2.5GHz    8            256GB SSD   \n",
       "3        Intel Core i7 2.7GHz   16            512GB SSD   \n",
       "4        Intel Core i5 3.1GHz    8            256GB SSD   \n",
       "\n",
       "                            Gpu  OpSys  Weight        Price  TouchScreen  \\\n",
       "0  Intel Iris Plus Graphics 640  macOS    1.37   71378.6832            0   \n",
       "1        Intel HD Graphics 6000  macOS    1.34   47895.5232            0   \n",
       "2         Intel HD Graphics 620  No OS    1.86   30636.0000            0   \n",
       "3            AMD Radeon Pro 455  macOS    1.83  135195.3360            0   \n",
       "4  Intel Iris Plus Graphics 650  macOS    1.37   96095.8080            0   \n",
       "\n",
       "   IPSPanel     X     Y         PPI  \n",
       "0         1  2560  1600  226.983005  \n",
       "1         0  1440   900  127.677940  \n",
       "2         0  1920  1080  141.211998  \n",
       "3         1  2880  1800  220.534624  \n",
       "4         1  2560  1600  226.983005  "
      ]
     },
     "execution_count": 44,
     "metadata": {},
     "output_type": "execute_result"
    }
   ],
   "source": [
    "data.head()"
   ]
  },
  {
   "cell_type": "code",
   "execution_count": 45,
   "id": "46c81abe-8a2c-43d9-aa03-a05805559466",
   "metadata": {},
   "outputs": [
    {
     "name": "stdout",
     "output_type": "stream",
     "text": [
      "<class 'pandas.core.frame.DataFrame'>\n",
      "RangeIndex: 1303 entries, 0 to 1302\n",
      "Data columns (total 16 columns):\n",
      " #   Column            Non-Null Count  Dtype  \n",
      "---  ------            --------------  -----  \n",
      " 0   Company           1303 non-null   object \n",
      " 1   TypeName          1303 non-null   object \n",
      " 2   Inches            1303 non-null   float64\n",
      " 3   ScreenResolution  1303 non-null   object \n",
      " 4   Cpu               1303 non-null   object \n",
      " 5   Ram               1303 non-null   int32  \n",
      " 6   Memory            1303 non-null   object \n",
      " 7   Gpu               1303 non-null   object \n",
      " 8   OpSys             1303 non-null   object \n",
      " 9   Weight            1303 non-null   float32\n",
      " 10  Price             1303 non-null   float64\n",
      " 11  TouchScreen       1303 non-null   int64  \n",
      " 12  IPSPanel          1303 non-null   int64  \n",
      " 13  X                 1303 non-null   int32  \n",
      " 14  Y                 1303 non-null   int32  \n",
      " 15  PPI               1303 non-null   float64\n",
      "dtypes: float32(1), float64(3), int32(3), int64(2), object(7)\n",
      "memory usage: 142.6+ KB\n"
     ]
    }
   ],
   "source": [
    "data.info()"
   ]
  },
  {
   "cell_type": "markdown",
   "id": "25cb25e7-07c9-4809-bfce-2082602e5427",
   "metadata": {},
   "source": [
    "Now finding the correlation of ppi sinces inches does not have much effect on price"
   ]
  },
  {
   "cell_type": "code",
   "execution_count": 46,
   "id": "fe9d1632-dc85-4a22-b41c-29cebcda7e7d",
   "metadata": {},
   "outputs": [],
   "source": [
    "new=data.select_dtypes(include=['number'])"
   ]
  },
  {
   "cell_type": "code",
   "execution_count": 47,
   "id": "dacf4ac1-4945-4e52-b19d-9c25acc3cefc",
   "metadata": {},
   "outputs": [
    {
     "data": {
      "text/plain": [
       "Inches         0.068197\n",
       "Ram            0.743007\n",
       "Weight         0.210370\n",
       "Price          1.000000\n",
       "TouchScreen    0.191226\n",
       "IPSPanel       0.252208\n",
       "X              0.556529\n",
       "Y              0.552809\n",
       "PPI            0.473487\n",
       "Name: Price, dtype: float64"
      ]
     },
     "execution_count": 47,
     "metadata": {},
     "output_type": "execute_result"
    }
   ],
   "source": [
    "new.corr()['Price']"
   ]
  },
  {
   "cell_type": "markdown",
   "id": "dcf8c9eb-9f88-4212-a72f-c5d7bf24fc67",
   "metadata": {},
   "source": [
    "PPI has more impact as compared to Inches on Price"
   ]
  },
  {
   "cell_type": "markdown",
   "id": "152244ff-5910-46c7-ba59-b5ccbb9759e9",
   "metadata": {},
   "source": [
    "Since we have extracted all the useful things from ScreenResolution, Inches , X and Y column so now droping it"
   ]
  },
  {
   "cell_type": "code",
   "execution_count": 48,
   "id": "95ec0926-756b-4d65-a07e-68ef7cd7894b",
   "metadata": {},
   "outputs": [],
   "source": [
    "data.drop(columns=['ScreenResolution','X','Y','Inches'],inplace=True)"
   ]
  },
  {
   "cell_type": "code",
   "execution_count": 49,
   "id": "6ab4f8b6-8766-4efa-bfaa-8dbbf3ce6e94",
   "metadata": {},
   "outputs": [
    {
     "data": {
      "text/html": [
       "<div>\n",
       "<style scoped>\n",
       "    .dataframe tbody tr th:only-of-type {\n",
       "        vertical-align: middle;\n",
       "    }\n",
       "\n",
       "    .dataframe tbody tr th {\n",
       "        vertical-align: top;\n",
       "    }\n",
       "\n",
       "    .dataframe thead th {\n",
       "        text-align: right;\n",
       "    }\n",
       "</style>\n",
       "<table border=\"1\" class=\"dataframe\">\n",
       "  <thead>\n",
       "    <tr style=\"text-align: right;\">\n",
       "      <th></th>\n",
       "      <th>Company</th>\n",
       "      <th>TypeName</th>\n",
       "      <th>Cpu</th>\n",
       "      <th>Ram</th>\n",
       "      <th>Memory</th>\n",
       "      <th>Gpu</th>\n",
       "      <th>OpSys</th>\n",
       "      <th>Weight</th>\n",
       "      <th>Price</th>\n",
       "      <th>TouchScreen</th>\n",
       "      <th>IPSPanel</th>\n",
       "      <th>PPI</th>\n",
       "    </tr>\n",
       "  </thead>\n",
       "  <tbody>\n",
       "    <tr>\n",
       "      <th>0</th>\n",
       "      <td>Apple</td>\n",
       "      <td>Ultrabook</td>\n",
       "      <td>Intel Core i5 2.3GHz</td>\n",
       "      <td>8</td>\n",
       "      <td>128GB SSD</td>\n",
       "      <td>Intel Iris Plus Graphics 640</td>\n",
       "      <td>macOS</td>\n",
       "      <td>1.37</td>\n",
       "      <td>71378.6832</td>\n",
       "      <td>0</td>\n",
       "      <td>1</td>\n",
       "      <td>226.983005</td>\n",
       "    </tr>\n",
       "    <tr>\n",
       "      <th>1</th>\n",
       "      <td>Apple</td>\n",
       "      <td>Ultrabook</td>\n",
       "      <td>Intel Core i5 1.8GHz</td>\n",
       "      <td>8</td>\n",
       "      <td>128GB Flash Storage</td>\n",
       "      <td>Intel HD Graphics 6000</td>\n",
       "      <td>macOS</td>\n",
       "      <td>1.34</td>\n",
       "      <td>47895.5232</td>\n",
       "      <td>0</td>\n",
       "      <td>0</td>\n",
       "      <td>127.677940</td>\n",
       "    </tr>\n",
       "    <tr>\n",
       "      <th>2</th>\n",
       "      <td>HP</td>\n",
       "      <td>Notebook</td>\n",
       "      <td>Intel Core i5 7200U 2.5GHz</td>\n",
       "      <td>8</td>\n",
       "      <td>256GB SSD</td>\n",
       "      <td>Intel HD Graphics 620</td>\n",
       "      <td>No OS</td>\n",
       "      <td>1.86</td>\n",
       "      <td>30636.0000</td>\n",
       "      <td>0</td>\n",
       "      <td>0</td>\n",
       "      <td>141.211998</td>\n",
       "    </tr>\n",
       "    <tr>\n",
       "      <th>3</th>\n",
       "      <td>Apple</td>\n",
       "      <td>Ultrabook</td>\n",
       "      <td>Intel Core i7 2.7GHz</td>\n",
       "      <td>16</td>\n",
       "      <td>512GB SSD</td>\n",
       "      <td>AMD Radeon Pro 455</td>\n",
       "      <td>macOS</td>\n",
       "      <td>1.83</td>\n",
       "      <td>135195.3360</td>\n",
       "      <td>0</td>\n",
       "      <td>1</td>\n",
       "      <td>220.534624</td>\n",
       "    </tr>\n",
       "    <tr>\n",
       "      <th>4</th>\n",
       "      <td>Apple</td>\n",
       "      <td>Ultrabook</td>\n",
       "      <td>Intel Core i5 3.1GHz</td>\n",
       "      <td>8</td>\n",
       "      <td>256GB SSD</td>\n",
       "      <td>Intel Iris Plus Graphics 650</td>\n",
       "      <td>macOS</td>\n",
       "      <td>1.37</td>\n",
       "      <td>96095.8080</td>\n",
       "      <td>0</td>\n",
       "      <td>1</td>\n",
       "      <td>226.983005</td>\n",
       "    </tr>\n",
       "  </tbody>\n",
       "</table>\n",
       "</div>"
      ],
      "text/plain": [
       "  Company   TypeName                         Cpu  Ram               Memory  \\\n",
       "0   Apple  Ultrabook        Intel Core i5 2.3GHz    8            128GB SSD   \n",
       "1   Apple  Ultrabook        Intel Core i5 1.8GHz    8  128GB Flash Storage   \n",
       "2      HP   Notebook  Intel Core i5 7200U 2.5GHz    8            256GB SSD   \n",
       "3   Apple  Ultrabook        Intel Core i7 2.7GHz   16            512GB SSD   \n",
       "4   Apple  Ultrabook        Intel Core i5 3.1GHz    8            256GB SSD   \n",
       "\n",
       "                            Gpu  OpSys  Weight        Price  TouchScreen  \\\n",
       "0  Intel Iris Plus Graphics 640  macOS    1.37   71378.6832            0   \n",
       "1        Intel HD Graphics 6000  macOS    1.34   47895.5232            0   \n",
       "2         Intel HD Graphics 620  No OS    1.86   30636.0000            0   \n",
       "3            AMD Radeon Pro 455  macOS    1.83  135195.3360            0   \n",
       "4  Intel Iris Plus Graphics 650  macOS    1.37   96095.8080            0   \n",
       "\n",
       "   IPSPanel         PPI  \n",
       "0         1  226.983005  \n",
       "1         0  127.677940  \n",
       "2         0  141.211998  \n",
       "3         1  220.534624  \n",
       "4         1  226.983005  "
      ]
     },
     "execution_count": 49,
     "metadata": {},
     "output_type": "execute_result"
    }
   ],
   "source": [
    "data.head()"
   ]
  },
  {
   "cell_type": "code",
   "execution_count": 50,
   "id": "62037eeb-0e4f-467d-9c68-e94b286054cb",
   "metadata": {},
   "outputs": [
    {
     "data": {
      "text/plain": [
       "Cpu\n",
       "Intel Core i5 7200U 2.5GHz       190\n",
       "Intel Core i7 7700HQ 2.8GHz      146\n",
       "Intel Core i7 7500U 2.7GHz       134\n",
       "Intel Core i7 8550U 1.8GHz        73\n",
       "Intel Core i5 8250U 1.6GHz        72\n",
       "                                ... \n",
       "Intel Core i5 7200U 2.70GHz        1\n",
       "Intel Core M M7-6Y75 1.2GHz        1\n",
       "Intel Core M 6Y54 1.1GHz           1\n",
       "AMD E-Series 9000 2.2GHz           1\n",
       "Samsung Cortex A72&A53 2.0GHz      1\n",
       "Name: count, Length: 118, dtype: int64"
      ]
     },
     "execution_count": 50,
     "metadata": {},
     "output_type": "execute_result"
    }
   ],
   "source": [
    "data['Cpu'].value_counts()"
   ]
  },
  {
   "cell_type": "markdown",
   "id": "bbe9eb46-bacb-46dd-83c4-959a7b182c70",
   "metadata": {},
   "source": [
    "Since there are a lot of Cpu values therfore we are making only 5 categories for cpu columns\n",
    "Intel Core i7\n",
    "Intel Core i5\n",
    "Intel Core i3\n",
    "AMD\n",
    "Others"
   ]
  },
  {
   "cell_type": "markdown",
   "id": "af3511d5-3520-48e9-b4a8-43249473cefd",
   "metadata": {},
   "source": [
    "Extracting starting 3 words"
   ]
  },
  {
   "cell_type": "code",
   "execution_count": 51,
   "id": "1e59e03f-4418-4f18-8aeb-b10e99a1b7f6",
   "metadata": {},
   "outputs": [],
   "source": [
    "data['Cpu Name']=data['Cpu'].apply(lambda x:\" \".join(x.split()[0:3]))"
   ]
  },
  {
   "cell_type": "code",
   "execution_count": 52,
   "id": "12af403d-5451-412b-abab-cd43aa052721",
   "metadata": {},
   "outputs": [
    {
     "data": {
      "text/html": [
       "<div>\n",
       "<style scoped>\n",
       "    .dataframe tbody tr th:only-of-type {\n",
       "        vertical-align: middle;\n",
       "    }\n",
       "\n",
       "    .dataframe tbody tr th {\n",
       "        vertical-align: top;\n",
       "    }\n",
       "\n",
       "    .dataframe thead th {\n",
       "        text-align: right;\n",
       "    }\n",
       "</style>\n",
       "<table border=\"1\" class=\"dataframe\">\n",
       "  <thead>\n",
       "    <tr style=\"text-align: right;\">\n",
       "      <th></th>\n",
       "      <th>Company</th>\n",
       "      <th>TypeName</th>\n",
       "      <th>Cpu</th>\n",
       "      <th>Ram</th>\n",
       "      <th>Memory</th>\n",
       "      <th>Gpu</th>\n",
       "      <th>OpSys</th>\n",
       "      <th>Weight</th>\n",
       "      <th>Price</th>\n",
       "      <th>TouchScreen</th>\n",
       "      <th>IPSPanel</th>\n",
       "      <th>PPI</th>\n",
       "      <th>Cpu Name</th>\n",
       "    </tr>\n",
       "  </thead>\n",
       "  <tbody>\n",
       "    <tr>\n",
       "      <th>0</th>\n",
       "      <td>Apple</td>\n",
       "      <td>Ultrabook</td>\n",
       "      <td>Intel Core i5 2.3GHz</td>\n",
       "      <td>8</td>\n",
       "      <td>128GB SSD</td>\n",
       "      <td>Intel Iris Plus Graphics 640</td>\n",
       "      <td>macOS</td>\n",
       "      <td>1.37</td>\n",
       "      <td>71378.6832</td>\n",
       "      <td>0</td>\n",
       "      <td>1</td>\n",
       "      <td>226.983005</td>\n",
       "      <td>Intel Core i5</td>\n",
       "    </tr>\n",
       "    <tr>\n",
       "      <th>1</th>\n",
       "      <td>Apple</td>\n",
       "      <td>Ultrabook</td>\n",
       "      <td>Intel Core i5 1.8GHz</td>\n",
       "      <td>8</td>\n",
       "      <td>128GB Flash Storage</td>\n",
       "      <td>Intel HD Graphics 6000</td>\n",
       "      <td>macOS</td>\n",
       "      <td>1.34</td>\n",
       "      <td>47895.5232</td>\n",
       "      <td>0</td>\n",
       "      <td>0</td>\n",
       "      <td>127.677940</td>\n",
       "      <td>Intel Core i5</td>\n",
       "    </tr>\n",
       "    <tr>\n",
       "      <th>2</th>\n",
       "      <td>HP</td>\n",
       "      <td>Notebook</td>\n",
       "      <td>Intel Core i5 7200U 2.5GHz</td>\n",
       "      <td>8</td>\n",
       "      <td>256GB SSD</td>\n",
       "      <td>Intel HD Graphics 620</td>\n",
       "      <td>No OS</td>\n",
       "      <td>1.86</td>\n",
       "      <td>30636.0000</td>\n",
       "      <td>0</td>\n",
       "      <td>0</td>\n",
       "      <td>141.211998</td>\n",
       "      <td>Intel Core i5</td>\n",
       "    </tr>\n",
       "    <tr>\n",
       "      <th>3</th>\n",
       "      <td>Apple</td>\n",
       "      <td>Ultrabook</td>\n",
       "      <td>Intel Core i7 2.7GHz</td>\n",
       "      <td>16</td>\n",
       "      <td>512GB SSD</td>\n",
       "      <td>AMD Radeon Pro 455</td>\n",
       "      <td>macOS</td>\n",
       "      <td>1.83</td>\n",
       "      <td>135195.3360</td>\n",
       "      <td>0</td>\n",
       "      <td>1</td>\n",
       "      <td>220.534624</td>\n",
       "      <td>Intel Core i7</td>\n",
       "    </tr>\n",
       "    <tr>\n",
       "      <th>4</th>\n",
       "      <td>Apple</td>\n",
       "      <td>Ultrabook</td>\n",
       "      <td>Intel Core i5 3.1GHz</td>\n",
       "      <td>8</td>\n",
       "      <td>256GB SSD</td>\n",
       "      <td>Intel Iris Plus Graphics 650</td>\n",
       "      <td>macOS</td>\n",
       "      <td>1.37</td>\n",
       "      <td>96095.8080</td>\n",
       "      <td>0</td>\n",
       "      <td>1</td>\n",
       "      <td>226.983005</td>\n",
       "      <td>Intel Core i5</td>\n",
       "    </tr>\n",
       "  </tbody>\n",
       "</table>\n",
       "</div>"
      ],
      "text/plain": [
       "  Company   TypeName                         Cpu  Ram               Memory  \\\n",
       "0   Apple  Ultrabook        Intel Core i5 2.3GHz    8            128GB SSD   \n",
       "1   Apple  Ultrabook        Intel Core i5 1.8GHz    8  128GB Flash Storage   \n",
       "2      HP   Notebook  Intel Core i5 7200U 2.5GHz    8            256GB SSD   \n",
       "3   Apple  Ultrabook        Intel Core i7 2.7GHz   16            512GB SSD   \n",
       "4   Apple  Ultrabook        Intel Core i5 3.1GHz    8            256GB SSD   \n",
       "\n",
       "                            Gpu  OpSys  Weight        Price  TouchScreen  \\\n",
       "0  Intel Iris Plus Graphics 640  macOS    1.37   71378.6832            0   \n",
       "1        Intel HD Graphics 6000  macOS    1.34   47895.5232            0   \n",
       "2         Intel HD Graphics 620  No OS    1.86   30636.0000            0   \n",
       "3            AMD Radeon Pro 455  macOS    1.83  135195.3360            0   \n",
       "4  Intel Iris Plus Graphics 650  macOS    1.37   96095.8080            0   \n",
       "\n",
       "   IPSPanel         PPI       Cpu Name  \n",
       "0         1  226.983005  Intel Core i5  \n",
       "1         0  127.677940  Intel Core i5  \n",
       "2         0  141.211998  Intel Core i5  \n",
       "3         1  220.534624  Intel Core i7  \n",
       "4         1  226.983005  Intel Core i5  "
      ]
     },
     "execution_count": 52,
     "metadata": {},
     "output_type": "execute_result"
    }
   ],
   "source": [
    "data.head()"
   ]
  },
  {
   "cell_type": "markdown",
   "id": "0e4a9b47-2332-432e-83e1-a45867f64039",
   "metadata": {},
   "source": [
    "Making a function to categorise Cpu into 5 categories"
   ]
  },
  {
   "cell_type": "code",
   "execution_count": 53,
   "id": "be5133b4-0c48-4e07-95a0-2618f820d721",
   "metadata": {},
   "outputs": [],
   "source": [
    "def help(text):\n",
    "    if text=='Intel Core i7' or text=='Intel Core i5' or text=='Intel Core i3':\n",
    "        return text\n",
    "    elif text.split()[0]=='AMD':\n",
    "        return 'AMD Processor'\n",
    "    else:\n",
    "        return 'Other Intel Processor'"
   ]
  },
  {
   "cell_type": "code",
   "execution_count": 54,
   "id": "c6911775-7bc3-41df-9362-dbb8bd34e58d",
   "metadata": {},
   "outputs": [],
   "source": [
    "data['Cpu Brand']=data['Cpu Name'].apply(help)"
   ]
  },
  {
   "cell_type": "code",
   "execution_count": 55,
   "id": "af057280-1d36-4445-94ce-6c7d2883521a",
   "metadata": {},
   "outputs": [
    {
     "data": {
      "text/html": [
       "<div>\n",
       "<style scoped>\n",
       "    .dataframe tbody tr th:only-of-type {\n",
       "        vertical-align: middle;\n",
       "    }\n",
       "\n",
       "    .dataframe tbody tr th {\n",
       "        vertical-align: top;\n",
       "    }\n",
       "\n",
       "    .dataframe thead th {\n",
       "        text-align: right;\n",
       "    }\n",
       "</style>\n",
       "<table border=\"1\" class=\"dataframe\">\n",
       "  <thead>\n",
       "    <tr style=\"text-align: right;\">\n",
       "      <th></th>\n",
       "      <th>Company</th>\n",
       "      <th>TypeName</th>\n",
       "      <th>Cpu</th>\n",
       "      <th>Ram</th>\n",
       "      <th>Memory</th>\n",
       "      <th>Gpu</th>\n",
       "      <th>OpSys</th>\n",
       "      <th>Weight</th>\n",
       "      <th>Price</th>\n",
       "      <th>TouchScreen</th>\n",
       "      <th>IPSPanel</th>\n",
       "      <th>PPI</th>\n",
       "      <th>Cpu Name</th>\n",
       "      <th>Cpu Brand</th>\n",
       "    </tr>\n",
       "  </thead>\n",
       "  <tbody>\n",
       "    <tr>\n",
       "      <th>0</th>\n",
       "      <td>Apple</td>\n",
       "      <td>Ultrabook</td>\n",
       "      <td>Intel Core i5 2.3GHz</td>\n",
       "      <td>8</td>\n",
       "      <td>128GB SSD</td>\n",
       "      <td>Intel Iris Plus Graphics 640</td>\n",
       "      <td>macOS</td>\n",
       "      <td>1.37</td>\n",
       "      <td>71378.6832</td>\n",
       "      <td>0</td>\n",
       "      <td>1</td>\n",
       "      <td>226.983005</td>\n",
       "      <td>Intel Core i5</td>\n",
       "      <td>Intel Core i5</td>\n",
       "    </tr>\n",
       "    <tr>\n",
       "      <th>1</th>\n",
       "      <td>Apple</td>\n",
       "      <td>Ultrabook</td>\n",
       "      <td>Intel Core i5 1.8GHz</td>\n",
       "      <td>8</td>\n",
       "      <td>128GB Flash Storage</td>\n",
       "      <td>Intel HD Graphics 6000</td>\n",
       "      <td>macOS</td>\n",
       "      <td>1.34</td>\n",
       "      <td>47895.5232</td>\n",
       "      <td>0</td>\n",
       "      <td>0</td>\n",
       "      <td>127.677940</td>\n",
       "      <td>Intel Core i5</td>\n",
       "      <td>Intel Core i5</td>\n",
       "    </tr>\n",
       "    <tr>\n",
       "      <th>2</th>\n",
       "      <td>HP</td>\n",
       "      <td>Notebook</td>\n",
       "      <td>Intel Core i5 7200U 2.5GHz</td>\n",
       "      <td>8</td>\n",
       "      <td>256GB SSD</td>\n",
       "      <td>Intel HD Graphics 620</td>\n",
       "      <td>No OS</td>\n",
       "      <td>1.86</td>\n",
       "      <td>30636.0000</td>\n",
       "      <td>0</td>\n",
       "      <td>0</td>\n",
       "      <td>141.211998</td>\n",
       "      <td>Intel Core i5</td>\n",
       "      <td>Intel Core i5</td>\n",
       "    </tr>\n",
       "    <tr>\n",
       "      <th>3</th>\n",
       "      <td>Apple</td>\n",
       "      <td>Ultrabook</td>\n",
       "      <td>Intel Core i7 2.7GHz</td>\n",
       "      <td>16</td>\n",
       "      <td>512GB SSD</td>\n",
       "      <td>AMD Radeon Pro 455</td>\n",
       "      <td>macOS</td>\n",
       "      <td>1.83</td>\n",
       "      <td>135195.3360</td>\n",
       "      <td>0</td>\n",
       "      <td>1</td>\n",
       "      <td>220.534624</td>\n",
       "      <td>Intel Core i7</td>\n",
       "      <td>Intel Core i7</td>\n",
       "    </tr>\n",
       "    <tr>\n",
       "      <th>4</th>\n",
       "      <td>Apple</td>\n",
       "      <td>Ultrabook</td>\n",
       "      <td>Intel Core i5 3.1GHz</td>\n",
       "      <td>8</td>\n",
       "      <td>256GB SSD</td>\n",
       "      <td>Intel Iris Plus Graphics 650</td>\n",
       "      <td>macOS</td>\n",
       "      <td>1.37</td>\n",
       "      <td>96095.8080</td>\n",
       "      <td>0</td>\n",
       "      <td>1</td>\n",
       "      <td>226.983005</td>\n",
       "      <td>Intel Core i5</td>\n",
       "      <td>Intel Core i5</td>\n",
       "    </tr>\n",
       "  </tbody>\n",
       "</table>\n",
       "</div>"
      ],
      "text/plain": [
       "  Company   TypeName                         Cpu  Ram               Memory  \\\n",
       "0   Apple  Ultrabook        Intel Core i5 2.3GHz    8            128GB SSD   \n",
       "1   Apple  Ultrabook        Intel Core i5 1.8GHz    8  128GB Flash Storage   \n",
       "2      HP   Notebook  Intel Core i5 7200U 2.5GHz    8            256GB SSD   \n",
       "3   Apple  Ultrabook        Intel Core i7 2.7GHz   16            512GB SSD   \n",
       "4   Apple  Ultrabook        Intel Core i5 3.1GHz    8            256GB SSD   \n",
       "\n",
       "                            Gpu  OpSys  Weight        Price  TouchScreen  \\\n",
       "0  Intel Iris Plus Graphics 640  macOS    1.37   71378.6832            0   \n",
       "1        Intel HD Graphics 6000  macOS    1.34   47895.5232            0   \n",
       "2         Intel HD Graphics 620  No OS    1.86   30636.0000            0   \n",
       "3            AMD Radeon Pro 455  macOS    1.83  135195.3360            0   \n",
       "4  Intel Iris Plus Graphics 650  macOS    1.37   96095.8080            0   \n",
       "\n",
       "   IPSPanel         PPI       Cpu Name      Cpu Brand  \n",
       "0         1  226.983005  Intel Core i5  Intel Core i5  \n",
       "1         0  127.677940  Intel Core i5  Intel Core i5  \n",
       "2         0  141.211998  Intel Core i5  Intel Core i5  \n",
       "3         1  220.534624  Intel Core i7  Intel Core i7  \n",
       "4         1  226.983005  Intel Core i5  Intel Core i5  "
      ]
     },
     "execution_count": 55,
     "metadata": {},
     "output_type": "execute_result"
    }
   ],
   "source": [
    "data.head()"
   ]
  },
  {
   "cell_type": "code",
   "execution_count": 56,
   "id": "0cf92f2e-5a86-4bea-8c0b-4ef68bbffa89",
   "metadata": {},
   "outputs": [
    {
     "data": {
      "text/plain": [
       "<Axes: xlabel='Cpu Brand'>"
      ]
     },
     "execution_count": 56,
     "metadata": {},
     "output_type": "execute_result"
    },
    {
     "data": {
      "image/png": "[encoded data removed]",
      "text/plain": [
       "<Figure size 640x480 with 1 Axes>"
      ]
     },
     "metadata": {},
     "output_type": "display_data"
    }
   ],
   "source": [
    "data['Cpu Brand'].value_counts().plot(kind='bar')"
   ]
  },
  {
   "cell_type": "code",
   "execution_count": 57,
   "id": "8a90633c-6726-49ff-adca-ce56307c8a23",
   "metadata": {},
   "outputs": [
    {
     "data": {
      "image/png": "[encoded data removed]",
      "text/plain": [
       "<Figure size 640x480 with 1 Axes>"
      ]
     },
     "metadata": {},
     "output_type": "display_data"
    }
   ],
   "source": [
    "sns.barplot(x=data['Cpu Brand'],y=data['Price'])\n",
    "plt.xticks(rotation='vertical')\n",
    "plt.show()"
   ]
  },
  {
   "cell_type": "markdown",
   "id": "b7ad29a6-8d90-4503-8ad4-799fc3ade9d8",
   "metadata": {},
   "source": [
    "Droping the Cpu and Cpu Name column as we have extracted Cpu Brand from it"
   ]
  },
  {
   "cell_type": "code",
   "execution_count": 58,
   "id": "7e588028-30c5-4f2d-bd50-bffc3cd7f0f7",
   "metadata": {},
   "outputs": [],
   "source": [
    "data.drop(columns=['Cpu','Cpu Name'],inplace=True)"
   ]
  },
  {
   "cell_type": "code",
   "execution_count": 59,
   "id": "e08c7d11-e38e-44a4-b89c-b6a3861477aa",
   "metadata": {},
   "outputs": [
    {
     "data": {
      "text/html": [
       "<div>\n",
       "<style scoped>\n",
       "    .dataframe tbody tr th:only-of-type {\n",
       "        vertical-align: middle;\n",
       "    }\n",
       "\n",
       "    .dataframe tbody tr th {\n",
       "        vertical-align: top;\n",
       "    }\n",
       "\n",
       "    .dataframe thead th {\n",
       "        text-align: right;\n",
       "    }\n",
       "</style>\n",
       "<table border=\"1\" class=\"dataframe\">\n",
       "  <thead>\n",
       "    <tr style=\"text-align: right;\">\n",
       "      <th></th>\n",
       "      <th>Company</th>\n",
       "      <th>TypeName</th>\n",
       "      <th>Ram</th>\n",
       "      <th>Memory</th>\n",
       "      <th>Gpu</th>\n",
       "      <th>OpSys</th>\n",
       "      <th>Weight</th>\n",
       "      <th>Price</th>\n",
       "      <th>TouchScreen</th>\n",
       "      <th>IPSPanel</th>\n",
       "      <th>PPI</th>\n",
       "      <th>Cpu Brand</th>\n",
       "    </tr>\n",
       "  </thead>\n",
       "  <tbody>\n",
       "    <tr>\n",
       "      <th>0</th>\n",
       "      <td>Apple</td>\n",
       "      <td>Ultrabook</td>\n",
       "      <td>8</td>\n",
       "      <td>128GB SSD</td>\n",
       "      <td>Intel Iris Plus Graphics 640</td>\n",
       "      <td>macOS</td>\n",
       "      <td>1.37</td>\n",
       "      <td>71378.6832</td>\n",
       "      <td>0</td>\n",
       "      <td>1</td>\n",
       "      <td>226.983005</td>\n",
       "      <td>Intel Core i5</td>\n",
       "    </tr>\n",
       "    <tr>\n",
       "      <th>1</th>\n",
       "      <td>Apple</td>\n",
       "      <td>Ultrabook</td>\n",
       "      <td>8</td>\n",
       "      <td>128GB Flash Storage</td>\n",
       "      <td>Intel HD Graphics 6000</td>\n",
       "      <td>macOS</td>\n",
       "      <td>1.34</td>\n",
       "      <td>47895.5232</td>\n",
       "      <td>0</td>\n",
       "      <td>0</td>\n",
       "      <td>127.677940</td>\n",
       "      <td>Intel Core i5</td>\n",
       "    </tr>\n",
       "    <tr>\n",
       "      <th>2</th>\n",
       "      <td>HP</td>\n",
       "      <td>Notebook</td>\n",
       "      <td>8</td>\n",
       "      <td>256GB SSD</td>\n",
       "      <td>Intel HD Graphics 620</td>\n",
       "      <td>No OS</td>\n",
       "      <td>1.86</td>\n",
       "      <td>30636.0000</td>\n",
       "      <td>0</td>\n",
       "      <td>0</td>\n",
       "      <td>141.211998</td>\n",
       "      <td>Intel Core i5</td>\n",
       "    </tr>\n",
       "    <tr>\n",
       "      <th>3</th>\n",
       "      <td>Apple</td>\n",
       "      <td>Ultrabook</td>\n",
       "      <td>16</td>\n",
       "      <td>512GB SSD</td>\n",
       "      <td>AMD Radeon Pro 455</td>\n",
       "      <td>macOS</td>\n",
       "      <td>1.83</td>\n",
       "      <td>135195.3360</td>\n",
       "      <td>0</td>\n",
       "      <td>1</td>\n",
       "      <td>220.534624</td>\n",
       "      <td>Intel Core i7</td>\n",
       "    </tr>\n",
       "    <tr>\n",
       "      <th>4</th>\n",
       "      <td>Apple</td>\n",
       "      <td>Ultrabook</td>\n",
       "      <td>8</td>\n",
       "      <td>256GB SSD</td>\n",
       "      <td>Intel Iris Plus Graphics 650</td>\n",
       "      <td>macOS</td>\n",
       "      <td>1.37</td>\n",
       "      <td>96095.8080</td>\n",
       "      <td>0</td>\n",
       "      <td>1</td>\n",
       "      <td>226.983005</td>\n",
       "      <td>Intel Core i5</td>\n",
       "    </tr>\n",
       "  </tbody>\n",
       "</table>\n",
       "</div>"
      ],
      "text/plain": [
       "  Company   TypeName  Ram               Memory                           Gpu  \\\n",
       "0   Apple  Ultrabook    8            128GB SSD  Intel Iris Plus Graphics 640   \n",
       "1   Apple  Ultrabook    8  128GB Flash Storage        Intel HD Graphics 6000   \n",
       "2      HP   Notebook    8            256GB SSD         Intel HD Graphics 620   \n",
       "3   Apple  Ultrabook   16            512GB SSD            AMD Radeon Pro 455   \n",
       "4   Apple  Ultrabook    8            256GB SSD  Intel Iris Plus Graphics 650   \n",
       "\n",
       "   OpSys  Weight        Price  TouchScreen  IPSPanel         PPI  \\\n",
       "0  macOS    1.37   71378.6832            0         1  226.983005   \n",
       "1  macOS    1.34   47895.5232            0         0  127.677940   \n",
       "2  No OS    1.86   30636.0000            0         0  141.211998   \n",
       "3  macOS    1.83  135195.3360            0         1  220.534624   \n",
       "4  macOS    1.37   96095.8080            0         1  226.983005   \n",
       "\n",
       "       Cpu Brand  \n",
       "0  Intel Core i5  \n",
       "1  Intel Core i5  \n",
       "2  Intel Core i5  \n",
       "3  Intel Core i7  \n",
       "4  Intel Core i5  "
      ]
     },
     "execution_count": 59,
     "metadata": {},
     "output_type": "execute_result"
    }
   ],
   "source": [
    "data.head()"
   ]
  },
  {
   "cell_type": "code",
   "execution_count": 60,
   "id": "6cc56e08-b155-477c-9349-7adf97b426cc",
   "metadata": {},
   "outputs": [
    {
     "data": {
      "text/plain": [
       "<Axes: xlabel='Ram'>"
      ]
     },
     "execution_count": 60,
     "metadata": {},
     "output_type": "execute_result"
    },
    {
     "data": {
      "image/png": "[encoded data removed]",
      "text/plain": [
       "<Figure size 640x480 with 1 Axes>"
      ]
     },
     "metadata": {},
     "output_type": "display_data"
    }
   ],
   "source": [
    "data['Ram'].value_counts().plot(kind='bar')"
   ]
  },
  {
   "cell_type": "code",
   "execution_count": 61,
   "id": "94079624-7559-40f8-84b3-9bc0dffd02dd",
   "metadata": {},
   "outputs": [
    {
     "data": {
      "text/plain": [
       "<Axes: xlabel='Ram', ylabel='Price'>"
      ]
     },
     "execution_count": 61,
     "metadata": {},
     "output_type": "execute_result"
    },
    {
     "data": {
      "image/png": "[encoded data removed]",
      "text/plain": [
       "<Figure size 640x480 with 1 Axes>"
      ]
     },
     "metadata": {},
     "output_type": "display_data"
    }
   ],
   "source": [
    "sns.barplot(x=data['Ram'],y=data['Price'])"
   ]
  },
  {
   "cell_type": "markdown",
   "id": "3bc0dd7c-f069-47f3-bbe5-9b350ddd875a",
   "metadata": {},
   "source": [
    "It is clearly visible that as the size of Ram increases price also increases"
   ]
  },
  {
   "cell_type": "code",
   "execution_count": 62,
   "id": "171f2f5a-0380-4e5a-94ac-5a8e4cf2d602",
   "metadata": {
    "scrolled": true
   },
   "outputs": [
    {
     "data": {
      "text/plain": [
       "Memory\n",
       "256GB SSD                        412\n",
       "1TB HDD                          223\n",
       "500GB HDD                        132\n",
       "512GB SSD                        118\n",
       "128GB SSD +  1TB HDD              94\n",
       "128GB SSD                         76\n",
       "256GB SSD +  1TB HDD              73\n",
       "32GB Flash Storage                38\n",
       "2TB HDD                           16\n",
       "64GB Flash Storage                15\n",
       "1TB SSD                           14\n",
       "512GB SSD +  1TB HDD              14\n",
       "256GB SSD +  2TB HDD              10\n",
       "1.0TB Hybrid                       9\n",
       "256GB Flash Storage                8\n",
       "16GB Flash Storage                 7\n",
       "32GB SSD                           6\n",
       "180GB SSD                          5\n",
       "128GB Flash Storage                4\n",
       "16GB SSD                           3\n",
       "512GB SSD +  2TB HDD               3\n",
       "128GB SSD +  2TB HDD               2\n",
       "256GB SSD +  256GB SSD             2\n",
       "512GB Flash Storage                2\n",
       "1TB SSD +  1TB HDD                 2\n",
       "256GB SSD +  500GB HDD             2\n",
       "64GB SSD                           1\n",
       "512GB SSD +  512GB SSD             1\n",
       "64GB Flash Storage +  1TB HDD      1\n",
       "1TB HDD +  1TB HDD                 1\n",
       "512GB SSD +  256GB SSD             1\n",
       "32GB HDD                           1\n",
       "128GB HDD                          1\n",
       "240GB SSD                          1\n",
       "8GB SSD                            1\n",
       "508GB Hybrid                       1\n",
       "1.0TB HDD                          1\n",
       "512GB SSD +  1.0TB Hybrid          1\n",
       "256GB SSD +  1.0TB Hybrid          1\n",
       "Name: count, dtype: int64"
      ]
     },
     "execution_count": 62,
     "metadata": {},
     "output_type": "execute_result"
    }
   ],
   "source": [
    "data['Memory'].value_counts()"
   ]
  },
  {
   "cell_type": "markdown",
   "id": "f5ecc05b-b0e6-4d28-a8e2-372a6b527f2e",
   "metadata": {},
   "source": [
    "From the memory column making 4 new columns named\n",
    "Hybrid\n",
    "HDD\n",
    "SSD\n",
    "Flash Storage"
   ]
  },
  {
   "cell_type": "code",
   "execution_count": 63,
   "id": "0a300302-6ca2-4a86-bcca-8e4ff83771a2",
   "metadata": {},
   "outputs": [],
   "source": [
    "data['Memory']=data['Memory'].astype(str).replace('.0','',regex=True)\n",
    "data['Memory']=data['Memory'].str.replace('GB','')\n",
    "data['Memory']=data['Memory'].str.replace('TB','000')"
   ]
  },
  {
   "cell_type": "markdown",
   "id": "60e65cc2-941a-49cc-b4e0-229e33d4a3db",
   "metadata": {},
   "source": [
    "Making 2 temporary columns first and second both storing values before + and after +"
   ]
  },
  {
   "cell_type": "code",
   "execution_count": 64,
   "id": "038f8e4f-f6f0-4f10-aa3f-c711511fc6d5",
   "metadata": {},
   "outputs": [],
   "source": [
    "t=data['Memory'].str.split('+',n=1,expand=True)"
   ]
  },
  {
   "cell_type": "code",
   "execution_count": 65,
   "id": "27d95a88-e6a5-4a57-854e-676302f4242e",
   "metadata": {},
   "outputs": [],
   "source": [
    "data['First']=t[0]\n",
    "data['First']=data['First'].str.strip()"
   ]
  },
  {
   "cell_type": "code",
   "execution_count": 66,
   "id": "d8e9800d-a09d-4607-a2fa-c1366c2676c4",
   "metadata": {},
   "outputs": [],
   "source": [
    "data['Second']=t[1]"
   ]
  },
  {
   "cell_type": "code",
   "execution_count": 67,
   "id": "8c96bd5d-9ba8-41bb-a934-720ae060ffb4",
   "metadata": {},
   "outputs": [],
   "source": [
    "data['1HDD']=data['First'].apply(lambda x: 1 if 'HDD' in x else 0)"
   ]
  },
  {
   "cell_type": "code",
   "execution_count": 68,
   "id": "baebb412-d572-48e7-a977-76111f2955fa",
   "metadata": {},
   "outputs": [],
   "source": [
    "data['1SSD']=data['First'].apply(lambda x: 1 if 'SSD' in x else 0)"
   ]
  },
  {
   "cell_type": "code",
   "execution_count": 69,
   "id": "83b2464e-7f66-4560-bf64-aa68126383c6",
   "metadata": {},
   "outputs": [],
   "source": [
    "data['1Hybrid']=data['First'].apply(lambda x : 1 if 'Hybrid' in x else 0)"
   ]
  },
  {
   "cell_type": "code",
   "execution_count": 70,
   "id": "fdf196aa-6d0d-4eb3-bf82-1ffbb9db626d",
   "metadata": {},
   "outputs": [],
   "source": [
    "data['1Flash']=data['First'].apply(lambda x : 1 if 'Flash Storage' in x else 0)"
   ]
  },
  {
   "cell_type": "code",
   "execution_count": 71,
   "id": "5d119b64-6928-4878-99a9-f767770f7419",
   "metadata": {},
   "outputs": [],
   "source": [
    "data['First']=data['First'].str.replace(r'\\D','',regex=True)"
   ]
  },
  {
   "cell_type": "code",
   "execution_count": 72,
   "id": "7f2e69e8-0daa-42d0-8a36-913002813c68",
   "metadata": {},
   "outputs": [
    {
     "name": "stderr",
     "output_type": "stream",
     "text": [
      "C:\\Users\\Hp\\AppData\\Local\\Temp\\ipykernel_13184\\1428454796.py:1: FutureWarning: A value is trying to be set on a copy of a DataFrame or Series through chained assignment using an inplace method.\n",
      "The behavior will change in pandas 3.0. This inplace method will never work because the intermediate object on which we are setting values always behaves as a copy.\n",
      "\n",
      "For example, when doing 'df[col].method(value, inplace=True)', try using 'df.method({col: value}, inplace=True)' or df[col] = df[col].method(value) instead, to perform the operation inplace on the original object.\n",
      "\n",
      "\n",
      "  data['Second'].fillna('0',inplace=True)\n"
     ]
    }
   ],
   "source": [
    "data['Second'].fillna('0',inplace=True)"
   ]
  },
  {
   "cell_type": "code",
   "execution_count": 73,
   "id": "2725bf7a-89ea-444a-bcf0-2dd794f5c135",
   "metadata": {},
   "outputs": [
    {
     "data": {
      "text/plain": [
       "0        128\n",
       "1        128\n",
       "2        256\n",
       "3        512\n",
       "4        256\n",
       "        ... \n",
       "1298     128\n",
       "1299     512\n",
       "1300      64\n",
       "1301    1000\n",
       "1302       0\n",
       "Name: First, Length: 1303, dtype: object"
      ]
     },
     "execution_count": 73,
     "metadata": {},
     "output_type": "execute_result"
    }
   ],
   "source": [
    "data['First']"
   ]
  },
  {
   "cell_type": "code",
   "execution_count": 74,
   "id": "0f4661d7-eb57-4329-b146-6177bac90122",
   "metadata": {},
   "outputs": [],
   "source": [
    "data['2HDD']=data['First'].apply(lambda x: 1 if 'HDD' in x else 0)"
   ]
  },
  {
   "cell_type": "code",
   "execution_count": 75,
   "id": "742e95a1-edb3-4f35-8125-b130e00070ee",
   "metadata": {},
   "outputs": [],
   "source": [
    "data['2SSD']=data['First'].apply(lambda x: 1 if 'SSD' in x else 0)"
   ]
  },
  {
   "cell_type": "code",
   "execution_count": 76,
   "id": "36e1ba9f-3598-4009-a949-6f06e0dc6331",
   "metadata": {},
   "outputs": [],
   "source": [
    "data['2Hybrid']=data['First'].apply(lambda x: 1 if 'Hybrid' in x else 0)"
   ]
  },
  {
   "cell_type": "code",
   "execution_count": 77,
   "id": "05abaa21-7728-4f9b-8a98-3862b06cb2c7",
   "metadata": {},
   "outputs": [],
   "source": [
    "data['2Flash']=data['First'].apply(lambda x: 1 if 'Flash Memory' in x else 0)"
   ]
  },
  {
   "cell_type": "code",
   "execution_count": 78,
   "id": "91a0517b-c2e7-43ca-b902-76ed8231691e",
   "metadata": {},
   "outputs": [],
   "source": [
    "data['Second']=data['Second'].str.replace(r'\\D','',regex=True)"
   ]
  },
  {
   "cell_type": "code",
   "execution_count": 79,
   "id": "a6845a75-8c2b-44f3-a187-76e97ffc9392",
   "metadata": {},
   "outputs": [],
   "source": [
    "data['HDD']=data['First']*data['1HDD']+data['Second']*data['2HDD']"
   ]
  },
  {
   "cell_type": "code",
   "execution_count": 80,
   "id": "3c050019-77fb-47cf-96c8-0db3d76a0865",
   "metadata": {},
   "outputs": [],
   "source": [
    "data['SSD']=data['First']*data['1SSD']+data['Second']*data['2SSD']"
   ]
  },
  {
   "cell_type": "code",
   "execution_count": 81,
   "id": "bba6f884-ab31-4a12-9a72-1bcf3bd80e6b",
   "metadata": {},
   "outputs": [],
   "source": [
    "data['Hybrid']=data['First']*data['1Hybrid']+data['Second']*data['2Hybrid']"
   ]
  },
  {
   "cell_type": "code",
   "execution_count": 82,
   "id": "38d2b00d-b61f-4daf-b102-0b2f32ec6ffe",
   "metadata": {},
   "outputs": [],
   "source": [
    "data['Flash']=data['First']*data['1Flash']+data['Second']*data['2Flash']"
   ]
  },
  {
   "cell_type": "code",
   "execution_count": 83,
   "id": "031f057c-ba0c-425d-b966-79a4e6508923",
   "metadata": {},
   "outputs": [
    {
     "data": {
      "text/html": [
       "<div>\n",
       "<style scoped>\n",
       "    .dataframe tbody tr th:only-of-type {\n",
       "        vertical-align: middle;\n",
       "    }\n",
       "\n",
       "    .dataframe tbody tr th {\n",
       "        vertical-align: top;\n",
       "    }\n",
       "\n",
       "    .dataframe thead th {\n",
       "        text-align: right;\n",
       "    }\n",
       "</style>\n",
       "<table border=\"1\" class=\"dataframe\">\n",
       "  <thead>\n",
       "    <tr style=\"text-align: right;\">\n",
       "      <th></th>\n",
       "      <th>Company</th>\n",
       "      <th>TypeName</th>\n",
       "      <th>Ram</th>\n",
       "      <th>Memory</th>\n",
       "      <th>Gpu</th>\n",
       "      <th>OpSys</th>\n",
       "      <th>Weight</th>\n",
       "      <th>Price</th>\n",
       "      <th>TouchScreen</th>\n",
       "      <th>IPSPanel</th>\n",
       "      <th>...</th>\n",
       "      <th>1Hybrid</th>\n",
       "      <th>1Flash</th>\n",
       "      <th>2HDD</th>\n",
       "      <th>2SSD</th>\n",
       "      <th>2Hybrid</th>\n",
       "      <th>2Flash</th>\n",
       "      <th>HDD</th>\n",
       "      <th>SSD</th>\n",
       "      <th>Hybrid</th>\n",
       "      <th>Flash</th>\n",
       "    </tr>\n",
       "  </thead>\n",
       "  <tbody>\n",
       "    <tr>\n",
       "      <th>0</th>\n",
       "      <td>Apple</td>\n",
       "      <td>Ultrabook</td>\n",
       "      <td>8</td>\n",
       "      <td>128 SSD</td>\n",
       "      <td>Intel Iris Plus Graphics 640</td>\n",
       "      <td>macOS</td>\n",
       "      <td>1.37</td>\n",
       "      <td>71378.6832</td>\n",
       "      <td>0</td>\n",
       "      <td>1</td>\n",
       "      <td>...</td>\n",
       "      <td>0</td>\n",
       "      <td>0</td>\n",
       "      <td>0</td>\n",
       "      <td>0</td>\n",
       "      <td>0</td>\n",
       "      <td>0</td>\n",
       "      <td></td>\n",
       "      <td>128</td>\n",
       "      <td></td>\n",
       "      <td></td>\n",
       "    </tr>\n",
       "    <tr>\n",
       "      <th>1</th>\n",
       "      <td>Apple</td>\n",
       "      <td>Ultrabook</td>\n",
       "      <td>8</td>\n",
       "      <td>128 Flash Storage</td>\n",
       "      <td>Intel HD Graphics 6000</td>\n",
       "      <td>macOS</td>\n",
       "      <td>1.34</td>\n",
       "      <td>47895.5232</td>\n",
       "      <td>0</td>\n",
       "      <td>0</td>\n",
       "      <td>...</td>\n",
       "      <td>0</td>\n",
       "      <td>1</td>\n",
       "      <td>0</td>\n",
       "      <td>0</td>\n",
       "      <td>0</td>\n",
       "      <td>0</td>\n",
       "      <td></td>\n",
       "      <td></td>\n",
       "      <td></td>\n",
       "      <td>128</td>\n",
       "    </tr>\n",
       "    <tr>\n",
       "      <th>2</th>\n",
       "      <td>HP</td>\n",
       "      <td>Notebook</td>\n",
       "      <td>8</td>\n",
       "      <td>256 SSD</td>\n",
       "      <td>Intel HD Graphics 620</td>\n",
       "      <td>No OS</td>\n",
       "      <td>1.86</td>\n",
       "      <td>30636.0000</td>\n",
       "      <td>0</td>\n",
       "      <td>0</td>\n",
       "      <td>...</td>\n",
       "      <td>0</td>\n",
       "      <td>0</td>\n",
       "      <td>0</td>\n",
       "      <td>0</td>\n",
       "      <td>0</td>\n",
       "      <td>0</td>\n",
       "      <td></td>\n",
       "      <td>256</td>\n",
       "      <td></td>\n",
       "      <td></td>\n",
       "    </tr>\n",
       "    <tr>\n",
       "      <th>3</th>\n",
       "      <td>Apple</td>\n",
       "      <td>Ultrabook</td>\n",
       "      <td>16</td>\n",
       "      <td>512 SSD</td>\n",
       "      <td>AMD Radeon Pro 455</td>\n",
       "      <td>macOS</td>\n",
       "      <td>1.83</td>\n",
       "      <td>135195.3360</td>\n",
       "      <td>0</td>\n",
       "      <td>1</td>\n",
       "      <td>...</td>\n",
       "      <td>0</td>\n",
       "      <td>0</td>\n",
       "      <td>0</td>\n",
       "      <td>0</td>\n",
       "      <td>0</td>\n",
       "      <td>0</td>\n",
       "      <td></td>\n",
       "      <td>512</td>\n",
       "      <td></td>\n",
       "      <td></td>\n",
       "    </tr>\n",
       "    <tr>\n",
       "      <th>4</th>\n",
       "      <td>Apple</td>\n",
       "      <td>Ultrabook</td>\n",
       "      <td>8</td>\n",
       "      <td>256 SSD</td>\n",
       "      <td>Intel Iris Plus Graphics 650</td>\n",
       "      <td>macOS</td>\n",
       "      <td>1.37</td>\n",
       "      <td>96095.8080</td>\n",
       "      <td>0</td>\n",
       "      <td>1</td>\n",
       "      <td>...</td>\n",
       "      <td>0</td>\n",
       "      <td>0</td>\n",
       "      <td>0</td>\n",
       "      <td>0</td>\n",
       "      <td>0</td>\n",
       "      <td>0</td>\n",
       "      <td></td>\n",
       "      <td>256</td>\n",
       "      <td></td>\n",
       "      <td></td>\n",
       "    </tr>\n",
       "  </tbody>\n",
       "</table>\n",
       "<p>5 rows × 26 columns</p>\n",
       "</div>"
      ],
      "text/plain": [
       "  Company   TypeName  Ram             Memory                           Gpu  \\\n",
       "0   Apple  Ultrabook    8            128 SSD  Intel Iris Plus Graphics 640   \n",
       "1   Apple  Ultrabook    8  128 Flash Storage        Intel HD Graphics 6000   \n",
       "2      HP   Notebook    8            256 SSD         Intel HD Graphics 620   \n",
       "3   Apple  Ultrabook   16            512 SSD            AMD Radeon Pro 455   \n",
       "4   Apple  Ultrabook    8            256 SSD  Intel Iris Plus Graphics 650   \n",
       "\n",
       "   OpSys  Weight        Price  TouchScreen  IPSPanel  ...  1Hybrid 1Flash  \\\n",
       "0  macOS    1.37   71378.6832            0         1  ...        0      0   \n",
       "1  macOS    1.34   47895.5232            0         0  ...        0      1   \n",
       "2  No OS    1.86   30636.0000            0         0  ...        0      0   \n",
       "3  macOS    1.83  135195.3360            0         1  ...        0      0   \n",
       "4  macOS    1.37   96095.8080            0         1  ...        0      0   \n",
       "\n",
       "  2HDD 2SSD  2Hybrid  2Flash  HDD  SSD  Hybrid  Flash  \n",
       "0    0    0        0       0       128                 \n",
       "1    0    0        0       0                      128  \n",
       "2    0    0        0       0       256                 \n",
       "3    0    0        0       0       512                 \n",
       "4    0    0        0       0       256                 \n",
       "\n",
       "[5 rows x 26 columns]"
      ]
     },
     "execution_count": 83,
     "metadata": {},
     "output_type": "execute_result"
    }
   ],
   "source": [
    "data.head()"
   ]
  },
  {
   "cell_type": "markdown",
   "id": "8d8b9f75-8d04-4c23-b45d-369e74ba04cd",
   "metadata": {},
   "source": [
    "Dropping all the temporary columns created"
   ]
  },
  {
   "cell_type": "code",
   "execution_count": 84,
   "id": "f59f35cd-c130-488b-a122-043f5d166f76",
   "metadata": {},
   "outputs": [],
   "source": [
    "data.drop(columns=['1HDD','2HDD','1SSD','2SSD','1Hybrid','2Hybrid','1Flash','2Flash','First','Second'],inplace=True)"
   ]
  },
  {
   "cell_type": "code",
   "execution_count": 85,
   "id": "04234f2d-b78f-404f-96b5-4ac4269fbb04",
   "metadata": {},
   "outputs": [
    {
     "data": {
      "text/html": [
       "<div>\n",
       "<style scoped>\n",
       "    .dataframe tbody tr th:only-of-type {\n",
       "        vertical-align: middle;\n",
       "    }\n",
       "\n",
       "    .dataframe tbody tr th {\n",
       "        vertical-align: top;\n",
       "    }\n",
       "\n",
       "    .dataframe thead th {\n",
       "        text-align: right;\n",
       "    }\n",
       "</style>\n",
       "<table border=\"1\" class=\"dataframe\">\n",
       "  <thead>\n",
       "    <tr style=\"text-align: right;\">\n",
       "      <th></th>\n",
       "      <th>Company</th>\n",
       "      <th>TypeName</th>\n",
       "      <th>Ram</th>\n",
       "      <th>Memory</th>\n",
       "      <th>Gpu</th>\n",
       "      <th>OpSys</th>\n",
       "      <th>Weight</th>\n",
       "      <th>Price</th>\n",
       "      <th>TouchScreen</th>\n",
       "      <th>IPSPanel</th>\n",
       "      <th>PPI</th>\n",
       "      <th>Cpu Brand</th>\n",
       "      <th>HDD</th>\n",
       "      <th>SSD</th>\n",
       "      <th>Hybrid</th>\n",
       "      <th>Flash</th>\n",
       "    </tr>\n",
       "  </thead>\n",
       "  <tbody>\n",
       "    <tr>\n",
       "      <th>0</th>\n",
       "      <td>Apple</td>\n",
       "      <td>Ultrabook</td>\n",
       "      <td>8</td>\n",
       "      <td>128 SSD</td>\n",
       "      <td>Intel Iris Plus Graphics 640</td>\n",
       "      <td>macOS</td>\n",
       "      <td>1.37</td>\n",
       "      <td>71378.6832</td>\n",
       "      <td>0</td>\n",
       "      <td>1</td>\n",
       "      <td>226.983005</td>\n",
       "      <td>Intel Core i5</td>\n",
       "      <td></td>\n",
       "      <td>128</td>\n",
       "      <td></td>\n",
       "      <td></td>\n",
       "    </tr>\n",
       "    <tr>\n",
       "      <th>1</th>\n",
       "      <td>Apple</td>\n",
       "      <td>Ultrabook</td>\n",
       "      <td>8</td>\n",
       "      <td>128 Flash Storage</td>\n",
       "      <td>Intel HD Graphics 6000</td>\n",
       "      <td>macOS</td>\n",
       "      <td>1.34</td>\n",
       "      <td>47895.5232</td>\n",
       "      <td>0</td>\n",
       "      <td>0</td>\n",
       "      <td>127.677940</td>\n",
       "      <td>Intel Core i5</td>\n",
       "      <td></td>\n",
       "      <td></td>\n",
       "      <td></td>\n",
       "      <td>128</td>\n",
       "    </tr>\n",
       "    <tr>\n",
       "      <th>2</th>\n",
       "      <td>HP</td>\n",
       "      <td>Notebook</td>\n",
       "      <td>8</td>\n",
       "      <td>256 SSD</td>\n",
       "      <td>Intel HD Graphics 620</td>\n",
       "      <td>No OS</td>\n",
       "      <td>1.86</td>\n",
       "      <td>30636.0000</td>\n",
       "      <td>0</td>\n",
       "      <td>0</td>\n",
       "      <td>141.211998</td>\n",
       "      <td>Intel Core i5</td>\n",
       "      <td></td>\n",
       "      <td>256</td>\n",
       "      <td></td>\n",
       "      <td></td>\n",
       "    </tr>\n",
       "    <tr>\n",
       "      <th>3</th>\n",
       "      <td>Apple</td>\n",
       "      <td>Ultrabook</td>\n",
       "      <td>16</td>\n",
       "      <td>512 SSD</td>\n",
       "      <td>AMD Radeon Pro 455</td>\n",
       "      <td>macOS</td>\n",
       "      <td>1.83</td>\n",
       "      <td>135195.3360</td>\n",
       "      <td>0</td>\n",
       "      <td>1</td>\n",
       "      <td>220.534624</td>\n",
       "      <td>Intel Core i7</td>\n",
       "      <td></td>\n",
       "      <td>512</td>\n",
       "      <td></td>\n",
       "      <td></td>\n",
       "    </tr>\n",
       "    <tr>\n",
       "      <th>4</th>\n",
       "      <td>Apple</td>\n",
       "      <td>Ultrabook</td>\n",
       "      <td>8</td>\n",
       "      <td>256 SSD</td>\n",
       "      <td>Intel Iris Plus Graphics 650</td>\n",
       "      <td>macOS</td>\n",
       "      <td>1.37</td>\n",
       "      <td>96095.8080</td>\n",
       "      <td>0</td>\n",
       "      <td>1</td>\n",
       "      <td>226.983005</td>\n",
       "      <td>Intel Core i5</td>\n",
       "      <td></td>\n",
       "      <td>256</td>\n",
       "      <td></td>\n",
       "      <td></td>\n",
       "    </tr>\n",
       "  </tbody>\n",
       "</table>\n",
       "</div>"
      ],
      "text/plain": [
       "  Company   TypeName  Ram             Memory                           Gpu  \\\n",
       "0   Apple  Ultrabook    8            128 SSD  Intel Iris Plus Graphics 640   \n",
       "1   Apple  Ultrabook    8  128 Flash Storage        Intel HD Graphics 6000   \n",
       "2      HP   Notebook    8            256 SSD         Intel HD Graphics 620   \n",
       "3   Apple  Ultrabook   16            512 SSD            AMD Radeon Pro 455   \n",
       "4   Apple  Ultrabook    8            256 SSD  Intel Iris Plus Graphics 650   \n",
       "\n",
       "   OpSys  Weight        Price  TouchScreen  IPSPanel         PPI  \\\n",
       "0  macOS    1.37   71378.6832            0         1  226.983005   \n",
       "1  macOS    1.34   47895.5232            0         0  127.677940   \n",
       "2  No OS    1.86   30636.0000            0         0  141.211998   \n",
       "3  macOS    1.83  135195.3360            0         1  220.534624   \n",
       "4  macOS    1.37   96095.8080            0         1  226.983005   \n",
       "\n",
       "       Cpu Brand HDD  SSD Hybrid Flash  \n",
       "0  Intel Core i5      128               \n",
       "1  Intel Core i5                   128  \n",
       "2  Intel Core i5      256               \n",
       "3  Intel Core i7      512               \n",
       "4  Intel Core i5      256               "
      ]
     },
     "execution_count": 85,
     "metadata": {},
     "output_type": "execute_result"
    }
   ],
   "source": [
    "data.head()"
   ]
  },
  {
   "cell_type": "markdown",
   "id": "0b86f27e-bccb-47dc-94fd-b1751f6e46a1",
   "metadata": {},
   "source": [
    "Since HDD, SSD, Hybrid, Flash columns have '' values so replacing them with 0"
   ]
  },
  {
   "cell_type": "code",
   "execution_count": 86,
   "id": "89527952-db29-4946-b8ec-4513b545512f",
   "metadata": {},
   "outputs": [],
   "source": [
    "data['HDD']=data['HDD'].replace('','0')"
   ]
  },
  {
   "cell_type": "code",
   "execution_count": 87,
   "id": "addd01f5-fb30-4c1d-a305-f09216cc6207",
   "metadata": {},
   "outputs": [],
   "source": [
    "data['SSD']=data['SSD'].replace('','0')"
   ]
  },
  {
   "cell_type": "code",
   "execution_count": 88,
   "id": "903aa618-3f19-4a84-a31e-9b0221a5b1a4",
   "metadata": {},
   "outputs": [],
   "source": [
    "data['Hybrid']=data['Hybrid'].replace('','0')"
   ]
  },
  {
   "cell_type": "code",
   "execution_count": 89,
   "id": "8cb0bfad-6fbf-47d5-811f-c93160cc6ced",
   "metadata": {},
   "outputs": [],
   "source": [
    "data['Flash']=data['Flash'].replace('','0')"
   ]
  },
  {
   "cell_type": "markdown",
   "id": "9e8a341b-d56b-4a2a-826d-0e920c45ac82",
   "metadata": {},
   "source": [
    "Droping the memory column as we have created 4 new columns from that"
   ]
  },
  {
   "cell_type": "code",
   "execution_count": 90,
   "id": "d1b87147-b33d-419c-8831-4aaeee8a60b3",
   "metadata": {},
   "outputs": [],
   "source": [
    "data.drop(columns=['Memory'],inplace=True)"
   ]
  },
  {
   "cell_type": "code",
   "execution_count": 91,
   "id": "5eb17bb3-ac41-43ec-8cbc-6cf1219a8a81",
   "metadata": {},
   "outputs": [
    {
     "name": "stdout",
     "output_type": "stream",
     "text": [
      "<class 'pandas.core.frame.DataFrame'>\n",
      "RangeIndex: 1303 entries, 0 to 1302\n",
      "Data columns (total 15 columns):\n",
      " #   Column       Non-Null Count  Dtype  \n",
      "---  ------       --------------  -----  \n",
      " 0   Company      1303 non-null   object \n",
      " 1   TypeName     1303 non-null   object \n",
      " 2   Ram          1303 non-null   int32  \n",
      " 3   Gpu          1303 non-null   object \n",
      " 4   OpSys        1303 non-null   object \n",
      " 5   Weight       1303 non-null   float32\n",
      " 6   Price        1303 non-null   float64\n",
      " 7   TouchScreen  1303 non-null   int64  \n",
      " 8   IPSPanel     1303 non-null   int64  \n",
      " 9   PPI          1303 non-null   float64\n",
      " 10  Cpu Brand    1303 non-null   object \n",
      " 11  HDD          1303 non-null   object \n",
      " 12  SSD          1303 non-null   object \n",
      " 13  Hybrid       1303 non-null   object \n",
      " 14  Flash        1303 non-null   object \n",
      "dtypes: float32(1), float64(2), int32(1), int64(2), object(9)\n",
      "memory usage: 142.6+ KB\n"
     ]
    }
   ],
   "source": [
    "data.info()"
   ]
  },
  {
   "cell_type": "markdown",
   "id": "8b34bcd0-6fee-4184-92e9-78b155f10a66",
   "metadata": {},
   "source": [
    "Since HDD, SSD, Hybrid, Flash columns are object datatype so converting them to int"
   ]
  },
  {
   "cell_type": "code",
   "execution_count": 92,
   "id": "f0269dbb-2490-4341-a5b3-addb5cd18abe",
   "metadata": {},
   "outputs": [],
   "source": [
    "data['HDD']=data['HDD'].astype(int)"
   ]
  },
  {
   "cell_type": "code",
   "execution_count": 93,
   "id": "62cd2206-996f-417a-acfb-1a27dadef7e8",
   "metadata": {},
   "outputs": [],
   "source": [
    "data['SSD']=data['SSD'].astype(int)"
   ]
  },
  {
   "cell_type": "code",
   "execution_count": 94,
   "id": "bc63220a-d8df-4bb0-862f-3ce07d55ecde",
   "metadata": {},
   "outputs": [],
   "source": [
    "data['Hybrid']=data['Hybrid'].astype(int)"
   ]
  },
  {
   "cell_type": "code",
   "execution_count": 95,
   "id": "3ec981fc-7c43-4573-aff5-986b1dc11917",
   "metadata": {},
   "outputs": [],
   "source": [
    "data['Flash']=data['Flash'].astype(int)"
   ]
  },
  {
   "cell_type": "markdown",
   "id": "f015e1b0-812e-4e46-bffa-806023a2c11b",
   "metadata": {},
   "source": [
    "Checking for the correlation of HDD, SSD, Hybrid , Flash column on price column"
   ]
  },
  {
   "cell_type": "code",
   "execution_count": 96,
   "id": "04e99272-2814-4807-a6fa-0ca5d0fd18e1",
   "metadata": {},
   "outputs": [],
   "source": [
    "new=data.select_dtypes(include=['number'])"
   ]
  },
  {
   "cell_type": "code",
   "execution_count": 97,
   "id": "246e5108-9be2-4d21-8962-0b4c440bc630",
   "metadata": {},
   "outputs": [
    {
     "data": {
      "text/plain": [
       "Ram            0.743007\n",
       "Weight         0.210370\n",
       "Price          1.000000\n",
       "TouchScreen    0.191226\n",
       "IPSPanel       0.252208\n",
       "PPI            0.473487\n",
       "HDD           -0.299253\n",
       "SSD            0.672079\n",
       "Hybrid        -0.039900\n",
       "Flash         -0.040511\n",
       "Name: Price, dtype: float64"
      ]
     },
     "execution_count": 97,
     "metadata": {},
     "output_type": "execute_result"
    }
   ],
   "source": [
    "new.corr()['Price']"
   ]
  },
  {
   "cell_type": "markdown",
   "id": "12098d7d-f9b5-4aff-94e9-4fec658e8aa2",
   "metadata": {},
   "source": [
    "Since Hybrid and Flash columns have very less effect on price therefore droping both of that columns"
   ]
  },
  {
   "cell_type": "code",
   "execution_count": 98,
   "id": "7fb73eae-21ec-4698-95ab-c9a12fdad3c3",
   "metadata": {},
   "outputs": [],
   "source": [
    "data.drop(columns=['Hybrid','Flash'],inplace=True)"
   ]
  },
  {
   "cell_type": "code",
   "execution_count": 99,
   "id": "a190a64f-ba08-4a1a-a5db-8dd790198bd6",
   "metadata": {},
   "outputs": [
    {
     "data": {
      "text/plain": [
       "Gpu\n",
       "Intel HD Graphics 620      281\n",
       "Intel HD Graphics 520      185\n",
       "Intel UHD Graphics 620      68\n",
       "Nvidia GeForce GTX 1050     66\n",
       "Nvidia GeForce GTX 1060     48\n",
       "                          ... \n",
       "Nvidia Quadro M500M          1\n",
       "AMD Radeon R7 M360           1\n",
       "Nvidia Quadro M3000M         1\n",
       "Nvidia GeForce 960M          1\n",
       "ARM Mali T860 MP4            1\n",
       "Name: count, Length: 110, dtype: int64"
      ]
     },
     "execution_count": 99,
     "metadata": {},
     "output_type": "execute_result"
    }
   ],
   "source": [
    "data['Gpu'].value_counts()"
   ]
  },
  {
   "cell_type": "markdown",
   "id": "44f15c7c-1fa9-471e-b893-281696f6631a",
   "metadata": {},
   "source": [
    "Extracting only the first name from Gpu and making new column"
   ]
  },
  {
   "cell_type": "code",
   "execution_count": 100,
   "id": "f4e909c9-21ca-40cc-ac82-3db1b0f2f2e0",
   "metadata": {},
   "outputs": [],
   "source": [
    "data['Gpu Brand']=data['Gpu'].apply(lambda x:x.split()[0])"
   ]
  },
  {
   "cell_type": "code",
   "execution_count": 101,
   "id": "fc83626f-3a39-4263-82d7-a534ac644466",
   "metadata": {},
   "outputs": [
    {
     "data": {
      "text/html": [
       "<div>\n",
       "<style scoped>\n",
       "    .dataframe tbody tr th:only-of-type {\n",
       "        vertical-align: middle;\n",
       "    }\n",
       "\n",
       "    .dataframe tbody tr th {\n",
       "        vertical-align: top;\n",
       "    }\n",
       "\n",
       "    .dataframe thead th {\n",
       "        text-align: right;\n",
       "    }\n",
       "</style>\n",
       "<table border=\"1\" class=\"dataframe\">\n",
       "  <thead>\n",
       "    <tr style=\"text-align: right;\">\n",
       "      <th></th>\n",
       "      <th>Company</th>\n",
       "      <th>TypeName</th>\n",
       "      <th>Ram</th>\n",
       "      <th>Gpu</th>\n",
       "      <th>OpSys</th>\n",
       "      <th>Weight</th>\n",
       "      <th>Price</th>\n",
       "      <th>TouchScreen</th>\n",
       "      <th>IPSPanel</th>\n",
       "      <th>PPI</th>\n",
       "      <th>Cpu Brand</th>\n",
       "      <th>HDD</th>\n",
       "      <th>SSD</th>\n",
       "      <th>Gpu Brand</th>\n",
       "    </tr>\n",
       "  </thead>\n",
       "  <tbody>\n",
       "    <tr>\n",
       "      <th>0</th>\n",
       "      <td>Apple</td>\n",
       "      <td>Ultrabook</td>\n",
       "      <td>8</td>\n",
       "      <td>Intel Iris Plus Graphics 640</td>\n",
       "      <td>macOS</td>\n",
       "      <td>1.37</td>\n",
       "      <td>71378.6832</td>\n",
       "      <td>0</td>\n",
       "      <td>1</td>\n",
       "      <td>226.983005</td>\n",
       "      <td>Intel Core i5</td>\n",
       "      <td>0</td>\n",
       "      <td>128</td>\n",
       "      <td>Intel</td>\n",
       "    </tr>\n",
       "    <tr>\n",
       "      <th>1</th>\n",
       "      <td>Apple</td>\n",
       "      <td>Ultrabook</td>\n",
       "      <td>8</td>\n",
       "      <td>Intel HD Graphics 6000</td>\n",
       "      <td>macOS</td>\n",
       "      <td>1.34</td>\n",
       "      <td>47895.5232</td>\n",
       "      <td>0</td>\n",
       "      <td>0</td>\n",
       "      <td>127.677940</td>\n",
       "      <td>Intel Core i5</td>\n",
       "      <td>0</td>\n",
       "      <td>0</td>\n",
       "      <td>Intel</td>\n",
       "    </tr>\n",
       "    <tr>\n",
       "      <th>2</th>\n",
       "      <td>HP</td>\n",
       "      <td>Notebook</td>\n",
       "      <td>8</td>\n",
       "      <td>Intel HD Graphics 620</td>\n",
       "      <td>No OS</td>\n",
       "      <td>1.86</td>\n",
       "      <td>30636.0000</td>\n",
       "      <td>0</td>\n",
       "      <td>0</td>\n",
       "      <td>141.211998</td>\n",
       "      <td>Intel Core i5</td>\n",
       "      <td>0</td>\n",
       "      <td>256</td>\n",
       "      <td>Intel</td>\n",
       "    </tr>\n",
       "    <tr>\n",
       "      <th>3</th>\n",
       "      <td>Apple</td>\n",
       "      <td>Ultrabook</td>\n",
       "      <td>16</td>\n",
       "      <td>AMD Radeon Pro 455</td>\n",
       "      <td>macOS</td>\n",
       "      <td>1.83</td>\n",
       "      <td>135195.3360</td>\n",
       "      <td>0</td>\n",
       "      <td>1</td>\n",
       "      <td>220.534624</td>\n",
       "      <td>Intel Core i7</td>\n",
       "      <td>0</td>\n",
       "      <td>512</td>\n",
       "      <td>AMD</td>\n",
       "    </tr>\n",
       "    <tr>\n",
       "      <th>4</th>\n",
       "      <td>Apple</td>\n",
       "      <td>Ultrabook</td>\n",
       "      <td>8</td>\n",
       "      <td>Intel Iris Plus Graphics 650</td>\n",
       "      <td>macOS</td>\n",
       "      <td>1.37</td>\n",
       "      <td>96095.8080</td>\n",
       "      <td>0</td>\n",
       "      <td>1</td>\n",
       "      <td>226.983005</td>\n",
       "      <td>Intel Core i5</td>\n",
       "      <td>0</td>\n",
       "      <td>256</td>\n",
       "      <td>Intel</td>\n",
       "    </tr>\n",
       "  </tbody>\n",
       "</table>\n",
       "</div>"
      ],
      "text/plain": [
       "  Company   TypeName  Ram                           Gpu  OpSys  Weight  \\\n",
       "0   Apple  Ultrabook    8  Intel Iris Plus Graphics 640  macOS    1.37   \n",
       "1   Apple  Ultrabook    8        Intel HD Graphics 6000  macOS    1.34   \n",
       "2      HP   Notebook    8         Intel HD Graphics 620  No OS    1.86   \n",
       "3   Apple  Ultrabook   16            AMD Radeon Pro 455  macOS    1.83   \n",
       "4   Apple  Ultrabook    8  Intel Iris Plus Graphics 650  macOS    1.37   \n",
       "\n",
       "         Price  TouchScreen  IPSPanel         PPI      Cpu Brand  HDD  SSD  \\\n",
       "0   71378.6832            0         1  226.983005  Intel Core i5    0  128   \n",
       "1   47895.5232            0         0  127.677940  Intel Core i5    0    0   \n",
       "2   30636.0000            0         0  141.211998  Intel Core i5    0  256   \n",
       "3  135195.3360            0         1  220.534624  Intel Core i7    0  512   \n",
       "4   96095.8080            0         1  226.983005  Intel Core i5    0  256   \n",
       "\n",
       "  Gpu Brand  \n",
       "0     Intel  \n",
       "1     Intel  \n",
       "2     Intel  \n",
       "3       AMD  \n",
       "4     Intel  "
      ]
     },
     "execution_count": 101,
     "metadata": {},
     "output_type": "execute_result"
    }
   ],
   "source": [
    "data.head()"
   ]
  },
  {
   "cell_type": "code",
   "execution_count": 102,
   "id": "77743c53-9f60-488b-997e-1d6e20027b8d",
   "metadata": {},
   "outputs": [
    {
     "data": {
      "text/plain": [
       "Gpu Brand\n",
       "Intel     722\n",
       "Nvidia    400\n",
       "AMD       180\n",
       "ARM         1\n",
       "Name: count, dtype: int64"
      ]
     },
     "execution_count": 102,
     "metadata": {},
     "output_type": "execute_result"
    }
   ],
   "source": [
    "data['Gpu Brand'].value_counts()"
   ]
  },
  {
   "cell_type": "markdown",
   "id": "7f6d10f7-955c-4043-86de-a7a951237354",
   "metadata": {},
   "source": [
    "Since there is only one laptop with Gpu Brand ARM so we can remove it"
   ]
  },
  {
   "cell_type": "code",
   "execution_count": 103,
   "id": "a5d996f9-bfe0-4656-bb87-4db87ebf05bd",
   "metadata": {},
   "outputs": [],
   "source": [
    "data=data[data['Gpu Brand']!='ARM']"
   ]
  },
  {
   "cell_type": "code",
   "execution_count": 104,
   "id": "1c95ec43-3fab-4b4d-a39f-0ca3d7af433f",
   "metadata": {},
   "outputs": [
    {
     "data": {
      "text/plain": [
       "<Axes: xlabel='Gpu Brand'>"
      ]
     },
     "execution_count": 104,
     "metadata": {},
     "output_type": "execute_result"
    },
    {
     "data": {
      "image/png": "[encoded data removed]",
      "text/plain": [
       "<Figure size 640x480 with 1 Axes>"
      ]
     },
     "metadata": {},
     "output_type": "display_data"
    }
   ],
   "source": [
    "data['Gpu Brand'].value_counts().plot(kind='bar')"
   ]
  },
  {
   "cell_type": "code",
   "execution_count": 105,
   "id": "62a60d48-14ea-4b77-8807-1ac398ecdf62",
   "metadata": {},
   "outputs": [
    {
     "data": {
      "text/plain": [
       "<Axes: xlabel='Gpu Brand', ylabel='Price'>"
      ]
     },
     "execution_count": 105,
     "metadata": {},
     "output_type": "execute_result"
    },
    {
     "data": {
      "image/png": "[encoded data removed]",
      "text/plain": [
       "<Figure size 640x480 with 1 Axes>"
      ]
     },
     "metadata": {},
     "output_type": "display_data"
    }
   ],
   "source": [
    "sns.barplot(x=data['Gpu Brand'],y=data['Price'])"
   ]
  },
  {
   "cell_type": "markdown",
   "id": "69b3fbd9-5e05-4695-a391-d89d30b380a9",
   "metadata": {},
   "source": [
    "It can be seen that all 3 gpu brands have different price ranges"
   ]
  },
  {
   "cell_type": "markdown",
   "id": "219b9ffa-a95a-4a25-8e5b-4b2304626eee",
   "metadata": {},
   "source": [
    "Now droping the GPU column"
   ]
  },
  {
   "cell_type": "code",
   "execution_count": 106,
   "id": "b94b75aa-d9aa-4780-b283-a5ed9bc49515",
   "metadata": {},
   "outputs": [],
   "source": [
    "data.drop(columns=['Gpu'],inplace=True)"
   ]
  },
  {
   "cell_type": "code",
   "execution_count": 107,
   "id": "d49099b4-344f-4493-9e1f-f78c592c5db0",
   "metadata": {},
   "outputs": [
    {
     "data": {
      "text/html": [
       "<div>\n",
       "<style scoped>\n",
       "    .dataframe tbody tr th:only-of-type {\n",
       "        vertical-align: middle;\n",
       "    }\n",
       "\n",
       "    .dataframe tbody tr th {\n",
       "        vertical-align: top;\n",
       "    }\n",
       "\n",
       "    .dataframe thead th {\n",
       "        text-align: right;\n",
       "    }\n",
       "</style>\n",
       "<table border=\"1\" class=\"dataframe\">\n",
       "  <thead>\n",
       "    <tr style=\"text-align: right;\">\n",
       "      <th></th>\n",
       "      <th>Company</th>\n",
       "      <th>TypeName</th>\n",
       "      <th>Ram</th>\n",
       "      <th>OpSys</th>\n",
       "      <th>Weight</th>\n",
       "      <th>Price</th>\n",
       "      <th>TouchScreen</th>\n",
       "      <th>IPSPanel</th>\n",
       "      <th>PPI</th>\n",
       "      <th>Cpu Brand</th>\n",
       "      <th>HDD</th>\n",
       "      <th>SSD</th>\n",
       "      <th>Gpu Brand</th>\n",
       "    </tr>\n",
       "  </thead>\n",
       "  <tbody>\n",
       "    <tr>\n",
       "      <th>0</th>\n",
       "      <td>Apple</td>\n",
       "      <td>Ultrabook</td>\n",
       "      <td>8</td>\n",
       "      <td>macOS</td>\n",
       "      <td>1.37</td>\n",
       "      <td>71378.6832</td>\n",
       "      <td>0</td>\n",
       "      <td>1</td>\n",
       "      <td>226.983005</td>\n",
       "      <td>Intel Core i5</td>\n",
       "      <td>0</td>\n",
       "      <td>128</td>\n",
       "      <td>Intel</td>\n",
       "    </tr>\n",
       "    <tr>\n",
       "      <th>1</th>\n",
       "      <td>Apple</td>\n",
       "      <td>Ultrabook</td>\n",
       "      <td>8</td>\n",
       "      <td>macOS</td>\n",
       "      <td>1.34</td>\n",
       "      <td>47895.5232</td>\n",
       "      <td>0</td>\n",
       "      <td>0</td>\n",
       "      <td>127.677940</td>\n",
       "      <td>Intel Core i5</td>\n",
       "      <td>0</td>\n",
       "      <td>0</td>\n",
       "      <td>Intel</td>\n",
       "    </tr>\n",
       "    <tr>\n",
       "      <th>2</th>\n",
       "      <td>HP</td>\n",
       "      <td>Notebook</td>\n",
       "      <td>8</td>\n",
       "      <td>No OS</td>\n",
       "      <td>1.86</td>\n",
       "      <td>30636.0000</td>\n",
       "      <td>0</td>\n",
       "      <td>0</td>\n",
       "      <td>141.211998</td>\n",
       "      <td>Intel Core i5</td>\n",
       "      <td>0</td>\n",
       "      <td>256</td>\n",
       "      <td>Intel</td>\n",
       "    </tr>\n",
       "    <tr>\n",
       "      <th>3</th>\n",
       "      <td>Apple</td>\n",
       "      <td>Ultrabook</td>\n",
       "      <td>16</td>\n",
       "      <td>macOS</td>\n",
       "      <td>1.83</td>\n",
       "      <td>135195.3360</td>\n",
       "      <td>0</td>\n",
       "      <td>1</td>\n",
       "      <td>220.534624</td>\n",
       "      <td>Intel Core i7</td>\n",
       "      <td>0</td>\n",
       "      <td>512</td>\n",
       "      <td>AMD</td>\n",
       "    </tr>\n",
       "    <tr>\n",
       "      <th>4</th>\n",
       "      <td>Apple</td>\n",
       "      <td>Ultrabook</td>\n",
       "      <td>8</td>\n",
       "      <td>macOS</td>\n",
       "      <td>1.37</td>\n",
       "      <td>96095.8080</td>\n",
       "      <td>0</td>\n",
       "      <td>1</td>\n",
       "      <td>226.983005</td>\n",
       "      <td>Intel Core i5</td>\n",
       "      <td>0</td>\n",
       "      <td>256</td>\n",
       "      <td>Intel</td>\n",
       "    </tr>\n",
       "  </tbody>\n",
       "</table>\n",
       "</div>"
      ],
      "text/plain": [
       "  Company   TypeName  Ram  OpSys  Weight        Price  TouchScreen  IPSPanel  \\\n",
       "0   Apple  Ultrabook    8  macOS    1.37   71378.6832            0         1   \n",
       "1   Apple  Ultrabook    8  macOS    1.34   47895.5232            0         0   \n",
       "2      HP   Notebook    8  No OS    1.86   30636.0000            0         0   \n",
       "3   Apple  Ultrabook   16  macOS    1.83  135195.3360            0         1   \n",
       "4   Apple  Ultrabook    8  macOS    1.37   96095.8080            0         1   \n",
       "\n",
       "          PPI      Cpu Brand  HDD  SSD Gpu Brand  \n",
       "0  226.983005  Intel Core i5    0  128     Intel  \n",
       "1  127.677940  Intel Core i5    0    0     Intel  \n",
       "2  141.211998  Intel Core i5    0  256     Intel  \n",
       "3  220.534624  Intel Core i7    0  512       AMD  \n",
       "4  226.983005  Intel Core i5    0  256     Intel  "
      ]
     },
     "execution_count": 107,
     "metadata": {},
     "output_type": "execute_result"
    }
   ],
   "source": [
    "data.head()"
   ]
  },
  {
   "cell_type": "code",
   "execution_count": 108,
   "id": "03d30ebd-ff8f-4328-9a6e-38a1256d4c4c",
   "metadata": {},
   "outputs": [
    {
     "data": {
      "text/plain": [
       "OpSys\n",
       "Windows 10      1072\n",
       "No OS             66\n",
       "Linux             62\n",
       "Windows 7         45\n",
       "Chrome OS         26\n",
       "macOS             13\n",
       "Mac OS X           8\n",
       "Windows 10 S       8\n",
       "Android            2\n",
       "Name: count, dtype: int64"
      ]
     },
     "execution_count": 108,
     "metadata": {},
     "output_type": "execute_result"
    }
   ],
   "source": [
    "data['OpSys'].value_counts()"
   ]
  },
  {
   "cell_type": "code",
   "execution_count": 109,
   "id": "a5b9679c-9463-444b-bca1-36a3d774c914",
   "metadata": {},
   "outputs": [
    {
     "data": {
      "image/png": "[encoded data removed]",
      "text/plain": [
       "<Figure size 640x480 with 1 Axes>"
      ]
     },
     "metadata": {},
     "output_type": "display_data"
    }
   ],
   "source": [
    "sns.barplot(x=data['OpSys'],y=data['Price'])\n",
    "plt.xticks(rotation='vertical')\n",
    "plt.show()"
   ]
  },
  {
   "cell_type": "markdown",
   "id": "08e00e14-5b73-415c-a63a-24333a167dba",
   "metadata": {},
   "source": [
    "Since there is a lot of categories therefore we can reduce categories by making new categories of\n",
    "Windows\n",
    "Mac\n",
    "Other"
   ]
  },
  {
   "cell_type": "code",
   "execution_count": 110,
   "id": "ac122fb1-c6bb-424d-b0ba-fc4a6f9e1240",
   "metadata": {},
   "outputs": [],
   "source": [
    "def opsys(x):\n",
    "    if x=='Windows 10' or x=='Windows 10 S' or x=='Windows 7':\n",
    "        return 'Windows'\n",
    "    elif x=='macOS' or x=='Mac OS X':\n",
    "        return 'Mac'\n",
    "    else:\n",
    "        return 'Others'"
   ]
  },
  {
   "cell_type": "code",
   "execution_count": 111,
   "id": "b105c6e2-fc36-471f-9be0-f7cdf5609748",
   "metadata": {},
   "outputs": [],
   "source": [
    "data['OS']=data['OpSys'].apply(opsys)"
   ]
  },
  {
   "cell_type": "code",
   "execution_count": 112,
   "id": "9ba19d84-e1b8-46b4-9da3-392726a2e8ae",
   "metadata": {},
   "outputs": [
    {
     "data": {
      "text/html": [
       "<div>\n",
       "<style scoped>\n",
       "    .dataframe tbody tr th:only-of-type {\n",
       "        vertical-align: middle;\n",
       "    }\n",
       "\n",
       "    .dataframe tbody tr th {\n",
       "        vertical-align: top;\n",
       "    }\n",
       "\n",
       "    .dataframe thead th {\n",
       "        text-align: right;\n",
       "    }\n",
       "</style>\n",
       "<table border=\"1\" class=\"dataframe\">\n",
       "  <thead>\n",
       "    <tr style=\"text-align: right;\">\n",
       "      <th></th>\n",
       "      <th>Company</th>\n",
       "      <th>TypeName</th>\n",
       "      <th>Ram</th>\n",
       "      <th>OpSys</th>\n",
       "      <th>Weight</th>\n",
       "      <th>Price</th>\n",
       "      <th>TouchScreen</th>\n",
       "      <th>IPSPanel</th>\n",
       "      <th>PPI</th>\n",
       "      <th>Cpu Brand</th>\n",
       "      <th>HDD</th>\n",
       "      <th>SSD</th>\n",
       "      <th>Gpu Brand</th>\n",
       "      <th>OS</th>\n",
       "    </tr>\n",
       "  </thead>\n",
       "  <tbody>\n",
       "    <tr>\n",
       "      <th>0</th>\n",
       "      <td>Apple</td>\n",
       "      <td>Ultrabook</td>\n",
       "      <td>8</td>\n",
       "      <td>macOS</td>\n",
       "      <td>1.37</td>\n",
       "      <td>71378.6832</td>\n",
       "      <td>0</td>\n",
       "      <td>1</td>\n",
       "      <td>226.983005</td>\n",
       "      <td>Intel Core i5</td>\n",
       "      <td>0</td>\n",
       "      <td>128</td>\n",
       "      <td>Intel</td>\n",
       "      <td>Mac</td>\n",
       "    </tr>\n",
       "    <tr>\n",
       "      <th>1</th>\n",
       "      <td>Apple</td>\n",
       "      <td>Ultrabook</td>\n",
       "      <td>8</td>\n",
       "      <td>macOS</td>\n",
       "      <td>1.34</td>\n",
       "      <td>47895.5232</td>\n",
       "      <td>0</td>\n",
       "      <td>0</td>\n",
       "      <td>127.677940</td>\n",
       "      <td>Intel Core i5</td>\n",
       "      <td>0</td>\n",
       "      <td>0</td>\n",
       "      <td>Intel</td>\n",
       "      <td>Mac</td>\n",
       "    </tr>\n",
       "    <tr>\n",
       "      <th>2</th>\n",
       "      <td>HP</td>\n",
       "      <td>Notebook</td>\n",
       "      <td>8</td>\n",
       "      <td>No OS</td>\n",
       "      <td>1.86</td>\n",
       "      <td>30636.0000</td>\n",
       "      <td>0</td>\n",
       "      <td>0</td>\n",
       "      <td>141.211998</td>\n",
       "      <td>Intel Core i5</td>\n",
       "      <td>0</td>\n",
       "      <td>256</td>\n",
       "      <td>Intel</td>\n",
       "      <td>Others</td>\n",
       "    </tr>\n",
       "    <tr>\n",
       "      <th>3</th>\n",
       "      <td>Apple</td>\n",
       "      <td>Ultrabook</td>\n",
       "      <td>16</td>\n",
       "      <td>macOS</td>\n",
       "      <td>1.83</td>\n",
       "      <td>135195.3360</td>\n",
       "      <td>0</td>\n",
       "      <td>1</td>\n",
       "      <td>220.534624</td>\n",
       "      <td>Intel Core i7</td>\n",
       "      <td>0</td>\n",
       "      <td>512</td>\n",
       "      <td>AMD</td>\n",
       "      <td>Mac</td>\n",
       "    </tr>\n",
       "    <tr>\n",
       "      <th>4</th>\n",
       "      <td>Apple</td>\n",
       "      <td>Ultrabook</td>\n",
       "      <td>8</td>\n",
       "      <td>macOS</td>\n",
       "      <td>1.37</td>\n",
       "      <td>96095.8080</td>\n",
       "      <td>0</td>\n",
       "      <td>1</td>\n",
       "      <td>226.983005</td>\n",
       "      <td>Intel Core i5</td>\n",
       "      <td>0</td>\n",
       "      <td>256</td>\n",
       "      <td>Intel</td>\n",
       "      <td>Mac</td>\n",
       "    </tr>\n",
       "  </tbody>\n",
       "</table>\n",
       "</div>"
      ],
      "text/plain": [
       "  Company   TypeName  Ram  OpSys  Weight        Price  TouchScreen  IPSPanel  \\\n",
       "0   Apple  Ultrabook    8  macOS    1.37   71378.6832            0         1   \n",
       "1   Apple  Ultrabook    8  macOS    1.34   47895.5232            0         0   \n",
       "2      HP   Notebook    8  No OS    1.86   30636.0000            0         0   \n",
       "3   Apple  Ultrabook   16  macOS    1.83  135195.3360            0         1   \n",
       "4   Apple  Ultrabook    8  macOS    1.37   96095.8080            0         1   \n",
       "\n",
       "          PPI      Cpu Brand  HDD  SSD Gpu Brand      OS  \n",
       "0  226.983005  Intel Core i5    0  128     Intel     Mac  \n",
       "1  127.677940  Intel Core i5    0    0     Intel     Mac  \n",
       "2  141.211998  Intel Core i5    0  256     Intel  Others  \n",
       "3  220.534624  Intel Core i7    0  512       AMD     Mac  \n",
       "4  226.983005  Intel Core i5    0  256     Intel     Mac  "
      ]
     },
     "execution_count": 112,
     "metadata": {},
     "output_type": "execute_result"
    }
   ],
   "source": [
    "data.head()"
   ]
  },
  {
   "cell_type": "code",
   "execution_count": 113,
   "id": "5bd38f8a-370a-43fb-987a-84eb33c9a691",
   "metadata": {},
   "outputs": [
    {
     "data": {
      "text/plain": [
       "<Axes: xlabel='OS'>"
      ]
     },
     "execution_count": 113,
     "metadata": {},
     "output_type": "execute_result"
    },
    {
     "data": {
      "image/png": "[encoded data removed]",
      "text/plain": [
       "<Figure size 640x480 with 1 Axes>"
      ]
     },
     "metadata": {},
     "output_type": "display_data"
    }
   ],
   "source": [
    "data['OS'].value_counts().plot(kind='bar')"
   ]
  },
  {
   "cell_type": "code",
   "execution_count": 114,
   "id": "e17d5fad-a83f-4fbd-94d2-ae7d7700d900",
   "metadata": {},
   "outputs": [
    {
     "data": {
      "text/plain": [
       "<Axes: xlabel='OS', ylabel='Price'>"
      ]
     },
     "execution_count": 114,
     "metadata": {},
     "output_type": "execute_result"
    },
    {
     "data": {
      "image/png": "[encoded data removed]",
      "text/plain": [
       "<Figure size 640x480 with 1 Axes>"
      ]
     },
     "metadata": {},
     "output_type": "display_data"
    }
   ],
   "source": [
    "sns.barplot(x=data['OS'],y=data['Price'])"
   ]
  },
  {
   "cell_type": "markdown",
   "id": "bc6af311-33e0-4be5-b1bc-d2d696733944",
   "metadata": {},
   "source": [
    "Droping the OpSys column"
   ]
  },
  {
   "cell_type": "code",
   "execution_count": 115,
   "id": "738d5fb4-8ffe-4f43-b500-f8ce0fe274db",
   "metadata": {},
   "outputs": [],
   "source": [
    "data.drop(columns=['OpSys'],inplace=True)"
   ]
  },
  {
   "cell_type": "code",
   "execution_count": 116,
   "id": "4fee1dc9-302b-40ea-a7a6-3f1c8f23ec35",
   "metadata": {},
   "outputs": [
    {
     "data": {
      "text/html": [
       "<div>\n",
       "<style scoped>\n",
       "    .dataframe tbody tr th:only-of-type {\n",
       "        vertical-align: middle;\n",
       "    }\n",
       "\n",
       "    .dataframe tbody tr th {\n",
       "        vertical-align: top;\n",
       "    }\n",
       "\n",
       "    .dataframe thead th {\n",
       "        text-align: right;\n",
       "    }\n",
       "</style>\n",
       "<table border=\"1\" class=\"dataframe\">\n",
       "  <thead>\n",
       "    <tr style=\"text-align: right;\">\n",
       "      <th></th>\n",
       "      <th>Company</th>\n",
       "      <th>TypeName</th>\n",
       "      <th>Ram</th>\n",
       "      <th>Weight</th>\n",
       "      <th>Price</th>\n",
       "      <th>TouchScreen</th>\n",
       "      <th>IPSPanel</th>\n",
       "      <th>PPI</th>\n",
       "      <th>Cpu Brand</th>\n",
       "      <th>HDD</th>\n",
       "      <th>SSD</th>\n",
       "      <th>Gpu Brand</th>\n",
       "      <th>OS</th>\n",
       "    </tr>\n",
       "  </thead>\n",
       "  <tbody>\n",
       "    <tr>\n",
       "      <th>0</th>\n",
       "      <td>Apple</td>\n",
       "      <td>Ultrabook</td>\n",
       "      <td>8</td>\n",
       "      <td>1.37</td>\n",
       "      <td>71378.6832</td>\n",
       "      <td>0</td>\n",
       "      <td>1</td>\n",
       "      <td>226.983005</td>\n",
       "      <td>Intel Core i5</td>\n",
       "      <td>0</td>\n",
       "      <td>128</td>\n",
       "      <td>Intel</td>\n",
       "      <td>Mac</td>\n",
       "    </tr>\n",
       "    <tr>\n",
       "      <th>1</th>\n",
       "      <td>Apple</td>\n",
       "      <td>Ultrabook</td>\n",
       "      <td>8</td>\n",
       "      <td>1.34</td>\n",
       "      <td>47895.5232</td>\n",
       "      <td>0</td>\n",
       "      <td>0</td>\n",
       "      <td>127.677940</td>\n",
       "      <td>Intel Core i5</td>\n",
       "      <td>0</td>\n",
       "      <td>0</td>\n",
       "      <td>Intel</td>\n",
       "      <td>Mac</td>\n",
       "    </tr>\n",
       "    <tr>\n",
       "      <th>2</th>\n",
       "      <td>HP</td>\n",
       "      <td>Notebook</td>\n",
       "      <td>8</td>\n",
       "      <td>1.86</td>\n",
       "      <td>30636.0000</td>\n",
       "      <td>0</td>\n",
       "      <td>0</td>\n",
       "      <td>141.211998</td>\n",
       "      <td>Intel Core i5</td>\n",
       "      <td>0</td>\n",
       "      <td>256</td>\n",
       "      <td>Intel</td>\n",
       "      <td>Others</td>\n",
       "    </tr>\n",
       "    <tr>\n",
       "      <th>3</th>\n",
       "      <td>Apple</td>\n",
       "      <td>Ultrabook</td>\n",
       "      <td>16</td>\n",
       "      <td>1.83</td>\n",
       "      <td>135195.3360</td>\n",
       "      <td>0</td>\n",
       "      <td>1</td>\n",
       "      <td>220.534624</td>\n",
       "      <td>Intel Core i7</td>\n",
       "      <td>0</td>\n",
       "      <td>512</td>\n",
       "      <td>AMD</td>\n",
       "      <td>Mac</td>\n",
       "    </tr>\n",
       "    <tr>\n",
       "      <th>4</th>\n",
       "      <td>Apple</td>\n",
       "      <td>Ultrabook</td>\n",
       "      <td>8</td>\n",
       "      <td>1.37</td>\n",
       "      <td>96095.8080</td>\n",
       "      <td>0</td>\n",
       "      <td>1</td>\n",
       "      <td>226.983005</td>\n",
       "      <td>Intel Core i5</td>\n",
       "      <td>0</td>\n",
       "      <td>256</td>\n",
       "      <td>Intel</td>\n",
       "      <td>Mac</td>\n",
       "    </tr>\n",
       "  </tbody>\n",
       "</table>\n",
       "</div>"
      ],
      "text/plain": [
       "  Company   TypeName  Ram  Weight        Price  TouchScreen  IPSPanel  \\\n",
       "0   Apple  Ultrabook    8    1.37   71378.6832            0         1   \n",
       "1   Apple  Ultrabook    8    1.34   47895.5232            0         0   \n",
       "2      HP   Notebook    8    1.86   30636.0000            0         0   \n",
       "3   Apple  Ultrabook   16    1.83  135195.3360            0         1   \n",
       "4   Apple  Ultrabook    8    1.37   96095.8080            0         1   \n",
       "\n",
       "          PPI      Cpu Brand  HDD  SSD Gpu Brand      OS  \n",
       "0  226.983005  Intel Core i5    0  128     Intel     Mac  \n",
       "1  127.677940  Intel Core i5    0    0     Intel     Mac  \n",
       "2  141.211998  Intel Core i5    0  256     Intel  Others  \n",
       "3  220.534624  Intel Core i7    0  512       AMD     Mac  \n",
       "4  226.983005  Intel Core i5    0  256     Intel     Mac  "
      ]
     },
     "execution_count": 116,
     "metadata": {},
     "output_type": "execute_result"
    }
   ],
   "source": [
    "data.head()"
   ]
  },
  {
   "cell_type": "code",
   "execution_count": 117,
   "id": "c44d1cd3-abd4-4e8e-8cf1-6a62db2d289c",
   "metadata": {},
   "outputs": [
    {
     "name": "stderr",
     "output_type": "stream",
     "text": [
      "C:\\Users\\Hp\\AppData\\Local\\Temp\\ipykernel_13184\\2799343561.py:1: UserWarning: \n",
      "\n",
      "`distplot` is a deprecated function and will be removed in seaborn v0.14.0.\n",
      "\n",
      "Please adapt your code to use either `displot` (a figure-level function with\n",
      "similar flexibility) or `histplot` (an axes-level function for histograms).\n",
      "\n",
      "For a guide to updating your code to use the new functions, please see\n",
      "https://gist.github.com/mwaskom/de44147ed2974457ad6372750bbe5751\n",
      "\n",
      "  sns.distplot(data['Weight'])\n"
     ]
    },
    {
     "data": {
      "text/plain": [
       "<Axes: xlabel='Weight', ylabel='Density'>"
      ]
     },
     "execution_count": 117,
     "metadata": {},
     "output_type": "execute_result"
    },
    {
     "data": {
      "image/png": "[encoded data removed]",
      "text/plain": [
       "<Figure size 640x480 with 1 Axes>"
      ]
     },
     "metadata": {},
     "output_type": "display_data"
    }
   ],
   "source": [
    "sns.distplot(data['Weight'])"
   ]
  },
  {
   "cell_type": "code",
   "execution_count": 118,
   "id": "a132e66f-8510-49a0-8548-04da72324df0",
   "metadata": {},
   "outputs": [
    {
     "data": {
      "text/plain": [
       "<Axes: xlabel='Weight', ylabel='Price'>"
      ]
     },
     "execution_count": 118,
     "metadata": {},
     "output_type": "execute_result"
    },
    {
     "data": {
      "image/png": "[encoded data removed]",
      "text/plain": [
       "<Figure size 640x480 with 1 Axes>"
      ]
     },
     "metadata": {},
     "output_type": "display_data"
    }
   ],
   "source": [
    "sns.scatterplot(x=data['Weight'],y=data['Price'])"
   ]
  },
  {
   "cell_type": "markdown",
   "id": "743fce0f-b97d-4db1-93fb-891f49a3d4a1",
   "metadata": {},
   "source": [
    "To see correlation of all columns with each other"
   ]
  },
  {
   "cell_type": "code",
   "execution_count": 119,
   "id": "fa808d65-ddc5-46e1-83a1-97ce8afc1b27",
   "metadata": {},
   "outputs": [],
   "source": [
    "new=data.select_dtypes(include=['number'])"
   ]
  },
  {
   "cell_type": "code",
   "execution_count": 120,
   "id": "b8f74c80-60ad-4fa9-8245-d9040715c467",
   "metadata": {},
   "outputs": [
    {
     "data": {
      "text/plain": [
       "<Axes: >"
      ]
     },
     "execution_count": 120,
     "metadata": {},
     "output_type": "execute_result"
    },
    {
     "data": {
      "image/png": "[encoded data removed]",
      "text/plain": [
       "<Figure size 640x480 with 2 Axes>"
      ]
     },
     "metadata": {},
     "output_type": "display_data"
    }
   ],
   "source": [
    "sns.heatmap(new.corr())"
   ]
  },
  {
   "cell_type": "markdown",
   "id": "e25afee2-4792-46f4-818c-6d22d749ecf0",
   "metadata": {},
   "source": [
    "Now converting our target column Price into normal as it is sequed so applying log transformation to it "
   ]
  },
  {
   "cell_type": "code",
   "execution_count": 121,
   "id": "ce201205-8838-4a14-8eee-41292f3bc13b",
   "metadata": {},
   "outputs": [
    {
     "name": "stderr",
     "output_type": "stream",
     "text": [
      "C:\\Users\\Hp\\AppData\\Local\\Temp\\ipykernel_13184\\460424880.py:1: UserWarning: \n",
      "\n",
      "`distplot` is a deprecated function and will be removed in seaborn v0.14.0.\n",
      "\n",
      "Please adapt your code to use either `displot` (a figure-level function with\n",
      "similar flexibility) or `histplot` (an axes-level function for histograms).\n",
      "\n",
      "For a guide to updating your code to use the new functions, please see\n",
      "https://gist.github.com/mwaskom/de44147ed2974457ad6372750bbe5751\n",
      "\n",
      "  sns.distplot(np.log(data['Price']))\n"
     ]
    },
    {
     "data": {
      "text/plain": [
       "<Axes: xlabel='Price', ylabel='Density'>"
      ]
     },
     "execution_count": 121,
     "metadata": {},
     "output_type": "execute_result"
    },
    {
     "data": {
      "image/png": "[encoded data removed]",
      "text/plain": [
       "<Figure size 640x480 with 1 Axes>"
      ]
     },
     "metadata": {},
     "output_type": "display_data"
    }
   ],
   "source": [
    "sns.distplot(np.log(data['Price']))"
   ]
  },
  {
   "cell_type": "markdown",
   "id": "e4e2f61c-87cc-4208-9c67-ed2f6a40a2cd",
   "metadata": {},
   "source": [
    "It has becomed normal"
   ]
  },
  {
   "cell_type": "markdown",
   "id": "a3e3ec05-24b1-40d0-8322-3b5798f4d27e",
   "metadata": {},
   "source": [
    "Extracting X and Y and applying log transformation while extracting Y "
   ]
  },
  {
   "cell_type": "code",
   "execution_count": 122,
   "id": "e4103267-c76d-483a-a85c-10c61b5ab52d",
   "metadata": {},
   "outputs": [],
   "source": [
    "X=data.drop(columns=['Price'])\n",
    "Y=np.log(data['Price'])"
   ]
  },
  {
   "cell_type": "code",
   "execution_count": 123,
   "id": "594de842-851f-4703-83ba-fde62808de07",
   "metadata": {},
   "outputs": [
    {
     "data": {
      "text/html": [
       "<div>\n",
       "<style scoped>\n",
       "    .dataframe tbody tr th:only-of-type {\n",
       "        vertical-align: middle;\n",
       "    }\n",
       "\n",
       "    .dataframe tbody tr th {\n",
       "        vertical-align: top;\n",
       "    }\n",
       "\n",
       "    .dataframe thead th {\n",
       "        text-align: right;\n",
       "    }\n",
       "</style>\n",
       "<table border=\"1\" class=\"dataframe\">\n",
       "  <thead>\n",
       "    <tr style=\"text-align: right;\">\n",
       "      <th></th>\n",
       "      <th>Company</th>\n",
       "      <th>TypeName</th>\n",
       "      <th>Ram</th>\n",
       "      <th>Weight</th>\n",
       "      <th>TouchScreen</th>\n",
       "      <th>IPSPanel</th>\n",
       "      <th>PPI</th>\n",
       "      <th>Cpu Brand</th>\n",
       "      <th>HDD</th>\n",
       "      <th>SSD</th>\n",
       "      <th>Gpu Brand</th>\n",
       "      <th>OS</th>\n",
       "    </tr>\n",
       "  </thead>\n",
       "  <tbody>\n",
       "    <tr>\n",
       "      <th>0</th>\n",
       "      <td>Apple</td>\n",
       "      <td>Ultrabook</td>\n",
       "      <td>8</td>\n",
       "      <td>1.37</td>\n",
       "      <td>0</td>\n",
       "      <td>1</td>\n",
       "      <td>226.983005</td>\n",
       "      <td>Intel Core i5</td>\n",
       "      <td>0</td>\n",
       "      <td>128</td>\n",
       "      <td>Intel</td>\n",
       "      <td>Mac</td>\n",
       "    </tr>\n",
       "    <tr>\n",
       "      <th>1</th>\n",
       "      <td>Apple</td>\n",
       "      <td>Ultrabook</td>\n",
       "      <td>8</td>\n",
       "      <td>1.34</td>\n",
       "      <td>0</td>\n",
       "      <td>0</td>\n",
       "      <td>127.677940</td>\n",
       "      <td>Intel Core i5</td>\n",
       "      <td>0</td>\n",
       "      <td>0</td>\n",
       "      <td>Intel</td>\n",
       "      <td>Mac</td>\n",
       "    </tr>\n",
       "    <tr>\n",
       "      <th>2</th>\n",
       "      <td>HP</td>\n",
       "      <td>Notebook</td>\n",
       "      <td>8</td>\n",
       "      <td>1.86</td>\n",
       "      <td>0</td>\n",
       "      <td>0</td>\n",
       "      <td>141.211998</td>\n",
       "      <td>Intel Core i5</td>\n",
       "      <td>0</td>\n",
       "      <td>256</td>\n",
       "      <td>Intel</td>\n",
       "      <td>Others</td>\n",
       "    </tr>\n",
       "    <tr>\n",
       "      <th>3</th>\n",
       "      <td>Apple</td>\n",
       "      <td>Ultrabook</td>\n",
       "      <td>16</td>\n",
       "      <td>1.83</td>\n",
       "      <td>0</td>\n",
       "      <td>1</td>\n",
       "      <td>220.534624</td>\n",
       "      <td>Intel Core i7</td>\n",
       "      <td>0</td>\n",
       "      <td>512</td>\n",
       "      <td>AMD</td>\n",
       "      <td>Mac</td>\n",
       "    </tr>\n",
       "    <tr>\n",
       "      <th>4</th>\n",
       "      <td>Apple</td>\n",
       "      <td>Ultrabook</td>\n",
       "      <td>8</td>\n",
       "      <td>1.37</td>\n",
       "      <td>0</td>\n",
       "      <td>1</td>\n",
       "      <td>226.983005</td>\n",
       "      <td>Intel Core i5</td>\n",
       "      <td>0</td>\n",
       "      <td>256</td>\n",
       "      <td>Intel</td>\n",
       "      <td>Mac</td>\n",
       "    </tr>\n",
       "    <tr>\n",
       "      <th>...</th>\n",
       "      <td>...</td>\n",
       "      <td>...</td>\n",
       "      <td>...</td>\n",
       "      <td>...</td>\n",
       "      <td>...</td>\n",
       "      <td>...</td>\n",
       "      <td>...</td>\n",
       "      <td>...</td>\n",
       "      <td>...</td>\n",
       "      <td>...</td>\n",
       "      <td>...</td>\n",
       "      <td>...</td>\n",
       "    </tr>\n",
       "    <tr>\n",
       "      <th>1298</th>\n",
       "      <td>Lenovo</td>\n",
       "      <td>2 in 1 Convertible</td>\n",
       "      <td>4</td>\n",
       "      <td>1.80</td>\n",
       "      <td>1</td>\n",
       "      <td>1</td>\n",
       "      <td>157.350512</td>\n",
       "      <td>Intel Core i7</td>\n",
       "      <td>0</td>\n",
       "      <td>128</td>\n",
       "      <td>Intel</td>\n",
       "      <td>Windows</td>\n",
       "    </tr>\n",
       "    <tr>\n",
       "      <th>1299</th>\n",
       "      <td>Lenovo</td>\n",
       "      <td>2 in 1 Convertible</td>\n",
       "      <td>16</td>\n",
       "      <td>1.30</td>\n",
       "      <td>1</td>\n",
       "      <td>1</td>\n",
       "      <td>276.053530</td>\n",
       "      <td>Intel Core i7</td>\n",
       "      <td>0</td>\n",
       "      <td>512</td>\n",
       "      <td>Intel</td>\n",
       "      <td>Windows</td>\n",
       "    </tr>\n",
       "    <tr>\n",
       "      <th>1300</th>\n",
       "      <td>Lenovo</td>\n",
       "      <td>Notebook</td>\n",
       "      <td>2</td>\n",
       "      <td>1.50</td>\n",
       "      <td>0</td>\n",
       "      <td>0</td>\n",
       "      <td>111.935204</td>\n",
       "      <td>Other Intel Processor</td>\n",
       "      <td>0</td>\n",
       "      <td>0</td>\n",
       "      <td>Intel</td>\n",
       "      <td>Windows</td>\n",
       "    </tr>\n",
       "    <tr>\n",
       "      <th>1301</th>\n",
       "      <td>HP</td>\n",
       "      <td>Notebook</td>\n",
       "      <td>6</td>\n",
       "      <td>2.19</td>\n",
       "      <td>0</td>\n",
       "      <td>0</td>\n",
       "      <td>100.454670</td>\n",
       "      <td>Intel Core i7</td>\n",
       "      <td>1000</td>\n",
       "      <td>0</td>\n",
       "      <td>AMD</td>\n",
       "      <td>Windows</td>\n",
       "    </tr>\n",
       "    <tr>\n",
       "      <th>1302</th>\n",
       "      <td>Asus</td>\n",
       "      <td>Notebook</td>\n",
       "      <td>4</td>\n",
       "      <td>2.20</td>\n",
       "      <td>0</td>\n",
       "      <td>0</td>\n",
       "      <td>100.454670</td>\n",
       "      <td>Other Intel Processor</td>\n",
       "      <td>0</td>\n",
       "      <td>0</td>\n",
       "      <td>Intel</td>\n",
       "      <td>Windows</td>\n",
       "    </tr>\n",
       "  </tbody>\n",
       "</table>\n",
       "<p>1302 rows × 12 columns</p>\n",
       "</div>"
      ],
      "text/plain": [
       "     Company            TypeName  Ram  Weight  TouchScreen  IPSPanel  \\\n",
       "0      Apple           Ultrabook    8    1.37            0         1   \n",
       "1      Apple           Ultrabook    8    1.34            0         0   \n",
       "2         HP            Notebook    8    1.86            0         0   \n",
       "3      Apple           Ultrabook   16    1.83            0         1   \n",
       "4      Apple           Ultrabook    8    1.37            0         1   \n",
       "...      ...                 ...  ...     ...          ...       ...   \n",
       "1298  Lenovo  2 in 1 Convertible    4    1.80            1         1   \n",
       "1299  Lenovo  2 in 1 Convertible   16    1.30            1         1   \n",
       "1300  Lenovo            Notebook    2    1.50            0         0   \n",
       "1301      HP            Notebook    6    2.19            0         0   \n",
       "1302    Asus            Notebook    4    2.20            0         0   \n",
       "\n",
       "             PPI              Cpu Brand   HDD  SSD Gpu Brand       OS  \n",
       "0     226.983005          Intel Core i5     0  128     Intel      Mac  \n",
       "1     127.677940          Intel Core i5     0    0     Intel      Mac  \n",
       "2     141.211998          Intel Core i5     0  256     Intel   Others  \n",
       "3     220.534624          Intel Core i7     0  512       AMD      Mac  \n",
       "4     226.983005          Intel Core i5     0  256     Intel      Mac  \n",
       "...          ...                    ...   ...  ...       ...      ...  \n",
       "1298  157.350512          Intel Core i7     0  128     Intel  Windows  \n",
       "1299  276.053530          Intel Core i7     0  512     Intel  Windows  \n",
       "1300  111.935204  Other Intel Processor     0    0     Intel  Windows  \n",
       "1301  100.454670          Intel Core i7  1000    0       AMD  Windows  \n",
       "1302  100.454670  Other Intel Processor     0    0     Intel  Windows  \n",
       "\n",
       "[1302 rows x 12 columns]"
      ]
     },
     "execution_count": 123,
     "metadata": {},
     "output_type": "execute_result"
    }
   ],
   "source": [
    "X"
   ]
  },
  {
   "cell_type": "code",
   "execution_count": 124,
   "id": "9cdfb730-03d7-407e-94da-1f856e13a67c",
   "metadata": {},
   "outputs": [
    {
     "data": {
      "text/plain": [
       "0       11.175755\n",
       "1       10.776777\n",
       "2       10.329931\n",
       "3       11.814476\n",
       "4       11.473101\n",
       "          ...    \n",
       "1298    10.433899\n",
       "1299    11.288115\n",
       "1300     9.409283\n",
       "1301    10.614129\n",
       "1302     9.886358\n",
       "Name: Price, Length: 1302, dtype: float64"
      ]
     },
     "execution_count": 124,
     "metadata": {},
     "output_type": "execute_result"
    }
   ],
   "source": [
    "Y"
   ]
  },
  {
   "cell_type": "code",
   "execution_count": 125,
   "id": "6a125301-5a11-47c1-88e3-85161bccbba9",
   "metadata": {},
   "outputs": [],
   "source": [
    "from sklearn.model_selection import train_test_split\n",
    "X_train,X_test,Y_train,Y_test=train_test_split(X,Y,test_size=0.15,random_state=2)"
   ]
  },
  {
   "cell_type": "markdown",
   "id": "f7f36369-3d90-42b3-a5fd-8b8eff2b490a",
   "metadata": {},
   "source": [
    "Applying Different Models whiling handling Categorical and numerical columns"
   ]
  },
  {
   "cell_type": "code",
   "execution_count": 126,
   "id": "81bf0c97-0a7e-4e8a-9f72-1d95a912d0f9",
   "metadata": {},
   "outputs": [],
   "source": [
    "from sklearn.compose import ColumnTransformer\n",
    "from sklearn.pipeline import Pipeline\n",
    "from sklearn.preprocessing import OneHotEncoder\n",
    "from sklearn.metrics import r2_score, mean_absolute_error"
   ]
  },
  {
   "cell_type": "code",
   "execution_count": 127,
   "id": "f6feaaf3-5baf-4ad0-b15c-9876c84c96b2",
   "metadata": {},
   "outputs": [],
   "source": [
    "from sklearn.linear_model import LinearRegression,Lasso,Ridge\n",
    "from sklearn.neighbors import KNeighborsRegressor\n",
    "from sklearn.tree import DecisionTreeRegressor\n",
    "from sklearn.ensemble import RandomForestRegressor,GradientBoostingRegressor,AdaBoostRegressor\n",
    "from sklearn.svm import SVR\n",
    "from xgboost import XGBRegressor"
   ]
  },
  {
   "cell_type": "markdown",
   "id": "bb4c29ae-21f6-4ce8-9ff1-e6697c15efaa",
   "metadata": {},
   "source": [
    "Using Optuna testing all the algorithms and finding which one is giving good results"
   ]
  },
  {
   "cell_type": "code",
   "execution_count": 128,
   "id": "2e7a4bb6-5d6e-4724-a65c-00619e06a7f1",
   "metadata": {},
   "outputs": [],
   "source": [
    "import optuna"
   ]
  },
  {
   "cell_type": "markdown",
   "id": "f6a5a6de-91a4-4188-a1a3-b5a0204f93a3",
   "metadata": {},
   "source": [
    "Used LinearRegression , lasso , ridge , gradient boosting , random forets,adaboost, decision tree, svr , kneighbors"
   ]
  },
  {
   "cell_type": "code",
   "execution_count": 129,
   "id": "2195e826-fb17-4d0f-b12b-d3723bee893e",
   "metadata": {},
   "outputs": [],
   "source": [
    "# Define the objective function for Optuna\n",
    "def objective(trial):\n",
    "    # Choose model randomly\n",
    "    model_choice = trial.suggest_categorical('model', ['LinearRegression', 'Lasso', 'Ridge', 'GradientBoosting', \n",
    "                                                      'RandomForest', 'AdaBoost', 'DecisionTree', \n",
    "                                                      'SVR', 'KNeighbors'])\n",
    "    \n",
    "    # Define preprocessing\n",
    "    step1 = ColumnTransformer(\n",
    "        transformers=[\n",
    "            ('col_tnf', OneHotEncoder(drop='first'), [0, 1, 7, 10, 11])\n",
    "        ],\n",
    "        remainder='passthrough'\n",
    "    )\n",
    "    \n",
    "    # Choose model and its hyperparameters\n",
    "    if model_choice == 'LinearRegression':\n",
    "        model = LinearRegression()\n",
    "        param_grid = {\n",
    "            'step2__fit_intercept': trial.suggest_categorical('fit_intercept', [True, False])\n",
    "        }\n",
    "    \n",
    "    elif model_choice == 'Lasso':\n",
    "        model = Lasso()\n",
    "        param_grid = {\n",
    "            'step2__alpha': trial.suggest_float('alpha', 1e-5, 1e1,log=True),\n",
    "            'step2__fit_intercept': trial.suggest_categorical('fit_intercept', [True, False])\n",
    "        }\n",
    "    \n",
    "    elif model_choice == 'Ridge':\n",
    "        model = Ridge()\n",
    "        param_grid = {\n",
    "            'step2__alpha': trial.suggest_float('alpha',1e-5,1e1,log=True),\n",
    "            'step2__fit_intercept': trial.suggest_categorical('fit_intercept', [True, False])\n",
    "        }\n",
    "        \n",
    "    elif model_choice == 'KNeighbors':\n",
    "        model = KNeighborsRegressor()\n",
    "        param_grid = {\n",
    "            'step2__n_neighbors': trial.suggest_int('n_neighbors', 3, 20),\n",
    "            'step2__weights': trial.suggest_categorical('weights', ['uniform', 'distance']),\n",
    "            'step2__p': trial.suggest_int('p', 1, 2)  # p=1 is Manhattan distance, p=2 is Euclidean\n",
    "        }\n",
    "    \n",
    "    elif model_choice == 'SVR':\n",
    "        model = SVR()\n",
    "        param_grid = {\n",
    "            'step2__C': trial.suggest_float('C', 1e-5, 1e3,log=True),\n",
    "            'step2__epsilon': trial.suggest_float('epsilon', 0.01, 0.1),\n",
    "            'step2__kernel': trial.suggest_categorical('kernel', ['linear', 'poly', 'rbf'])\n",
    "        }\n",
    "        \n",
    "    elif model_choice == 'GradientBoosting':\n",
    "        model = GradientBoostingRegressor(random_state=42)\n",
    "        param_grid = {\n",
    "            'step2__n_estimators': trial.suggest_int('n_estimators', 100, 1000),\n",
    "            'step2__max_depth': trial.suggest_int('max_depth', 3, 15),\n",
    "            'step2__learning_rate': trial.suggest_float('learning_rate', 0.01, 0.2)\n",
    "        }\n",
    "    \n",
    "    elif model_choice == 'RandomForest':\n",
    "        model = RandomForestRegressor(random_state=42)\n",
    "        param_grid = {\n",
    "            'step2__n_estimators': trial.suggest_int('n_estimators', 100, 1000),\n",
    "            'step2__max_depth': trial.suggest_int('max_depth', 3, 20),\n",
    "            'step2__max_samples':trial.suggest_int('max_samples',1,1e3),\n",
    "            'step2__max_features':trial.suggest_int('max_features',1,1e3),\n",
    "            'step2__min_samples_split': trial.suggest_int('min_samples_split', 2, 10),\n",
    "            'step2__min_samples_leaf': trial.suggest_int('min_samples_leaf', 1, 10)\n",
    "        }\n",
    "    \n",
    "    elif model_choice == 'AdaBoost':\n",
    "        model = AdaBoostRegressor(random_state=42)\n",
    "        param_grid = {\n",
    "            'step2__n_estimators': trial.suggest_int('n_estimators', 100, 1000),\n",
    "            'step2__learning_rate': trial.suggest_float('learning_rate', 0.01, 1.0)\n",
    "        }\n",
    "    \n",
    "    elif model_choice == 'DecisionTree':\n",
    "        model = DecisionTreeRegressor(random_state=42)\n",
    "        param_grid = {\n",
    "            'step2__max_depth': trial.suggest_int('max_depth', 3, 20),\n",
    "            'step2__min_samples_split': trial.suggest_int('min_samples_split', 2, 10),\n",
    "            'step2__min_samples_leaf': trial.suggest_int('min_samples_leaf', 1, 10)\n",
    "        }\n",
    "    \n",
    "    # Create the pipeline\n",
    "    pipe = Pipeline([\n",
    "        ('step1', step1),\n",
    "        ('step2', model)\n",
    "    ])\n",
    "    \n",
    "    # Set the hyperparameters from Optuna trial\n",
    "    pipe.set_params(**param_grid)\n",
    "    \n",
    "    # Fit the model\n",
    "    pipe.fit(X_train, Y_train)\n",
    "    \n",
    "    # Make predictions\n",
    "    Y_pred = pipe.predict(X_test)\n",
    "    \n",
    "    # Evaluate the performance (R2 score and MAE)\n",
    "    r2 = r2_score(Y_test, Y_pred)\n",
    "    mae = mean_absolute_error(Y_test, Y_pred)\n",
    "    \n",
    "    return r2  # Optuna minimizes the objective, so return r2 to maximize it\n"
   ]
  },
  {
   "cell_type": "code",
   "execution_count": 133,
   "id": "a7f2ca96-6237-48ce-9528-327476d58d4f",
   "metadata": {},
   "outputs": [
    {
     "name": "stderr",
     "output_type": "stream",
     "text": [
      "[I 2025-01-05 12:14:38,864] A new study created in memory with name: no-name-f41851a8-4303-4975-8465-6f0ba7a061b0\n",
      "[I 2025-01-05 12:14:39,568] Trial 0 finished with value: 0.8007711237101683 and parameters: {'model': 'AdaBoost', 'n_estimators': 254, 'learning_rate': 0.2973000708508272}. Best is trial 0 with value: 0.8007711237101683.\n",
      "[I 2025-01-05 12:14:39,787] Trial 1 finished with value: 0.804133926352794 and parameters: {'model': 'LinearRegression', 'fit_intercept': True}. Best is trial 1 with value: 0.804133926352794.\n",
      "[I 2025-01-05 12:14:40,122] Trial 2 finished with value: 0.8018600494175285 and parameters: {'model': 'AdaBoost', 'n_estimators': 340, 'learning_rate': 0.8876173750467703}. Best is trial 1 with value: 0.804133926352794.\n",
      "[I 2025-01-05 12:14:40,155] Trial 3 finished with value: 0.8530483705497086 and parameters: {'model': 'DecisionTree', 'max_depth': 13, 'min_samples_split': 4, 'min_samples_leaf': 7}. Best is trial 3 with value: 0.8530483705497086.\n",
      "[I 2025-01-05 12:14:40,189] Trial 4 finished with value: 0.8375543947728465 and parameters: {'model': 'DecisionTree', 'max_depth': 15, 'min_samples_split': 3, 'min_samples_leaf': 9}. Best is trial 3 with value: 0.8530483705497086.\n",
      "[I 2025-01-05 12:14:40,226] Trial 5 finished with value: 0.7398594273039967 and parameters: {'model': 'KNeighbors', 'n_neighbors': 18, 'weights': 'uniform', 'p': 2}. Best is trial 3 with value: 0.8530483705497086.\n",
      "[I 2025-01-05 12:14:40,254] Trial 6 finished with value: 0.8041340962753144 and parameters: {'model': 'Ridge', 'alpha': 5.5185506982063394e-05, 'fit_intercept': True}. Best is trial 3 with value: 0.8530483705497086.\n",
      "[I 2025-01-05 12:14:41,755] Trial 7 finished with value: 0.8210131798481326 and parameters: {'model': 'RandomForest', 'n_estimators': 317, 'max_depth': 19, 'max_samples': 813, 'max_features': 500, 'min_samples_split': 4, 'min_samples_leaf': 10}. Best is trial 3 with value: 0.8530483705497086.\n",
      "[I 2025-01-05 12:14:41,783] Trial 8 finished with value: 0.4341792742256442 and parameters: {'model': 'Ridge', 'alpha': 2.4775374063799123, 'fit_intercept': False}. Best is trial 3 with value: 0.8530483705497086.\n",
      "[I 2025-01-05 12:14:42,114] Trial 9 finished with value: 0.23896141684749372 and parameters: {'model': 'SVR', 'C': 1.6803332600266956, 'epsilon': 0.058640495169160325, 'kernel': 'poly'}. Best is trial 3 with value: 0.8530483705497086.\n",
      "[I 2025-01-05 12:14:42,148] Trial 10 finished with value: -20.738725365639816 and parameters: {'model': 'Lasso', 'alpha': 5.525449973183041, 'fit_intercept': False}. Best is trial 3 with value: 0.8530483705497086.\n",
      "[I 2025-01-05 12:14:42,210] Trial 11 finished with value: 0.8532066448214076 and parameters: {'model': 'DecisionTree', 'max_depth': 12, 'min_samples_split': 3, 'min_samples_leaf': 7}. Best is trial 11 with value: 0.8532066448214076.\n",
      "[I 2025-01-05 12:14:42,272] Trial 12 finished with value: 0.861767693308851 and parameters: {'model': 'DecisionTree', 'max_depth': 8, 'min_samples_split': 4, 'min_samples_leaf': 5}. Best is trial 12 with value: 0.861767693308851.\n",
      "[I 2025-01-05 12:14:42,334] Trial 13 finished with value: 0.8090828938167431 and parameters: {'model': 'DecisionTree', 'max_depth': 5, 'min_samples_split': 9, 'min_samples_leaf': 3}. Best is trial 12 with value: 0.861767693308851.\n",
      "[I 2025-01-05 12:14:42,408] Trial 14 finished with value: 0.8467185132075 and parameters: {'model': 'DecisionTree', 'max_depth': 7, 'min_samples_split': 2, 'min_samples_leaf': 5}. Best is trial 12 with value: 0.861767693308851.\n",
      "[I 2025-01-05 12:14:50,964] Trial 15 finished with value: 0.8600938181600016 and parameters: {'model': 'GradientBoosting', 'n_estimators': 922, 'max_depth': 10, 'learning_rate': 0.01975446442282819}. Best is trial 12 with value: 0.861767693308851.\n",
      "[I 2025-01-05 12:14:59,356] Trial 16 finished with value: 0.8653627936624371 and parameters: {'model': 'GradientBoosting', 'n_estimators': 995, 'max_depth': 9, 'learning_rate': 0.01243173848789507}. Best is trial 16 with value: 0.8653627936624371.\n",
      "[I 2025-01-05 12:15:06,639] Trial 17 finished with value: 0.8623456785428704 and parameters: {'model': 'GradientBoosting', 'n_estimators': 957, 'max_depth': 8, 'learning_rate': 0.02459065555163714}. Best is trial 16 with value: 0.8653627936624371.\n",
      "[I 2025-01-05 12:15:10,119] Trial 18 finished with value: 0.8694283342099574 and parameters: {'model': 'GradientBoosting', 'n_estimators': 995, 'max_depth': 3, 'learning_rate': 0.015084272103080153}. Best is trial 18 with value: 0.8694283342099574.\n",
      "[I 2025-01-05 12:15:12,660] Trial 19 finished with value: 0.8795995081120098 and parameters: {'model': 'GradientBoosting', 'n_estimators': 720, 'max_depth': 3, 'learning_rate': 0.06740080861409709}. Best is trial 19 with value: 0.8795995081120098.\n",
      "[I 2025-01-05 12:15:15,531] Trial 20 finished with value: 0.886557928402699 and parameters: {'model': 'GradientBoosting', 'n_estimators': 666, 'max_depth': 4, 'learning_rate': 0.07859277722409796}. Best is trial 20 with value: 0.886557928402699.\n",
      "[I 2025-01-05 12:15:17,948] Trial 21 finished with value: 0.8802091049271927 and parameters: {'model': 'GradientBoosting', 'n_estimators': 685, 'max_depth': 3, 'learning_rate': 0.08586148076549514}. Best is trial 20 with value: 0.886557928402699.\n",
      "[I 2025-01-05 12:15:20,814] Trial 22 finished with value: 0.882361388630074 and parameters: {'model': 'GradientBoosting', 'n_estimators': 664, 'max_depth': 4, 'learning_rate': 0.08788583104491615}. Best is trial 20 with value: 0.886557928402699.\n",
      "[I 2025-01-05 12:15:24,005] Trial 23 finished with value: 0.8821042925616843 and parameters: {'model': 'GradientBoosting', 'n_estimators': 621, 'max_depth': 5, 'learning_rate': 0.09815205528642766}. Best is trial 20 with value: 0.886557928402699.\n",
      "[I 2025-01-05 12:15:27,066] Trial 24 finished with value: 0.8783494532891684 and parameters: {'model': 'GradientBoosting', 'n_estimators': 602, 'max_depth': 5, 'learning_rate': 0.12297168841180925}. Best is trial 20 with value: 0.886557928402699.\n",
      "[I 2025-01-05 12:15:27,338] Trial 25 finished with value: 0.5721803704074275 and parameters: {'model': 'SVR', 'C': 3.467204875059717e-05, 'epsilon': 0.016627580349821258, 'kernel': 'linear'}. Best is trial 20 with value: 0.886557928402699.\n",
      "[I 2025-01-05 12:15:28,426] Trial 26 finished with value: 0.8041339263528215 and parameters: {'model': 'LinearRegression', 'fit_intercept': False}. Best is trial 20 with value: 0.886557928402699.\n",
      "[I 2025-01-05 12:15:28,469] Trial 27 finished with value: 0.8042310521166283 and parameters: {'model': 'Lasso', 'alpha': 1.067555161135438e-05, 'fit_intercept': True}. Best is trial 20 with value: 0.886557928402699.\n",
      "[I 2025-01-05 12:15:29,587] Trial 28 finished with value: 0.7200041331703304 and parameters: {'model': 'RandomForest', 'n_estimators': 483, 'max_depth': 6, 'max_samples': 23, 'max_features': 28, 'min_samples_split': 10, 'min_samples_leaf': 1}. Best is trial 20 with value: 0.886557928402699.\n",
      "[I 2025-01-05 12:15:29,651] Trial 29 finished with value: 0.8281266777266989 and parameters: {'model': 'KNeighbors', 'n_neighbors': 3, 'weights': 'distance', 'p': 1}. Best is trial 20 with value: 0.886557928402699.\n",
      "[I 2025-01-05 12:15:33,397] Trial 30 finished with value: 0.8620406504748148 and parameters: {'model': 'GradientBoosting', 'n_estimators': 752, 'max_depth': 5, 'learning_rate': 0.11893770414940442}. Best is trial 20 with value: 0.886557928402699.\n",
      "[I 2025-01-05 12:15:35,730] Trial 31 finished with value: 0.877331736762276 and parameters: {'model': 'GradientBoosting', 'n_estimators': 659, 'max_depth': 3, 'learning_rate': 0.08125581461052395}. Best is trial 20 with value: 0.886557928402699.\n",
      "[I 2025-01-05 12:15:37,822] Trial 32 finished with value: 0.8820204722876688 and parameters: {'model': 'GradientBoosting', 'n_estimators': 484, 'max_depth': 4, 'learning_rate': 0.09066057523553248}. Best is trial 20 with value: 0.886557928402699.\n",
      "[I 2025-01-05 12:15:38,530] Trial 33 finished with value: 0.8024666711085727 and parameters: {'model': 'AdaBoost', 'n_estimators': 517, 'learning_rate': 0.2828755365050641}. Best is trial 20 with value: 0.886557928402699.\n",
      "[I 2025-01-05 12:15:40,991] Trial 34 finished with value: 0.8754003650645921 and parameters: {'model': 'GradientBoosting', 'n_estimators': 473, 'max_depth': 5, 'learning_rate': 0.09961688624151405}. Best is trial 20 with value: 0.886557928402699.\n",
      "[I 2025-01-05 12:15:42,126] Trial 35 finished with value: 0.8041339263528215 and parameters: {'model': 'LinearRegression', 'fit_intercept': False}. Best is trial 20 with value: 0.886557928402699.\n",
      "[I 2025-01-05 12:15:45,711] Trial 36 finished with value: 0.8815051384997298 and parameters: {'model': 'GradientBoosting', 'n_estimators': 819, 'max_depth': 4, 'learning_rate': 0.059212714861379634}. Best is trial 20 with value: 0.886557928402699.\n",
      "[I 2025-01-05 12:15:46,616] Trial 37 finished with value: 0.8035621913655245 and parameters: {'model': 'AdaBoost', 'n_estimators': 569, 'learning_rate': 0.2641503033528724}. Best is trial 20 with value: 0.886557928402699.\n",
      "[I 2025-01-05 12:15:49,213] Trial 38 finished with value: 0.8721662961193665 and parameters: {'model': 'GradientBoosting', 'n_estimators': 438, 'max_depth': 6, 'learning_rate': 0.10521549622055561}. Best is trial 20 with value: 0.886557928402699.\n",
      "[I 2025-01-05 12:15:49,253] Trial 39 finished with value: 0.8041584644229137 and parameters: {'model': 'Ridge', 'alpha': 0.008011729176742095, 'fit_intercept': True}. Best is trial 20 with value: 0.886557928402699.\n",
      "[I 2025-01-05 12:15:49,322] Trial 40 finished with value: 0.808648161284474 and parameters: {'model': 'KNeighbors', 'n_neighbors': 8, 'weights': 'uniform', 'p': 1}. Best is trial 20 with value: 0.886557928402699.\n",
      "[I 2025-01-05 12:15:52,861] Trial 41 finished with value: 0.88707247925018 and parameters: {'model': 'GradientBoosting', 'n_estimators': 813, 'max_depth': 4, 'learning_rate': 0.05510082972605217}. Best is trial 41 with value: 0.88707247925018.\n",
      "[I 2025-01-05 12:15:56,504] Trial 42 finished with value: 0.8851205436344972 and parameters: {'model': 'GradientBoosting', 'n_estimators': 824, 'max_depth': 4, 'learning_rate': 0.05028080312633744}. Best is trial 41 with value: 0.88707247925018.\n",
      "[I 2025-01-05 12:16:00,118] Trial 43 finished with value: 0.8850091120776075 and parameters: {'model': 'GradientBoosting', 'n_estimators': 818, 'max_depth': 4, 'learning_rate': 0.046476326283391343}. Best is trial 41 with value: 0.88707247925018.\n",
      "[I 2025-01-05 12:16:03,287] Trial 44 finished with value: 0.8509150884517018 and parameters: {'model': 'RandomForest', 'n_estimators': 833, 'max_depth': 7, 'max_samples': 258, 'max_features': 998, 'min_samples_split': 7, 'min_samples_leaf': 1}. Best is trial 41 with value: 0.88707247925018.\n",
      "[I 2025-01-05 12:16:03,627] Trial 45 finished with value: 0.7846771307000675 and parameters: {'model': 'SVR', 'C': 605.3052975254308, 'epsilon': 0.09390062718115262, 'kernel': 'rbf'}. Best is trial 41 with value: 0.88707247925018.\n",
      "[I 2025-01-05 12:16:03,672] Trial 46 finished with value: 0.764888175807345 and parameters: {'model': 'Lasso', 'alpha': 0.01868383351666583, 'fit_intercept': True}. Best is trial 41 with value: 0.88707247925018.\n",
      "[I 2025-01-05 12:16:07,352] Trial 47 finished with value: 0.8851791730599715 and parameters: {'model': 'GradientBoosting', 'n_estimators': 827, 'max_depth': 4, 'learning_rate': 0.05072836652624511}. Best is trial 41 with value: 0.88707247925018.\n",
      "[I 2025-01-05 12:16:07,400] Trial 48 finished with value: 0.8041806787387112 and parameters: {'model': 'Ridge', 'alpha': 0.003478966486367217, 'fit_intercept': False}. Best is trial 41 with value: 0.88707247925018.\n",
      "[I 2025-01-05 12:16:11,162] Trial 49 finished with value: 0.8845931177621865 and parameters: {'model': 'GradientBoosting', 'n_estimators': 856, 'max_depth': 4, 'learning_rate': 0.04470406196009017}. Best is trial 41 with value: 0.88707247925018.\n",
      "[I 2025-01-05 12:16:12,169] Trial 50 finished with value: 0.804133926352794 and parameters: {'model': 'LinearRegression', 'fit_intercept': True}. Best is trial 41 with value: 0.88707247925018.\n",
      "[I 2025-01-05 12:16:15,931] Trial 51 finished with value: 0.8865140088412479 and parameters: {'model': 'GradientBoosting', 'n_estimators': 845, 'max_depth': 4, 'learning_rate': 0.049084410926016175}. Best is trial 41 with value: 0.88707247925018.\n",
      "[I 2025-01-05 12:16:19,437] Trial 52 finished with value: 0.8850998229301258 and parameters: {'model': 'GradientBoosting', 'n_estimators': 793, 'max_depth': 4, 'learning_rate': 0.04087841053256432}. Best is trial 41 with value: 0.88707247925018.\n",
      "[I 2025-01-05 12:16:24,064] Trial 53 finished with value: 0.8727052563391164 and parameters: {'model': 'GradientBoosting', 'n_estimators': 774, 'max_depth': 6, 'learning_rate': 0.04141563452455207}. Best is trial 41 with value: 0.88707247925018.\n",
      "[I 2025-01-05 12:16:27,974] Trial 54 finished with value: 0.8830626532279056 and parameters: {'model': 'GradientBoosting', 'n_estimators': 884, 'max_depth': 4, 'learning_rate': 0.06239317258970153}. Best is trial 41 with value: 0.88707247925018.\n",
      "[I 2025-01-05 12:16:30,838] Trial 55 finished with value: 0.8759298279681678 and parameters: {'model': 'GradientBoosting', 'n_estimators': 775, 'max_depth': 3, 'learning_rate': 0.03531273151959951}. Best is trial 41 with value: 0.88707247925018.\n",
      "[I 2025-01-05 12:16:31,377] Trial 56 finished with value: 0.8694010716392668 and parameters: {'model': 'GradientBoosting', 'n_estimators': 106, 'max_depth': 4, 'learning_rate': 0.05535992489537819}. Best is trial 41 with value: 0.88707247925018.\n",
      "[I 2025-01-05 12:16:32,119] Trial 57 finished with value: 0.7958337898051173 and parameters: {'model': 'AdaBoost', 'n_estimators': 904, 'learning_rate': 0.17553956974834464}. Best is trial 41 with value: 0.88707247925018.\n",
      "[I 2025-01-05 12:16:36,000] Trial 58 finished with value: 0.8790969585094344 and parameters: {'model': 'GradientBoosting', 'n_estimators': 737, 'max_depth': 5, 'learning_rate': 0.06831267446564436}. Best is trial 41 with value: 0.88707247925018.\n",
      "[I 2025-01-05 12:16:36,071] Trial 59 finished with value: 0.8664968507703819 and parameters: {'model': 'DecisionTree', 'max_depth': 18, 'min_samples_split': 7, 'min_samples_leaf': 3}. Best is trial 41 with value: 0.88707247925018.\n",
      "[I 2025-01-05 12:16:36,245] Trial 60 finished with value: 0.5320251908394635 and parameters: {'model': 'SVR', 'C': 1.7310967828767665e-05, 'epsilon': 0.010785306942561988, 'kernel': 'linear'}. Best is trial 41 with value: 0.88707247925018.\n",
      "[I 2025-01-05 12:16:39,895] Trial 61 finished with value: 0.8806301883692871 and parameters: {'model': 'GradientBoosting', 'n_estimators': 820, 'max_depth': 4, 'learning_rate': 0.04800837957693635}. Best is trial 41 with value: 0.88707247925018.\n",
      "[I 2025-01-05 12:16:42,877] Trial 62 finished with value: 0.8755795590253329 and parameters: {'model': 'GradientBoosting', 'n_estimators': 806, 'max_depth': 3, 'learning_rate': 0.03218225324140628}. Best is trial 41 with value: 0.88707247925018.\n",
      "[I 2025-01-05 12:16:46,717] Trial 63 finished with value: 0.8830267016906296 and parameters: {'model': 'GradientBoosting', 'n_estimators': 864, 'max_depth': 4, 'learning_rate': 0.049965457826827125}. Best is trial 41 with value: 0.88707247925018.\n",
      "[I 2025-01-05 12:16:52,168] Trial 64 finished with value: 0.8652097925378318 and parameters: {'model': 'GradientBoosting', 'n_estimators': 913, 'max_depth': 6, 'learning_rate': 0.07498117923775266}. Best is trial 41 with value: 0.88707247925018.\n",
      "[I 2025-01-05 12:16:52,240] Trial 65 finished with value: 0.8185996253714812 and parameters: {'model': 'KNeighbors', 'n_neighbors': 20, 'weights': 'distance', 'p': 2}. Best is trial 41 with value: 0.88707247925018.\n",
      "[I 2025-01-05 12:16:56,292] Trial 66 finished with value: 0.844781983670859 and parameters: {'model': 'RandomForest', 'n_estimators': 705, 'max_depth': 14, 'max_samples': 978, 'max_features': 977, 'min_samples_split': 6, 'min_samples_leaf': 8}. Best is trial 41 with value: 0.88707247925018.\n",
      "[I 2025-01-05 12:16:56,338] Trial 67 finished with value: -3.540788517148324 and parameters: {'model': 'Lasso', 'alpha': 0.08205745031590068, 'fit_intercept': False}. Best is trial 41 with value: 0.88707247925018.\n",
      "[I 2025-01-05 12:17:04,370] Trial 68 finished with value: 0.8582626316635503 and parameters: {'model': 'GradientBoosting', 'n_estimators': 791, 'max_depth': 11, 'learning_rate': 0.028860370421076115}. Best is trial 41 with value: 0.88707247925018.\n",
      "[I 2025-01-05 12:17:09,108] Trial 69 finished with value: 0.8783103362095326 and parameters: {'model': 'GradientBoosting', 'n_estimators': 934, 'max_depth': 5, 'learning_rate': 0.03882589316284298}. Best is trial 41 with value: 0.88707247925018.\n",
      "[I 2025-01-05 12:17:12,147] Trial 70 finished with value: 0.8795786719927616 and parameters: {'model': 'GradientBoosting', 'n_estimators': 863, 'max_depth': 3, 'learning_rate': 0.05329033496754029}. Best is trial 41 with value: 0.88707247925018.\n",
      "[I 2025-01-05 12:17:15,846] Trial 71 finished with value: 0.8830578673510964 and parameters: {'model': 'GradientBoosting', 'n_estimators': 843, 'max_depth': 4, 'learning_rate': 0.044365270886140354}. Best is trial 41 with value: 0.88707247925018.\n",
      "[I 2025-01-05 12:17:19,960] Trial 72 finished with value: 0.8868745493595719 and parameters: {'model': 'GradientBoosting', 'n_estimators': 959, 'max_depth': 4, 'learning_rate': 0.049111159936000355}. Best is trial 41 with value: 0.88707247925018.\n",
      "[I 2025-01-05 12:17:24,974] Trial 73 finished with value: 0.8836529061828932 and parameters: {'model': 'GradientBoosting', 'n_estimators': 979, 'max_depth': 5, 'learning_rate': 0.02314441872704672}. Best is trial 41 with value: 0.88707247925018.\n",
      "[I 2025-01-05 12:17:28,284] Trial 74 finished with value: 0.8767394883626637 and parameters: {'model': 'GradientBoosting', 'n_estimators': 935, 'max_depth': 3, 'learning_rate': 0.06968759764115359}. Best is trial 41 with value: 0.88707247925018.\n",
      "[I 2025-01-05 12:17:31,473] Trial 75 finished with value: 0.8855480804613095 and parameters: {'model': 'GradientBoosting', 'n_estimators': 742, 'max_depth': 4, 'learning_rate': 0.05941458058971452}. Best is trial 41 with value: 0.88707247925018.\n",
      "[I 2025-01-05 12:17:31,515] Trial 76 finished with value: 0.8041355105253378 and parameters: {'model': 'Ridge', 'alpha': 0.0005146480812454413, 'fit_intercept': True}. Best is trial 41 with value: 0.88707247925018.\n",
      "[I 2025-01-05 12:17:35,307] Trial 77 finished with value: 0.8798427498724996 and parameters: {'model': 'GradientBoosting', 'n_estimators': 744, 'max_depth': 5, 'learning_rate': 0.05876592841651383}. Best is trial 41 with value: 0.88707247925018.\n",
      "[I 2025-01-05 12:17:35,372] Trial 78 finished with value: 0.8394475295928622 and parameters: {'model': 'DecisionTree', 'max_depth': 7, 'min_samples_split': 8, 'min_samples_leaf': 3}. Best is trial 41 with value: 0.88707247925018.\n",
      "[I 2025-01-05 12:17:36,930] Trial 79 finished with value: 0.8041339263528215 and parameters: {'model': 'LinearRegression', 'fit_intercept': False}. Best is trial 41 with value: 0.88707247925018.\n",
      "[I 2025-01-05 12:17:39,346] Trial 80 finished with value: 0.8787799123018499 and parameters: {'model': 'GradientBoosting', 'n_estimators': 687, 'max_depth': 3, 'learning_rate': 0.06210363784498221}. Best is trial 41 with value: 0.88707247925018.\n",
      "[I 2025-01-05 12:17:42,737] Trial 81 finished with value: 0.8854212238367211 and parameters: {'model': 'GradientBoosting', 'n_estimators': 786, 'max_depth': 4, 'learning_rate': 0.050479966812944456}. Best is trial 41 with value: 0.88707247925018.\n",
      "[I 2025-01-05 12:17:46,095] Trial 82 finished with value: 0.8818547939151056 and parameters: {'model': 'GradientBoosting', 'n_estimators': 773, 'max_depth': 4, 'learning_rate': 0.05219290735507294}. Best is trial 41 with value: 0.88707247925018.\n",
      "[I 2025-01-05 12:17:49,272] Trial 83 finished with value: 0.8822623751576584 and parameters: {'model': 'GradientBoosting', 'n_estimators': 719, 'max_depth': 4, 'learning_rate': 0.03610593411588599}. Best is trial 41 with value: 0.88707247925018.\n",
      "[I 2025-01-05 12:17:52,492] Trial 84 finished with value: 0.8765548381441735 and parameters: {'model': 'GradientBoosting', 'n_estimators': 629, 'max_depth': 5, 'learning_rate': 0.07293459092403223}. Best is trial 41 with value: 0.88707247925018.\n",
      "[I 2025-01-05 12:17:53,496] Trial 85 finished with value: 0.7964680485857331 and parameters: {'model': 'AdaBoost', 'n_estimators': 753, 'learning_rate': 0.18700974694100295}. Best is trial 41 with value: 0.88707247925018.\n",
      "[I 2025-01-05 12:17:53,565] Trial 86 finished with value: 0.8403657819380794 and parameters: {'model': 'KNeighbors', 'n_neighbors': 13, 'weights': 'distance', 'p': 1}. Best is trial 41 with value: 0.88707247925018.\n",
      "[I 2025-01-05 12:17:57,438] Trial 87 finished with value: 0.8810456111739642 and parameters: {'model': 'GradientBoosting', 'n_estimators': 890, 'max_depth': 4, 'learning_rate': 0.01731822727697059}. Best is trial 41 with value: 0.88707247925018.\n",
      "[I 2025-01-05 12:18:00,417] Trial 88 finished with value: 0.8078637965275589 and parameters: {'model': 'RandomForest', 'n_estimators': 795, 'max_depth': 6, 'max_samples': 577, 'max_features': 30, 'min_samples_split': 10, 'min_samples_leaf': 10}. Best is trial 41 with value: 0.88707247925018.\n",
      "[I 2025-01-05 12:18:00,590] Trial 89 finished with value: 0.16788642514776075 and parameters: {'model': 'SVR', 'C': 0.019144054977509473, 'epsilon': 0.09916155713234362, 'kernel': 'poly'}. Best is trial 41 with value: 0.88707247925018.\n",
      "[I 2025-01-05 12:18:00,631] Trial 90 finished with value: -4.631243838896805 and parameters: {'model': 'Lasso', 'alpha': 0.1466928004841938, 'fit_intercept': False}. Best is trial 41 with value: 0.88707247925018.\n",
      "[I 2025-01-05 12:18:03,611] Trial 91 finished with value: 0.8791439338297733 and parameters: {'model': 'GradientBoosting', 'n_estimators': 830, 'max_depth': 3, 'learning_rate': 0.04740199109302484}. Best is trial 41 with value: 0.88707247925018.\n",
      "[I 2025-01-05 12:18:07,053] Trial 92 finished with value: 0.8810327466030653 and parameters: {'model': 'GradientBoosting', 'n_estimators': 795, 'max_depth': 4, 'learning_rate': 0.054542600109367984}. Best is trial 41 with value: 0.88707247925018.\n",
      "[I 2025-01-05 12:18:11,495] Trial 93 finished with value: 0.8767381168162275 and parameters: {'model': 'GradientBoosting', 'n_estimators': 872, 'max_depth': 5, 'learning_rate': 0.03957138591376437}. Best is trial 41 with value: 0.88707247925018.\n",
      "[I 2025-01-05 12:18:14,406] Trial 94 finished with value: 0.8833055412181243 and parameters: {'model': 'GradientBoosting', 'n_estimators': 674, 'max_depth': 4, 'learning_rate': 0.06350916062796072}. Best is trial 41 with value: 0.88707247925018.\n",
      "[I 2025-01-05 12:18:17,301] Trial 95 finished with value: 0.8769335065881777 and parameters: {'model': 'GradientBoosting', 'n_estimators': 822, 'max_depth': 3, 'learning_rate': 0.07799459654125324}. Best is trial 41 with value: 0.88707247925018.\n",
      "[I 2025-01-05 12:18:20,576] Trial 96 finished with value: 0.8870648596464352 and parameters: {'model': 'GradientBoosting', 'n_estimators': 760, 'max_depth': 4, 'learning_rate': 0.02882730027022111}. Best is trial 41 with value: 0.88707247925018.\n",
      "[I 2025-01-05 12:18:24,245] Trial 97 finished with value: 0.8842103354913788 and parameters: {'model': 'GradientBoosting', 'n_estimators': 715, 'max_depth': 5, 'learning_rate': 0.029354996077019968}. Best is trial 41 with value: 0.88707247925018.\n",
      "[I 2025-01-05 12:18:26,910] Trial 98 finished with value: 0.8714162514052732 and parameters: {'model': 'GradientBoosting', 'n_estimators': 753, 'max_depth': 3, 'learning_rate': 0.02716839604037679}. Best is trial 41 with value: 0.88707247925018.\n",
      "[I 2025-01-05 12:18:26,954] Trial 99 finished with value: 0.8041348186212491 and parameters: {'model': 'Ridge', 'alpha': 0.0002898264056792453, 'fit_intercept': True}. Best is trial 41 with value: 0.88707247925018.\n",
      "[I 2025-01-05 12:18:30,298] Trial 100 finished with value: 0.8832214490747733 and parameters: {'model': 'GradientBoosting', 'n_estimators': 777, 'max_depth': 4, 'learning_rate': 0.04158149343857546}. Best is trial 41 with value: 0.88707247925018.\n",
      "[I 2025-01-05 12:18:33,922] Trial 101 finished with value: 0.8827231800581059 and parameters: {'model': 'GradientBoosting', 'n_estimators': 841, 'max_depth': 4, 'learning_rate': 0.04767366277524094}. Best is trial 41 with value: 0.88707247925018.\n",
      "[I 2025-01-05 12:18:37,378] Trial 102 finished with value: 0.8865169542774499 and parameters: {'model': 'GradientBoosting', 'n_estimators': 804, 'max_depth': 4, 'learning_rate': 0.0571935517605548}. Best is trial 41 with value: 0.88707247925018.\n",
      "[I 2025-01-05 12:18:42,820] Trial 103 finished with value: 0.864838167306385 and parameters: {'model': 'GradientBoosting', 'n_estimators': 651, 'max_depth': 9, 'learning_rate': 0.05652610444777293}. Best is trial 41 with value: 0.88707247925018.\n",
      "[I 2025-01-05 12:18:46,984] Trial 104 finished with value: 0.8837456691725635 and parameters: {'model': 'GradientBoosting', 'n_estimators': 967, 'max_depth': 4, 'learning_rate': 0.062480655708605656}. Best is trial 41 with value: 0.88707247925018.\n",
      "[I 2025-01-05 12:18:48,470] Trial 105 finished with value: 0.804133926352794 and parameters: {'model': 'LinearRegression', 'fit_intercept': True}. Best is trial 41 with value: 0.88707247925018.\n",
      "[I 2025-01-05 12:18:50,610] Trial 106 finished with value: 0.8702800751317361 and parameters: {'model': 'GradientBoosting', 'n_estimators': 578, 'max_depth': 3, 'learning_rate': 0.0355956016640612}. Best is trial 41 with value: 0.88707247925018.\n",
      "[I 2025-01-05 12:18:50,675] Trial 107 finished with value: 0.8101081681872098 and parameters: {'model': 'DecisionTree', 'max_depth': 6, 'min_samples_split': 5, 'min_samples_leaf': 6}. Best is trial 41 with value: 0.88707247925018.\n",
      "[I 2025-01-05 12:18:54,580] Trial 108 finished with value: 0.8751088520639749 and parameters: {'model': 'GradientBoosting', 'n_estimators': 759, 'max_depth': 5, 'learning_rate': 0.0856451969347076}. Best is trial 41 with value: 0.88707247925018.\n",
      "[I 2025-01-05 12:18:58,050] Trial 109 finished with value: 0.8854403749825379 and parameters: {'model': 'GradientBoosting', 'n_estimators': 800, 'max_depth': 4, 'learning_rate': 0.0651557509533884}. Best is trial 41 with value: 0.88707247925018.\n",
      "[I 2025-01-05 12:18:59,481] Trial 110 finished with value: 0.8018249424719757 and parameters: {'model': 'AdaBoost', 'n_estimators': 724, 'learning_rate': 0.15565805015179018}. Best is trial 41 with value: 0.88707247925018.\n",
      "[I 2025-01-05 12:19:02,986] Trial 111 finished with value: 0.8831249589726464 and parameters: {'model': 'GradientBoosting', 'n_estimators': 809, 'max_depth': 4, 'learning_rate': 0.068268606299081}. Best is trial 41 with value: 0.88707247925018.\n",
      "[I 2025-01-05 12:19:06,684] Trial 112 finished with value: 0.8814595748598766 and parameters: {'model': 'GradientBoosting', 'n_estimators': 852, 'max_depth': 4, 'learning_rate': 0.05412242279733541}. Best is trial 41 with value: 0.88707247925018.\n",
      "[I 2025-01-05 12:19:10,657] Trial 113 finished with value: 0.8793643072891691 and parameters: {'model': 'GradientBoosting', 'n_estimators': 778, 'max_depth': 5, 'learning_rate': 0.059778151590883816}. Best is trial 41 with value: 0.88707247925018.\n",
      "[I 2025-01-05 12:19:13,813] Trial 114 finished with value: 0.8759775089373137 and parameters: {'model': 'GradientBoosting', 'n_estimators': 889, 'max_depth': 3, 'learning_rate': 0.05020038996414397}. Best is trial 41 with value: 0.88707247925018.\n",
      "[I 2025-01-05 12:19:14,285] Trial 115 finished with value: 0.8056868982029598 and parameters: {'model': 'SVR', 'C': 983.0762776773098, 'epsilon': 0.050293599942474204, 'kernel': 'rbf'}. Best is trial 41 with value: 0.88707247925018.\n",
      "[I 2025-01-05 12:19:17,745] Trial 116 finished with value: 0.8751521930921847 and parameters: {'model': 'GradientBoosting', 'n_estimators': 799, 'max_depth': 4, 'learning_rate': 0.01078674562366699}. Best is trial 41 with value: 0.88707247925018.\n",
      "[I 2025-01-05 12:19:21,649] Trial 117 finished with value: 0.8544441971044743 and parameters: {'model': 'RandomForest', 'n_estimators': 833, 'max_depth': 20, 'max_samples': 460, 'max_features': 472, 'min_samples_split': 6, 'min_samples_leaf': 4}. Best is trial 41 with value: 0.88707247925018.\n",
      "[I 2025-01-05 12:19:21,711] Trial 118 finished with value: 0.7667447655152482 and parameters: {'model': 'KNeighbors', 'n_neighbors': 12, 'weights': 'uniform', 'p': 2}. Best is trial 41 with value: 0.88707247925018.\n",
      "[I 2025-01-05 12:19:25,321] Trial 119 finished with value: 0.8838795996117623 and parameters: {'model': 'GradientBoosting', 'n_estimators': 696, 'max_depth': 5, 'learning_rate': 0.04255961917290827}. Best is trial 41 with value: 0.88707247925018.\n",
      "[I 2025-01-05 12:19:25,364] Trial 120 finished with value: -8.029326170802438 and parameters: {'model': 'Lasso', 'alpha': 0.46225961233667745, 'fit_intercept': False}. Best is trial 41 with value: 0.88707247925018.\n",
      "[I 2025-01-05 12:19:28,933] Trial 121 finished with value: 0.8833845957918164 and parameters: {'model': 'GradientBoosting', 'n_estimators': 818, 'max_depth': 4, 'learning_rate': 0.046118824698762724}. Best is trial 41 with value: 0.88707247925018.\n",
      "[I 2025-01-05 12:19:32,111] Trial 122 finished with value: 0.8882950961077108 and parameters: {'model': 'GradientBoosting', 'n_estimators': 733, 'max_depth': 4, 'learning_rate': 0.06439053651282328}. Best is trial 122 with value: 0.8882950961077108.\n",
      "[I 2025-01-05 12:19:35,300] Trial 123 finished with value: 0.8823909622314455 and parameters: {'model': 'GradientBoosting', 'n_estimators': 737, 'max_depth': 4, 'learning_rate': 0.06550561118924005}. Best is trial 122 with value: 0.8882950961077108.\n",
      "[I 2025-01-05 12:19:41,102] Trial 124 finished with value: 0.8559082025518494 and parameters: {'model': 'GradientBoosting', 'n_estimators': 773, 'max_depth': 8, 'learning_rate': 0.05741160804337303}. Best is trial 122 with value: 0.8882950961077108.\n",
      "[I 2025-01-05 12:19:43,695] Trial 125 finished with value: 0.8789301130877252 and parameters: {'model': 'GradientBoosting', 'n_estimators': 729, 'max_depth': 3, 'learning_rate': 0.05164416117042408}. Best is trial 122 with value: 0.8882950961077108.\n",
      "[I 2025-01-05 12:19:45,385] Trial 126 finished with value: 0.8850475797619246 and parameters: {'model': 'GradientBoosting', 'n_estimators': 381, 'max_depth': 4, 'learning_rate': 0.07399820324985454}. Best is trial 122 with value: 0.8882950961077108.\n",
      "[I 2025-01-05 12:19:49,466] Trial 127 finished with value: 0.8780765037228717 and parameters: {'model': 'GradientBoosting', 'n_estimators': 796, 'max_depth': 5, 'learning_rate': 0.06699807746085194}. Best is trial 122 with value: 0.8882950961077108.\n",
      "[I 2025-01-05 12:19:57,616] Trial 128 finished with value: 0.8564709700000034 and parameters: {'model': 'GradientBoosting', 'n_estimators': 868, 'max_depth': 10, 'learning_rate': 0.05704564069646663}. Best is trial 122 with value: 0.8882950961077108.\n",
      "[I 2025-01-05 12:19:57,662] Trial 129 finished with value: 0.8041357002161695 and parameters: {'model': 'Ridge', 'alpha': 0.0005762965141620441, 'fit_intercept': True}. Best is trial 122 with value: 0.8882950961077108.\n",
      "[I 2025-01-05 12:20:00,421] Trial 130 finished with value: 0.8752014326981038 and parameters: {'model': 'GradientBoosting', 'n_estimators': 758, 'max_depth': 3, 'learning_rate': 0.03298670501479249}. Best is trial 122 with value: 0.8882950961077108.\n",
      "[I 2025-01-05 12:20:01,337] Trial 131 finished with value: 0.8835561098462198 and parameters: {'model': 'GradientBoosting', 'n_estimators': 198, 'max_depth': 4, 'learning_rate': 0.07366566284928365}. Best is trial 122 with value: 0.8882950961077108.\n",
      "[I 2025-01-05 12:20:02,674] Trial 132 finished with value: 0.8777198656938632 and parameters: {'model': 'GradientBoosting', 'n_estimators': 292, 'max_depth': 4, 'learning_rate': 0.08015888984573973}. Best is trial 122 with value: 0.8882950961077108.\n",
      "[I 2025-01-05 12:20:06,417] Trial 133 finished with value: 0.8836798492658221 and parameters: {'model': 'GradientBoosting', 'n_estimators': 843, 'max_depth': 4, 'learning_rate': 0.07038185835308582}. Best is trial 122 with value: 0.8882950961077108.\n",
      "[I 2025-01-05 12:20:08,188] Trial 134 finished with value: 0.8767236768277126 and parameters: {'model': 'GradientBoosting', 'n_estimators': 392, 'max_depth': 4, 'learning_rate': 0.022917402149056326}. Best is trial 122 with value: 0.8882950961077108.\n",
      "[I 2025-01-05 12:20:12,898] Trial 135 finished with value: 0.8754758757964768 and parameters: {'model': 'GradientBoosting', 'n_estimators': 916, 'max_depth': 5, 'learning_rate': 0.06081376918988607}. Best is trial 122 with value: 0.8882950961077108.\n",
      "[I 2025-01-05 12:20:13,971] Trial 136 finished with value: 0.8041339263528215 and parameters: {'model': 'LinearRegression', 'fit_intercept': False}. Best is trial 122 with value: 0.8882950961077108.\n",
      "[I 2025-01-05 12:20:17,362] Trial 137 finished with value: 0.8837077553811958 and parameters: {'model': 'GradientBoosting', 'n_estimators': 782, 'max_depth': 4, 'learning_rate': 0.09741428883468453}. Best is trial 122 with value: 0.8882950961077108.\n",
      "[I 2025-01-05 12:20:19,213] Trial 138 finished with value: 0.8738067411688684 and parameters: {'model': 'GradientBoosting', 'n_estimators': 517, 'max_depth': 3, 'learning_rate': 0.04967883892964436}. Best is trial 122 with value: 0.8882950961077108.\n",
      "[I 2025-01-05 12:20:23,302] Trial 139 finished with value: 0.8828825632206101 and parameters: {'model': 'GradientBoosting', 'n_estimators': 945, 'max_depth': 4, 'learning_rate': 0.04359575359993491}. Best is trial 122 with value: 0.8882950961077108.\n",
      "[I 2025-01-05 12:20:24,325] Trial 140 finished with value: 0.7986938284782782 and parameters: {'model': 'AdaBoost', 'n_estimators': 811, 'learning_rate': 0.12966583958278838}. Best is trial 122 with value: 0.8882950961077108.\n",
      "[I 2025-01-05 12:20:27,619] Trial 141 finished with value: 0.8828028256361627 and parameters: {'model': 'GradientBoosting', 'n_estimators': 763, 'max_depth': 4, 'learning_rate': 0.05334626537332285}. Best is trial 122 with value: 0.8882950961077108.\n",
      "[I 2025-01-05 12:20:27,687] Trial 142 finished with value: 0.8067998364776425 and parameters: {'model': 'DecisionTree', 'max_depth': 5, 'min_samples_split': 8, 'min_samples_leaf': 2}. Best is trial 122 with value: 0.8882950961077108.\n",
      "[I 2025-01-05 12:20:31,312] Trial 143 finished with value: 0.8858839994864314 and parameters: {'model': 'GradientBoosting', 'n_estimators': 825, 'max_depth': 4, 'learning_rate': 0.03685351962786822}. Best is trial 122 with value: 0.8882950961077108.\n",
      "[I 2025-01-05 12:20:35,668] Trial 144 finished with value: 0.8818573365545583 and parameters: {'model': 'GradientBoosting', 'n_estimators': 995, 'max_depth': 4, 'learning_rate': 0.041105644424693194}. Best is trial 122 with value: 0.8882950961077108.\n",
      "[I 2025-01-05 12:20:38,677] Trial 145 finished with value: 0.8775156348277471 and parameters: {'model': 'GradientBoosting', 'n_estimators': 852, 'max_depth': 3, 'learning_rate': 0.06436155195169813}. Best is trial 122 with value: 0.8882950961077108.\n",
      "[I 2025-01-05 12:20:41,464] Trial 146 finished with value: 0.8844031550766488 and parameters: {'model': 'GradientBoosting', 'n_estimators': 642, 'max_depth': 4, 'learning_rate': 0.03633915926982333}. Best is trial 122 with value: 0.8882950961077108.\n",
      "[I 2025-01-05 12:20:45,710] Trial 147 finished with value: 0.8828001070584859 and parameters: {'model': 'GradientBoosting', 'n_estimators': 828, 'max_depth': 5, 'learning_rate': 0.04629305149317809}. Best is trial 122 with value: 0.8882950961077108.\n",
      "[I 2025-01-05 12:20:53,353] Trial 148 finished with value: 0.8524416809614557 and parameters: {'model': 'GradientBoosting', 'n_estimators': 701, 'max_depth': 12, 'learning_rate': 0.05811900959521599}. Best is trial 122 with value: 0.8882950961077108.\n",
      "[I 2025-01-05 12:21:11,061] Trial 149 finished with value: 0.8075136608244402 and parameters: {'model': 'SVR', 'C': 0.021084339699464667, 'epsilon': 0.061654184037382244, 'kernel': 'linear'}. Best is trial 122 with value: 0.8882950961077108.\n"
     ]
    }
   ],
   "source": [
    "# Create an Optuna study\n",
    "study = optuna.create_study(direction='maximize')  # Mazimise R2\n",
    "study.optimize(objective, n_trials=150)"
   ]
  },
  {
   "cell_type": "markdown",
   "id": "6c175029-8b42-4c46-b2c9-248a43e3765d",
   "metadata": {},
   "source": [
    "Print the best hyperparameters found by Optuna"
   ]
  },
  {
   "cell_type": "code",
   "execution_count": 136,
   "id": "e3730358-7227-437b-8bf2-28e238a46807",
   "metadata": {},
   "outputs": [
    {
     "name": "stdout",
     "output_type": "stream",
     "text": [
      "Best hyperparameters:  {'model': 'GradientBoosting', 'n_estimators': 733, 'max_depth': 4, 'learning_rate': 0.06439053651282328}\n"
     ]
    }
   ],
   "source": [
    "print(\"Best hyperparameters: \", study.best_params)"
   ]
  },
  {
   "cell_type": "markdown",
   "id": "aab73a46-e177-45d0-a917-e4e4c8cff964",
   "metadata": {},
   "source": [
    "Print the best trial value (Highest R2)"
   ]
  },
  {
   "cell_type": "code",
   "execution_count": 137,
   "id": "280903b5-17f9-41fa-bab2-ef56733e9549",
   "metadata": {},
   "outputs": [
    {
     "name": "stdout",
     "output_type": "stream",
     "text": [
      "Best R2 score:  0.8882950961077108\n"
     ]
    }
   ],
   "source": [
    "print(\"Best R2 score: \", study.best_value)"
   ]
  },
  {
   "cell_type": "markdown",
   "id": "ba9a5ce5-1874-4911-9b76-8ec366aabb30",
   "metadata": {},
   "source": [
    "Out of the model tested Gradient Boost is giving good results "
   ]
  },
  {
   "cell_type": "code",
   "execution_count": null,
   "id": "d28f0cb6-95c0-4693-a08a-b93e60326321",
   "metadata": {},
   "outputs": [],
   "source": []
  }
 ],
 "metadata": {
  "kernelspec": {
   "display_name": "Python 3 (ipykernel)",
   "language": "python",
   "name": "python3"
  },
  "language_info": {
   "codemirror_mode": {
    "name": "ipython",
    "version": 3
   },
   "file_extension": ".py",
   "mimetype": "text/x-python",
   "name": "python",
   "nbconvert_exporter": "python",
   "pygments_lexer": "ipython3",
   "version": "3.13.1"
  }
 },
 "nbformat": 4,
 "nbformat_minor": 5
}
